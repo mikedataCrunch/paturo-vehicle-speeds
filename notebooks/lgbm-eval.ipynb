{
 "cells": [
  {
   "cell_type": "markdown",
   "id": "0d45db05",
   "metadata": {},
   "source": [
    "# ML: Evaluation of performance and interpretation (SHAP)"
   ]
  },
  {
   "cell_type": "code",
   "execution_count": 1,
   "id": "8bc094af",
   "metadata": {
    "ExecuteTime": {
     "end_time": "2022-06-05T16:35:48.985040Z",
     "start_time": "2022-06-05T16:35:39.242172Z"
    }
   },
   "outputs": [],
   "source": [
    "import pandas as pd\n",
    "import numpy as np\n",
    "import time\n",
    "import seaborn as sns\n",
    "import matplotlib.pyplot as plt\n",
    "import shap\n",
    "import lightgbm as lgb\n",
    "\n",
    "from sklearn.metrics import r2_score, mean_squared_error\n",
    "from sklearn.metrics import mean_absolute_error, mean_absolute_percentage_error\n",
    "\n",
    "from glob import glob\n",
    "import os\n",
    "import optuna\n",
    "import joblib\n",
    "import json\n",
    "import pickle\n",
    "from tqdm import tqdm"
   ]
  },
  {
   "cell_type": "markdown",
   "id": "af531157",
   "metadata": {},
   "source": [
    "## Load best parameters"
   ]
  },
  {
   "cell_type": "code",
   "execution_count": 2,
   "id": "d7c52c54",
   "metadata": {
    "ExecuteTime": {
     "end_time": "2022-06-05T16:35:49.469274Z",
     "start_time": "2022-06-05T16:35:48.992844Z"
    }
   },
   "outputs": [],
   "source": [
    "agg = 'mean'\n",
    "lookback_window = 60\n",
    "run_date = '2022-06-02'\n",
    "thresh = 12\n",
    "\n",
    "source_dir = f'../experiments/window-{lookback_window}-filter-{thresh}/{agg}/'\n",
    "study_name = f'{agg}-window-{lookback_window}-{run_date}'\n",
    "storage_path = f'sqlite:///{source_dir}/{study_name}.db'\n",
    "\n",
    "study = optuna.load_study(study_name=study_name, storage=storage_path)\n",
    "res = study.trials_dataframe(attrs=('number', 'value', 'params', 'state', 'duration'))"
   ]
  },
  {
   "cell_type": "code",
   "execution_count": 3,
   "id": "9e8a7439",
   "metadata": {
    "ExecuteTime": {
     "end_time": "2022-06-05T16:35:49.508489Z",
     "start_time": "2022-06-05T16:35:49.474736Z"
    }
   },
   "outputs": [
    {
     "name": "stdout",
     "output_type": "stream",
     "text": [
      "Best (RMSE) Score:  6.109755145856355\n"
     ]
    },
    {
     "data": {
      "text/plain": [
       "{'tree_learner': 'data',\n",
       " 'seed': 11,\n",
       " 'verbose': -1,\n",
       " 'boosting_type': 'goss',\n",
       " 'learning_rate': 0.04517448957087013,\n",
       " 'max_bin': 111,\n",
       " 'min_data_in_leaf': 147,\n",
       " 'num_iterations': 623,\n",
       " 'num_leaves': 408,\n",
       " 'objective': 'regression',\n",
       " 'other_rate': 0.14647135743253362,\n",
       " 'top_rate': 0.80372847012092}"
      ]
     },
     "execution_count": 3,
     "metadata": {},
     "output_type": "execute_result"
    }
   ],
   "source": [
    "# get current best params\n",
    "best_params = {}\n",
    "for key, value in res.sort_values('value', ascending=True).iloc[0].to_dict().items():\n",
    "    if key.startswith('params_'):\n",
    "        best_params[key.replace('params_', '')] = value\n",
    "    elif key == 'value':\n",
    "        print(\"Best (RMSE) Score: \", value)\n",
    "        \n",
    "fixed_params = {\n",
    "    'tree_learner': 'data',\n",
    "    'seed':11,\n",
    "    'verbose': -1,\n",
    "}\n",
    "\n",
    "lgb_params = {}\n",
    "lgb_params.update(fixed_params)\n",
    "lgb_params.update(best_params)\n",
    "\n",
    "if lgb_params['boosting_type'] == 'dart':\n",
    "    del lgb_params['top_rate'], lgb_params['other_rate']\n",
    "else:    \n",
    "    top_rate = lgb_params['top_rate']\n",
    "    other_rate = lgb_params['other_rate']\n",
    "    \n",
    "    # corrects the top_rate/other_rate values to only sum to 1\n",
    "    if (top_rate + other_rate) > 1.0:\n",
    "        lgb_params['other_rate'] = other_rate / (top_rate + other_rate)\n",
    "        lgb_params['top_rate'] = top_rate / (top_rate + other_rate)\n",
    "lgb_params"
   ]
  },
  {
   "cell_type": "markdown",
   "id": "5ea0e567",
   "metadata": {},
   "source": [
    "## Load data and filter"
   ]
  },
  {
   "cell_type": "code",
   "execution_count": 4,
   "id": "f60fd937",
   "metadata": {
    "ExecuteTime": {
     "end_time": "2022-06-05T16:35:49.520808Z",
     "start_time": "2022-06-05T16:35:49.513248Z"
    }
   },
   "outputs": [],
   "source": [
    "featname_map = {\n",
    "    'dayofweek': 'Day',\n",
    "    'hour': 'Hour',\n",
    "    'number_of_lanes': 'Number of Lanes',\n",
    "    'speed_limit_kph': 'Speed Limit',\n",
    "    'pix_business_4x4' : 'Nearby Commercial',\n",
    "    'pix_residential_4x4': 'Nearby Residential', \n",
    "    'pix_industrial_4x4' : 'Nearby Industrial',\n",
    "    'pix_institutional_4x4' : 'Nearby Institutional',\n",
    "    'elevation' : 'Elevation',\n",
    "}"
   ]
  },
  {
   "cell_type": "code",
   "execution_count": 5,
   "id": "39a95301",
   "metadata": {
    "ExecuteTime": {
     "end_time": "2022-06-05T16:35:58.374253Z",
     "start_time": "2022-06-05T16:35:49.525511Z"
    }
   },
   "outputs": [],
   "source": [
    "data_dir = f'../datasets/inference/window-{lookback_window}-filter-{thresh}'\n",
    "\n",
    "# load data\n",
    "test = pd.read_csv(f'{data_dir}/{agg}-window-{lookback_window}-test-{run_date}.csv')\n",
    "retrain = pd.read_csv(f'{data_dir}/{agg}-window-{lookback_window}-retrain-{run_date}.csv')"
   ]
  },
  {
   "cell_type": "code",
   "execution_count": 6,
   "id": "f9714f16",
   "metadata": {
    "ExecuteTime": {
     "end_time": "2022-06-05T16:35:58.382931Z",
     "start_time": "2022-06-05T16:35:58.377324Z"
    }
   },
   "outputs": [
    {
     "name": "stdout",
     "output_type": "stream",
     "text": [
      "Retrain shape:  (1067001, 43)\n",
      "Test shape:  (266751, 43)\n"
     ]
    }
   ],
   "source": [
    "print(\"Retrain shape: \", retrain.shape)\n",
    "print(\"Test shape: \", test.shape)"
   ]
  },
  {
   "cell_type": "code",
   "execution_count": 7,
   "id": "6f2c1c4b",
   "metadata": {
    "ExecuteTime": {
     "end_time": "2022-06-05T16:35:58.391950Z",
     "start_time": "2022-06-05T16:35:58.385000Z"
    }
   },
   "outputs": [
    {
     "data": {
      "text/plain": [
       "[0, 2]"
      ]
     },
     "execution_count": 7,
     "metadata": {},
     "output_type": "execute_result"
    }
   ],
   "source": [
    "# usecols for ML\n",
    "discrete_num_cols = ['number_of_lanes', 'speed_limit_kph',]\n",
    "building_types = ['residential', 'business', 'industrial', 'institutional']\n",
    "pixel_size = '4x4'\n",
    "landuse_cols = [f'pix_{type_}_{pixel_size}' for type_ in building_types]\n",
    "num_cols = landuse_cols + discrete_num_cols + ['elevation']\n",
    "\n",
    "# cat cols\n",
    "cat_cols = ['hour', 'dayofweek']\n",
    "features = sorted(cat_cols + num_cols) # sort for reference in feature order\n",
    "cat_cols_index = [index for (index, col) in enumerate(features) if col in cat_cols]\n",
    "cat_cols_index"
   ]
  },
  {
   "cell_type": "code",
   "execution_count": 8,
   "id": "47fef988",
   "metadata": {
    "ExecuteTime": {
     "end_time": "2022-06-05T16:35:58.399572Z",
     "start_time": "2022-06-05T16:35:58.393998Z"
    }
   },
   "outputs": [],
   "source": [
    "results_dir = f\"../results/window-{lookback_window}-filter-{thresh}\"\n",
    "column_labels_dir = \"column-labels\"\n",
    "save_dir = os.path.join(results_dir, column_labels_dir)\n",
    "if not os.path.exists(save_dir):\n",
    "    os.makedirs(save_dir)\n",
    "\n",
    "# write feature order to file as reference\n",
    "with open(f'{save_dir}/{study_name}-columnrefs.pickle', 'wb') as f:\n",
    "    pickle.dump(features, f)"
   ]
  },
  {
   "cell_type": "code",
   "execution_count": 9,
   "id": "e4787c3f",
   "metadata": {
    "ExecuteTime": {
     "end_time": "2022-06-05T16:35:58.458243Z",
     "start_time": "2022-06-05T16:35:58.402621Z"
    }
   },
   "outputs": [],
   "source": [
    "# use recomputed_speed\n",
    "X_train, y_train = retrain[features], retrain['agg_speed']\n",
    "X_test, y_test = test[features], test['agg_speed']"
   ]
  },
  {
   "cell_type": "code",
   "execution_count": null,
   "id": "a9712019",
   "metadata": {
    "ExecuteTime": {
     "start_time": "2022-06-05T16:35:39.074Z"
    }
   },
   "outputs": [
    {
     "name": "stderr",
     "output_type": "stream",
     "text": [
      "Found `num_iterations` in params. Will use it instead of argument\n",
      "Using categorical_feature in Dataset.\n"
     ]
    },
    {
     "name": "stdout",
     "output_type": "stream",
     "text": [
      "[LightGBM] [Warning] min_data_in_leaf is set=147, min_child_samples=20 will be ignored. Current value: min_data_in_leaf=147\n"
     ]
    }
   ],
   "source": [
    "%%time\n",
    "model = lgb.LGBMRegressor(**lgb_params)\n",
    "model.fit(X_train, y_train, categorical_feature=cat_cols_index)"
   ]
  },
  {
   "cell_type": "code",
   "execution_count": null,
   "id": "7aa7be9a",
   "metadata": {
    "ExecuteTime": {
     "start_time": "2022-06-05T16:35:39.075Z"
    }
   },
   "outputs": [],
   "source": [
    "# save model\n",
    "save_dir = os.path.join(results_dir, 'models')\n",
    "if not os.path.exists(save_dir):\n",
    "    os.makedirs(save_dir)\n",
    "    \n",
    "model.booster_.save_model(f'{save_dir}/{study_name}-model.txt')"
   ]
  },
  {
   "cell_type": "code",
   "execution_count": null,
   "id": "e290d10c",
   "metadata": {
    "ExecuteTime": {
     "start_time": "2022-06-05T16:35:39.076Z"
    }
   },
   "outputs": [],
   "source": [
    "# save y-yhat\n",
    "y_pred = model.predict(X_test)\n",
    "y_true = y_test.values\n",
    "\n",
    "y_yhat = {\n",
    "    'true': list(y_true),\n",
    "    'pred' : list(y_pred)\n",
    "}\n",
    "\n",
    "save_dir = os.path.join(results_dir, 'predictions')\n",
    "if not os.path.exists(save_dir):\n",
    "    os.makedirs(save_dir)\n",
    "    \n",
    "with open(f'{save_dir}/{study_name}-preds.json', 'w') as f:\n",
    "    json.dump(y_yhat, f)"
   ]
  },
  {
   "cell_type": "code",
   "execution_count": null,
   "id": "211dd525",
   "metadata": {
    "ExecuteTime": {
     "start_time": "2022-06-05T16:35:39.077Z"
    }
   },
   "outputs": [],
   "source": [
    "def get_score(y_true, y_preds):\n",
    "    return r2_score(y_true, y_preds)\n",
    "def rmse(y_true, y_pred):\n",
    "    rmse = np.sqrt(mean_squared_error(y_true, y_pred))\n",
    "    return rmse\n",
    "\n",
    "print(\"R2: \", get_score(y_true, y_pred))\n",
    "print(\"RMSE: \", rmse(y_true, y_pred))\n",
    "print(\"MAE: \", mean_absolute_error(y_true, y_pred))\n",
    "print(\"MAPE: \", mean_absolute_percentage_error(y_true, y_pred))\n",
    "# MAPE spikes because of y_true having values of zero, because of the division by epsilon"
   ]
  },
  {
   "cell_type": "code",
   "execution_count": null,
   "id": "41a682bb",
   "metadata": {
    "ExecuteTime": {
     "start_time": "2022-06-05T16:35:39.077Z"
    }
   },
   "outputs": [],
   "source": [
    "def plot_lgb_yyhat(y_true, y_pred, title, ax):\n",
    "    temp = pd.DataFrame()\n",
    "    temp['True Value'] = y_true\n",
    "    temp['Predicted Value'] = y_pred\n",
    "    temp.plot(kind='scatter', x='True Value', y='Predicted Value',\n",
    "              ax=ax, alpha=0.1, c='green', marker='*')\n",
    "    \n",
    "    ax.set_title(title, fontsize=18)\n",
    "    ax.set_xlabel('True Value', fontsize=12)\n",
    "    ax.set_ylabel('Predicted Value', fontsize=12)\n",
    "\n",
    "    ax.set_ylim([i for i in ax.get_xlim()])\n",
    "    \n",
    "    # diagonal perfect prediction reference\n",
    "    ax.plot([0, 1], [0, 1], transform=ax.transAxes, c='black',\n",
    "                   label='Perfect Prediction')\n",
    "    ax.legend(fontsize=15, loc='upper left')\n",
    "    \n",
    "    # Hide the right and top spines\n",
    "    ax.spines['right'].set_visible(False)\n",
    "    ax.spines['top'].set_visible(False)\n",
    "    \n",
    "    # set spines lw\n",
    "    ax.spines['left'].set_linewidth(3)\n",
    "    ax.spines['bottom'].set_linewidth(3)\n",
    "    \n",
    "    # tick params\n",
    "    ax.tick_params(axis='x', labelsize=10)\n",
    "    ax.tick_params(axis='y', labelsize=10)\n",
    "    \n",
    "    r2 = get_score(y_true, y_pred)\n",
    "    ax.annotate(f\"R2={r2:.2f}\", size=15, xy=(55, 0))\n",
    "    \n",
    "    rmse_score = rmse(y_true, y_pred)\n",
    "    ax.annotate(f\"RMSE={rmse_score:.2f}\", size=15, xy=(55, 5))\n",
    "    return ax"
   ]
  },
  {
   "cell_type": "code",
   "execution_count": null,
   "id": "c21eda5b",
   "metadata": {
    "ExecuteTime": {
     "start_time": "2022-06-05T16:35:39.078Z"
    }
   },
   "outputs": [],
   "source": [
    "figures_dir = f'../figures/window-{lookback_window}-filter-{thresh}'\n",
    "save_dir = os.path.join(figures_dir, 'performance')\n",
    "if not os.path.exists(save_dir):\n",
    "    os.makedirs(save_dir)\n",
    "    \n",
    "fig, ax = plt.subplots(figsize=(8, 8))\n",
    "plot_lgb_yyhat(y_true, y_pred, title=None, ax=ax)\n",
    "    \n",
    "fig.savefig(f'{save_dir}/{study_name}-yyhat.jpg', dpi=600, bbox_inches='tight')\n",
    "plt.show()"
   ]
  },
  {
   "cell_type": "markdown",
   "id": "6487bfd7",
   "metadata": {},
   "source": [
    "## Baseline Comparison\n",
    "\n",
    "The naive baseline considers the points in the training set and aggregates the `agg_speed` according to groups based on `dayofweek`, `hour`, and `road_osmid`. The following are some considerations in this approach:\n",
    "\n",
    "1. some combinations of `dayofweek`, `hour` and `road_osmid` that are in test are not in train.\n",
    "2. Due to #1, we remove some points in test and consequently remove the same in the test set for the model-predicted speeds.\n",
    "3. The performance metric reported in the comparison with baseline has reduced data points due to #2."
   ]
  },
  {
   "cell_type": "code",
   "execution_count": null,
   "id": "75547752",
   "metadata": {
    "ExecuteTime": {
     "start_time": "2022-06-05T16:35:39.079Z"
    }
   },
   "outputs": [],
   "source": [
    "baseline_table = retrain.groupby(['dayofweek', 'hour', 'road_osmid']).agg({'agg_speed':np.mean})\n",
    "baseline_table = baseline_table.to_dict()"
   ]
  },
  {
   "cell_type": "code",
   "execution_count": null,
   "id": "f9cc23dc",
   "metadata": {
    "ExecuteTime": {
     "start_time": "2022-06-05T16:35:39.079Z"
    }
   },
   "outputs": [],
   "source": [
    "def get_baseline_predict(key):\n",
    "     \"\"\"Return a naive prediction using historical average speed on road at \n",
    "     a particular dayofweek and hour\"\"\"\n",
    "    return baseline_table['agg_speed'].get(key, np.nan)"
   ]
  },
  {
   "cell_type": "code",
   "execution_count": null,
   "id": "a139b6f7",
   "metadata": {
    "ExecuteTime": {
     "start_time": "2022-06-05T16:35:39.080Z"
    }
   },
   "outputs": [],
   "source": [
    "# tqdm.pandas()\n",
    "# y_pred_baseline = test.progress_apply(\n",
    "#     lambda row: get_baseline_predict(\n",
    "#         baseline_table, row.dayofweek, row.hour, row.road_osmid\n",
    "#     ), axis=1\n",
    "# )\n",
    "\n",
    "tqdm.pandas()\n",
    "y_pred_baseline = test.progress_apply(\n",
    "    lambda row: get_baseline_predict(\n",
    "        (row.dayofweek, row.hour, row.road_osmid)\n",
    "    ), axis=1\n",
    ")"
   ]
  },
  {
   "cell_type": "code",
   "execution_count": null,
   "id": "c2de522a",
   "metadata": {
    "ExecuteTime": {
     "start_time": "2022-06-05T16:35:39.081Z"
    },
    "scrolled": true
   },
   "outputs": [],
   "source": [
    "nan_mask = y_pred_baseline.isna().values\n",
    "y_pred_baseline_filtered = y_pred_baseline.values[~nan_mask]\n",
    "y_pred_filtered = y_pred[~nan_mask]\n",
    "y_true_filtered = y_true[~nan_mask]\n",
    "\n",
    "print(y_pred_baseline_filtered.shape)\n",
    "print(y_pred_filtered.shape)\n",
    "print(y_true_filtered.shape)"
   ]
  },
  {
   "cell_type": "code",
   "execution_count": null,
   "id": "aef30dc3",
   "metadata": {
    "ExecuteTime": {
     "start_time": "2022-06-05T16:35:39.082Z"
    }
   },
   "outputs": [],
   "source": [
    "print(\"model R2: \", get_score(y_true_filtered, y_pred_filtered))\n",
    "print(\"model RMSE: \", rmse(y_true_filtered, y_pred_filtered))\n",
    "print(\"model MAE: \", mean_absolute_error(y_true_filtered, y_pred_filtered))\n",
    "print(\"model MAPE: \", mean_absolute_percentage_error(y_true_filtered, y_pred_filtered))\n",
    "\n",
    "print(\"\\n\\n\")\n",
    "\n",
    "print(\"baseline R2: \", get_score(y_true_filtered, y_pred_baseline_filtered))\n",
    "print(\"baseline RMSE: \", rmse(y_true_filtered, y_pred_baseline_filtered))\n",
    "print(\"baseline MAE: \", mean_absolute_error(y_true_filtered, y_pred_baseline_filtered))\n",
    "print(\"baseline MAPE: \", mean_absolute_percentage_error(y_true_filtered, y_pred_baseline_filtered))"
   ]
  },
  {
   "cell_type": "markdown",
   "id": "310fc236",
   "metadata": {},
   "source": [
    "### Mann-whiteney U test"
   ]
  },
  {
   "cell_type": "code",
   "execution_count": null,
   "id": "ae0eceb5",
   "metadata": {
    "ExecuteTime": {
     "start_time": "2022-06-05T16:35:39.082Z"
    }
   },
   "outputs": [],
   "source": [
    "# insert mann-whiteny U test here"
   ]
  },
  {
   "cell_type": "code",
   "execution_count": null,
   "id": "258b3a70",
   "metadata": {
    "ExecuteTime": {
     "start_time": "2022-06-05T16:35:39.083Z"
    }
   },
   "outputs": [],
   "source": [
    "baseline_err = (y_true_filtered - y_pred_baseline_filtered) ** 2\n",
    "model_err = (y_true_filtered - y_pred_filtered) ** 2"
   ]
  },
  {
   "cell_type": "code",
   "execution_count": null,
   "id": "5b0a5e6b",
   "metadata": {
    "ExecuteTime": {
     "start_time": "2022-06-05T16:35:41.230Z"
    }
   },
   "outputs": [],
   "source": [
    "# mwu test\n",
    "from scipy.stats import mannwhitneyu\n",
    "\n",
    "U, p_val = mannwhitneyu(\n",
    "    model_err, baseline_err, \n",
    "    alternative='two-sided', \n",
    "    method='asymptotic'\n",
    ")\n",
    "\n",
    "print(\"Test statistic, U: \", U)\n",
    "print(\"p-value: \", p_val)"
   ]
  },
  {
   "cell_type": "code",
   "execution_count": null,
   "id": "f343c3d8",
   "metadata": {},
   "outputs": [],
   "source": [
    "# plot distribution of baseline_err and model_err on top of each other"
   ]
  },
  {
   "cell_type": "markdown",
   "id": "c6d9a163",
   "metadata": {},
   "source": [
    "## SHAP Evaluation"
   ]
  },
  {
   "cell_type": "code",
   "execution_count": null,
   "id": "f9c4b302",
   "metadata": {
    "ExecuteTime": {
     "end_time": "2022-06-05T16:35:29.291853Z",
     "start_time": "2022-06-05T16:35:29.291748Z"
    }
   },
   "outputs": [],
   "source": [
    "X_test = X_test.rename(columns=featname_map)"
   ]
  },
  {
   "cell_type": "code",
   "execution_count": null,
   "id": "12135b0b",
   "metadata": {
    "ExecuteTime": {
     "end_time": "2022-06-05T16:35:29.298446Z",
     "start_time": "2022-06-05T16:35:29.298324Z"
    }
   },
   "outputs": [],
   "source": [
    "%%time\n",
    "print(\"Test set shape: \", X_test.shape)\n",
    "\n",
    "# perfrom shap on test set\n",
    "explainer = shap.TreeExplainer(model)"
   ]
  },
  {
   "cell_type": "code",
   "execution_count": null,
   "id": "63e9035c",
   "metadata": {
    "ExecuteTime": {
     "end_time": "2022-06-05T16:35:29.305465Z",
     "start_time": "2022-06-05T16:35:29.305395Z"
    }
   },
   "outputs": [],
   "source": [
    "%%time\n",
    "explanation = explainer(X_test)"
   ]
  },
  {
   "cell_type": "code",
   "execution_count": null,
   "id": "a9f47b41",
   "metadata": {
    "ExecuteTime": {
     "end_time": "2022-06-05T16:35:29.310870Z",
     "start_time": "2022-06-05T16:35:29.310778Z"
    }
   },
   "outputs": [],
   "source": [
    "%%time\n",
    "# shap_values = explainer.shap_valus(X_test.sample(n=1000, replace=False)) # change to X_test\n",
    "shap_values = explainer.shap_values(X_test) "
   ]
  },
  {
   "cell_type": "code",
   "execution_count": null,
   "id": "fe370d7e",
   "metadata": {
    "ExecuteTime": {
     "end_time": "2022-06-05T16:35:29.315941Z",
     "start_time": "2022-06-05T16:35:29.315811Z"
    }
   },
   "outputs": [],
   "source": [
    "save_dir = os.path.join(results_dir, 'shap-vals')\n",
    "if not os.path.exists(save_dir):\n",
    "    os.makedirs(save_dir)\n",
    "\n",
    "with open(f'{save_dir}/{study_name}-shap-vals.pickle', 'wb') as f:\n",
    "    pickle.dump(shap_values, f)"
   ]
  },
  {
   "cell_type": "markdown",
   "id": "64b85eeb",
   "metadata": {},
   "source": [
    "### Global Interpretations"
   ]
  },
  {
   "cell_type": "code",
   "execution_count": null,
   "id": "443949fa",
   "metadata": {
    "ExecuteTime": {
     "end_time": "2022-06-05T16:35:29.322976Z",
     "start_time": "2022-06-05T16:35:29.322864Z"
    }
   },
   "outputs": [],
   "source": [
    "%%time\n",
    "# plots beeswarm\n",
    "sum_fig = shap.summary_plot(shap_values, X_test, show=False)\n",
    "\n",
    "# plt.title('Summary Plot of SHAP Importance', fontsize=18)\n",
    "plt.ylabel('Features', fontsize=14)\n",
    "\n",
    "## in case column names are not good for plotting use a name mapper\n",
    "# ax = plt.gca()\n",
    "# new_labels = [featname_map[i.get_text()] for i in ax.get_yticklabels()]\n",
    "# ax.set_yticklabels(new_labels)\n",
    "\n",
    "plt.gcf().axes[-1].set_aspect(100)\n",
    "plt.gcf().axes[-1].set_box_aspect(100)\n",
    "\n",
    "figures_dir = f'../figures/window-{lookback_window}-filter-{thresh}'\n",
    "save_dir = os.path.join(figures_dir, 'shap')\n",
    "if not os.path.exists(save_dir):\n",
    "    os.makedirs(save_dir)\n",
    "\n",
    "plt.savefig(f'{save_dir}/{study_name}-beeswarm.jpg', dpi=600, bbox_inches='tight')\n",
    "plt.show()"
   ]
  },
  {
   "cell_type": "code",
   "execution_count": null,
   "id": "d44e913d",
   "metadata": {
    "ExecuteTime": {
     "end_time": "2022-06-05T16:35:29.345846Z",
     "start_time": "2022-06-05T16:35:29.345748Z"
    },
    "scrolled": true
   },
   "outputs": [],
   "source": [
    "fi_fig = shap.plots.bar(explanation, max_display=X_test.shape[1], show=False)\n",
    "# plt.title('Average SHAP Importance', fontsize=12)\n",
    "# plt.ylabel('Features', fontsize=14)\n",
    "\n",
    "\n",
    "## in case column names are not good for plotting use a name mapper\n",
    "# ax = plt.gca()\n",
    "# new_labels = [featname_map[i.get_text()] for i in ax.get_yticklabels()]\n",
    "# ax.set_yticklabels(new_labels)\n",
    "\n",
    "## black bars\n",
    "# for bar in ax.containers:\n",
    "#     # plt.setp sets a property on all elements of the container\n",
    "#     plt.setp(bar, color=\"black\")\n",
    "\n",
    "\n",
    "\n",
    "# Hide the right and top spines\n",
    "ax.spines['left'].set_visible(False)\n",
    "\n",
    "plt.savefig(f'{save_dir}/{study_name}-fi.jpg', dpi=600, bbox_inches='tight')\n",
    "plt.show()"
   ]
  },
  {
   "cell_type": "markdown",
   "id": "bff8faa2",
   "metadata": {},
   "source": [
    "### Local Interpretations"
   ]
  },
  {
   "cell_type": "markdown",
   "id": "42007306",
   "metadata": {},
   "source": [
    "#### Waterfall and forceplots plots"
   ]
  },
  {
   "cell_type": "code",
   "execution_count": null,
   "id": "7dbc1fda",
   "metadata": {
    "ExecuteTime": {
     "end_time": "2022-06-05T16:35:29.352634Z",
     "start_time": "2022-06-05T16:35:29.352572Z"
    }
   },
   "outputs": [],
   "source": [
    "# get a low error prediction for a predicted vehicle moving average speed\n",
    "speed = 0 # speed of interest\n",
    "speed_indexes = np.where(y_true==speed)[0]\n",
    "speed_errors = (np.abs(y_true - y_pred))[y_true==speed]\n",
    "sorted_indexed_errors = sorted(list(zip(speed_indexes, speed_errors)), key=lambda x:x[1])\n",
    "\n",
    "# index of best predicted zero speed\n",
    "print(\"Absolute Error: \", sorted_indexed_errors[0][1])\n",
    "index = sorted_indexed_errors[0][0]"
   ]
  },
  {
   "cell_type": "code",
   "execution_count": null,
   "id": "338d9d44",
   "metadata": {
    "ExecuteTime": {
     "end_time": "2022-06-05T16:35:29.361836Z",
     "start_time": "2022-06-05T16:35:29.361719Z"
    }
   },
   "outputs": [],
   "source": [
    "# bar plots are used since waterfall source code has some bugs: pl.ioff() plt not found\n",
    "# wf_fig = shap.waterfall_plot(explanation[index], show=False)\n",
    "wf_fig = shap.waterfall_plot(explanation[index])\n",
    "\n",
    "plt.savefig(f'{save_dir}/{study_name}-waterfall-speed-{speed}.jpg', \n",
    "            dpi=600, bbox_inches='tight')\n",
    "plt.show()"
   ]
  },
  {
   "cell_type": "code",
   "execution_count": null,
   "id": "55a07bef",
   "metadata": {
    "ExecuteTime": {
     "end_time": "2022-06-05T16:35:29.368148Z",
     "start_time": "2022-06-05T16:35:29.368063Z"
    }
   },
   "outputs": [],
   "source": [
    "bar_fig = shap.plots.bar(explanation[index], show=False)\n",
    "\n",
    "plt.savefig(f'{save_dir}/{study_name}-localbar-speed-{speed}.jpg', dpi=600, bbox_inches='tight')\n",
    "plt.show()"
   ]
  },
  {
   "cell_type": "code",
   "execution_count": null,
   "id": "eb91b3d3",
   "metadata": {
    "ExecuteTime": {
     "end_time": "2022-06-05T16:35:29.374587Z",
     "start_time": "2022-06-05T16:35:29.374485Z"
    }
   },
   "outputs": [],
   "source": [
    "def force_plot(explainer, shap_values, X_test, j, speed):\n",
    "    shap.initjs() \n",
    "    p = shap.force_plot(\n",
    "        explainer.expected_value, \n",
    "        shap_values[j], X_test.iloc[[j]], \n",
    "        show=False\n",
    "    )\n",
    "    plt.savefig(f'{save_dir}/{study_name}-force-speed-{speed}.jpg', dpi=600, bbox_inches='tight')\n",
    "    plt.close()\n",
    "    return(p)"
   ]
  },
  {
   "cell_type": "code",
   "execution_count": null,
   "id": "c11ee285",
   "metadata": {
    "ExecuteTime": {
     "end_time": "2022-06-05T16:35:29.379096Z",
     "start_time": "2022-06-05T16:35:29.379036Z"
    }
   },
   "outputs": [],
   "source": [
    "force_plot(explainer, shap_values, X_test, j=index, speed=speed)"
   ]
  },
  {
   "cell_type": "code",
   "execution_count": null,
   "id": "c29eccdd",
   "metadata": {
    "ExecuteTime": {
     "end_time": "2022-06-05T16:35:29.384712Z",
     "start_time": "2022-06-05T16:35:29.384578Z"
    }
   },
   "outputs": [],
   "source": [
    "# get a low error prediction for a predicted vehicle moving average speed\n",
    "speed = 10 # speed of interest\n",
    "speed_indexes = np.where(y_true==speed)[0]\n",
    "speed_errors = (np.abs(y_true - y_pred))[y_true==speed]\n",
    "sorted_indexed_errors = sorted(list(zip(speed_indexes, speed_errors)), key=lambda x:x[1])\n",
    "\n",
    "# index of best predicted zero speed\n",
    "print(\"Absolute Error: \", sorted_indexed_errors[0][1])\n",
    "index = sorted_indexed_errors[0][0]"
   ]
  },
  {
   "cell_type": "code",
   "execution_count": null,
   "id": "5c121ef7",
   "metadata": {
    "ExecuteTime": {
     "end_time": "2022-06-05T16:35:29.390859Z",
     "start_time": "2022-06-05T16:35:29.390796Z"
    }
   },
   "outputs": [],
   "source": [
    "# bar plots are used since waterfall source code has some bugs: pl.ioff() plt not found\n",
    "# wf_fig = shap.waterfall_plot(explanation[index], show=False)\n",
    "wf_fig = shap.waterfall_plot(explanation[index])\n",
    "\n",
    "plt.savefig(f'{save_dir}/{study_name}-waterfall-speed-{speed}.jpg', \n",
    "            dpi=600, bbox_inches='tight')\n",
    "plt.show()"
   ]
  },
  {
   "cell_type": "code",
   "execution_count": null,
   "id": "562b2f79",
   "metadata": {
    "ExecuteTime": {
     "end_time": "2022-06-05T16:35:29.395859Z",
     "start_time": "2022-06-05T16:35:29.395801Z"
    }
   },
   "outputs": [],
   "source": [
    "bar_fig = shap.plots.bar(explanation[index], show=False)\n",
    "\n",
    "plt.savefig(f'{save_dir}/{study_name}-localbar-speed-{speed}.jpg', dpi=600, bbox_inches='tight')\n",
    "plt.show()"
   ]
  },
  {
   "cell_type": "code",
   "execution_count": null,
   "id": "4871873b",
   "metadata": {
    "ExecuteTime": {
     "end_time": "2022-06-05T16:35:29.404391Z",
     "start_time": "2022-06-05T16:35:29.404270Z"
    }
   },
   "outputs": [],
   "source": [
    "force_plot(explainer, shap_values, X_test, j=index, speed=speed)"
   ]
  },
  {
   "cell_type": "code",
   "execution_count": null,
   "id": "200acec1",
   "metadata": {
    "ExecuteTime": {
     "end_time": "2022-06-05T16:35:29.410856Z",
     "start_time": "2022-06-05T16:35:29.410703Z"
    }
   },
   "outputs": [],
   "source": [
    "# get a low error prediction for a predicted vehicle moving average speed\n",
    "speed = 20 # speed of interest\n",
    "speed_indexes = np.where(y_true==speed)[0]\n",
    "speed_errors = (np.abs(y_true - y_pred))[y_true==speed]\n",
    "sorted_indexed_errors = sorted(list(zip(speed_indexes, speed_errors)), key=lambda x:x[1])\n",
    "\n",
    "# index of best predicted zero speed\n",
    "print(\"Absolute Error: \", sorted_indexed_errors[0][1])\n",
    "index = sorted_indexed_errors[0][0]\n",
    "\n",
    "bar_fig = shap.plots.bar(explanation[index], show=False)\n",
    "\n",
    "plt.savefig(f'{save_dir}/{study_name}-localbar-speed-{speed}.jpg', dpi=600, bbox_inches='tight')\n",
    "plt.show()"
   ]
  },
  {
   "cell_type": "code",
   "execution_count": null,
   "id": "58628cd1",
   "metadata": {
    "ExecuteTime": {
     "end_time": "2022-06-05T16:35:29.420152Z",
     "start_time": "2022-06-05T16:35:29.420070Z"
    }
   },
   "outputs": [],
   "source": [
    "# get a low error prediction for a predicted vehicle moving average speed\n",
    "speed = 30 # speed of interest\n",
    "speed_indexes = np.where(y_true==speed)[0]\n",
    "speed_errors = (np.abs(y_true - y_pred))[y_true==speed]\n",
    "sorted_indexed_errors = sorted(list(zip(speed_indexes, speed_errors)), key=lambda x:x[1])\n",
    "\n",
    "# index of best predicted zero speed\n",
    "print(\"Absolute Error: \", sorted_indexed_errors[0][1])\n",
    "index = sorted_indexed_errors[0][0]\n",
    "\n",
    "bar_fig = shap.plots.bar(explanation[index], show=False)\n",
    "\n",
    "plt.savefig(f'{save_dir}/{study_name}-localbar-speed-{speed}.jpg', dpi=600, bbox_inches='tight')\n",
    "plt.show()"
   ]
  },
  {
   "cell_type": "code",
   "execution_count": null,
   "id": "fd26bdcb",
   "metadata": {
    "ExecuteTime": {
     "end_time": "2022-06-05T16:35:29.425175Z",
     "start_time": "2022-06-05T16:35:29.425102Z"
    }
   },
   "outputs": [],
   "source": [
    "# get a low error prediction for a predicted vehicle moving average speed\n",
    "speed = 40 # speed of interest\n",
    "speed_indexes = np.where(y_true==speed)[0]\n",
    "speed_errors = (np.abs(y_true - y_pred))[y_true==speed]\n",
    "sorted_indexed_errors = sorted(list(zip(speed_indexes, speed_errors)), key=lambda x:x[1])\n",
    "\n",
    "# index of best predicted zero speed\n",
    "print(\"Absolute Error: \", sorted_indexed_errors[0][1])\n",
    "index = sorted_indexed_errors[0][0]\n",
    "\n",
    "bar_fig = shap.plots.bar(explanation[index], show=False)\n",
    "\n",
    "plt.savefig(f'{save_dir}/{study_name}-localbar-speed-{speed}.jpg', dpi=600, bbox_inches='tight')\n",
    "plt.show()"
   ]
  },
  {
   "cell_type": "code",
   "execution_count": null,
   "id": "28cfe79a",
   "metadata": {
    "ExecuteTime": {
     "end_time": "2022-06-05T16:35:29.430751Z",
     "start_time": "2022-06-05T16:35:29.430655Z"
    }
   },
   "outputs": [],
   "source": [
    "# get a low error prediction for a predicted vehicle moving average speed\n",
    "speed = 50 # speed of interest\n",
    "speed_indexes = np.where(y_true==speed)[0]\n",
    "speed_errors = (np.abs(y_true - y_pred))[y_true==speed]\n",
    "sorted_indexed_errors = sorted(list(zip(speed_indexes, speed_errors)), key=lambda x:x[1])\n",
    "\n",
    "# index of best predicted zero speed\n",
    "print(\"Absolute Error: \", sorted_indexed_errors[0][1])\n",
    "index = sorted_indexed_errors[0][0]\n",
    "\n",
    "bar_fig = shap.plots.bar(explanation[index], show=False)\n",
    "\n",
    "plt.savefig(f'{save_dir}/{study_name}-localbar-speed-{speed}.jpg', dpi=600, bbox_inches='tight')\n",
    "plt.show()"
   ]
  },
  {
   "cell_type": "markdown",
   "id": "e45f794d",
   "metadata": {},
   "source": [
    "# End"
   ]
  }
 ],
 "metadata": {
  "hide_input": false,
  "kernelspec": {
   "display_name": "Python 3 (ipykernel)",
   "language": "python",
   "name": "python3"
  },
  "language_info": {
   "codemirror_mode": {
    "name": "ipython",
    "version": 3
   },
   "file_extension": ".py",
   "mimetype": "text/x-python",
   "name": "python",
   "nbconvert_exporter": "python",
   "pygments_lexer": "ipython3",
   "version": "3.9.7"
  },
  "toc": {
   "base_numbering": 1,
   "nav_menu": {},
   "number_sections": true,
   "sideBar": true,
   "skip_h1_title": false,
   "title_cell": "Table of Contents",
   "title_sidebar": "Contents",
   "toc_cell": false,
   "toc_position": {},
   "toc_section_display": true,
   "toc_window_display": false
  }
 },
 "nbformat": 4,
 "nbformat_minor": 5
}
