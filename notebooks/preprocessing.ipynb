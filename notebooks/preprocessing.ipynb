{
 "cells": [
  {
   "cell_type": "markdown",
   "id": "91b6b14c",
   "metadata": {
    "ExecuteTime": {
     "end_time": "2021-09-12T15:48:52.765328Z",
     "start_time": "2021-09-12T15:48:52.440543Z"
    }
   },
   "source": [
    "# Preprocessing: Feature Engineering\n",
    "\n",
    "\n",
    "This notebook shows the steps to prepare raw gps data, building footprints data, administrative regions geospatial data, and road network data into files ready to be used in machine learning. These were all combined into a processed `pandas.DataFrame()` stored in `../datasets/processed/`.\n",
    "\n",
    "The sections and the resulting features created by data from each section are as follows:\n",
    "1. [Read GPS data files](#Read-GPS-data-files): `vehicle_id`, `dayofweek (0-7)`, `hour (0-23)`, `month (0-12)`, `instant_speed`, `datetime`, etc.\n",
    "2. [Prepare road network data](#Prepare-Road-Network-info): `road_osmid`, `number_of_lanes`, `speed_limit_kph`, `road_segment_length`, `distance_to_road`\n",
    "3. [Prepare barangay (administrative regions) info](#Prepare-Barangay-info): `barangay`\n",
    "4. [Prepare land-use profile data](#Prepare-Land-use-profile-data): `pix_residential`, `pix_commercial`, `pix_institutional`, `pix_industrial`\n",
    "5. [Feature engineering `multiprocessing` utils](#Feature-Engineering-Utils)\n",
    "6. [Run preprocessing](#RUN)"
   ]
  },
  {
   "cell_type": "markdown",
   "id": "7dbc24d3",
   "metadata": {},
   "source": [
    "# Read GPS data files"
   ]
  },
  {
   "cell_type": "code",
   "execution_count": 1,
   "id": "be46ea00",
   "metadata": {
    "ExecuteTime": {
     "end_time": "2022-05-27T02:24:49.485237Z",
     "start_time": "2022-05-27T02:24:48.807655Z"
    }
   },
   "outputs": [],
   "source": [
    "from time import time\n",
    "start_time = time()\n",
    "\n",
    "import os\n",
    "from glob import glob\n",
    "from tqdm import tqdm\n",
    "import pandas as pd\n",
    "import re\n",
    "import geopandas as gpd\n",
    "\n",
    "from datetime import datetime"
   ]
  },
  {
   "cell_type": "code",
   "execution_count": 2,
   "id": "05ede5a7",
   "metadata": {
    "ExecuteTime": {
     "end_time": "2022-05-27T02:25:00.088409Z",
     "start_time": "2022-05-27T02:24:59.886713Z"
    }
   },
   "outputs": [
    {
     "name": "stdout",
     "output_type": "stream",
     "text": [
      "Filename:  /mnt/processed/private/paturo/Geospatial/data/gps_cache/route_cleaned/20210426-000000/123200872603.csv\n",
      "<class 'pandas.core.frame.DataFrame'>\n",
      "RangeIndex: 54169 entries, 0 to 54168\n",
      "Data columns (total 26 columns):\n",
      " #   Column      Non-Null Count  Dtype  \n",
      "---  ------      --------------  -----  \n",
      " 0   time        54169 non-null  object \n",
      " 1   altitude    54169 non-null  int64  \n",
      " 2   angle       54169 non-null  int64  \n",
      " 3   speed       54169 non-null  int64  \n",
      " 4   accel       54169 non-null  int64  \n",
      " 5   ai1         54169 non-null  int64  \n",
      " 6   ai2         54169 non-null  int64  \n",
      " 7   ai3         54169 non-null  int64  \n",
      " 8   ai4         54169 non-null  int64  \n",
      " 9   alarm_code  54169 non-null  int64  \n",
      " 10  bats        54169 non-null  int64  \n",
      " 11  decel       54169 non-null  int64  \n",
      " 12  di1         54169 non-null  int64  \n",
      " 13  di2         54169 non-null  int64  \n",
      " 14  di3         54169 non-null  int64  \n",
      " 15  di4         54169 non-null  int64  \n",
      " 16  di5         54169 non-null  int64  \n",
      " 17  do1         54169 non-null  int64  \n",
      " 18  do2         54169 non-null  int64  \n",
      " 19  do3         54169 non-null  int64  \n",
      " 20  do4         54169 non-null  int64  \n",
      " 21  gpslev      54169 non-null  int64  \n",
      " 22  hdop        54169 non-null  float64\n",
      " 23  odo         54169 non-null  int64  \n",
      " 24  lon         54169 non-null  float64\n",
      " 25  lat         54169 non-null  float64\n",
      "dtypes: float64(3), int64(22), object(1)\n",
      "memory usage: 10.7+ MB\n"
     ]
    },
    {
     "data": {
      "text/plain": [
       "None"
      ]
     },
     "metadata": {},
     "output_type": "display_data"
    }
   ],
   "source": [
    "# source of raw data from stops-API of the GPS provider\n",
    "# stops-API filters out data points with steady zero speed at time durations greater than 1 minute (c/o provider)\n",
    "gps_data_files = glob('/mnt/processed/private/paturo/Geospatial/data/gps_cache/route_cleaned/*/*.csv')\n",
    "\n",
    "# inspect filename info\n",
    "print(\"Filename: \", gps_data_files[0])\n",
    "\n",
    "# inspect contents\n",
    "display(pd.read_csv(gps_data_files[0]).info())"
   ]
  },
  {
   "cell_type": "code",
   "execution_count": 3,
   "id": "5431bbac",
   "metadata": {
    "ExecuteTime": {
     "end_time": "2022-05-27T02:25:00.154096Z",
     "start_time": "2022-05-27T02:25:00.141970Z"
    }
   },
   "outputs": [],
   "source": [
    "# helper function for imei extraction\n",
    "def _extract_imei(str_):\n",
    "    \"\"\"Extracts imei from path str\"\"\"\n",
    "    pattern = r\"([\\d]*)(?=\\.csv)\"\n",
    "    match = re.search(pattern, str_)\n",
    "    return match.group(0) # return imei\n",
    "\n",
    "def id_tagger(path):\n",
    "    \"\"\"Adds a vehicle id column extracted from source file IMEI name\"\"\"\n",
    "    df = pd.read_csv(path)\n",
    "    df['vehicle_id'] = _extract_imei(path)\n",
    "    return df\n",
    "\n",
    "def col_rename(df, rename_mapper):\n",
    "    \"\"\"Renames the columns according to preference\"\"\"\n",
    "    df = df.rename(columns=rename_mapper)\n",
    "    return df\n",
    "\n",
    "def nan_filter(df, usecols):\n",
    "    \"\"\"Filters rows according to important columns.\"\"\"\n",
    "    df = df.dropna(how='any', subset=usecols)\n",
    "    return df"
   ]
  },
  {
   "cell_type": "markdown",
   "id": "b8781c75",
   "metadata": {},
   "source": [
    "### Initial filtering from source [DONE]"
   ]
  },
  {
   "cell_type": "code",
   "execution_count": 4,
   "id": "6c817ce7",
   "metadata": {
    "ExecuteTime": {
     "end_time": "2022-05-24T13:54:06.946149Z",
     "start_time": "2022-05-24T13:45:59.015289Z"
    }
   },
   "outputs": [
    {
     "name": "stderr",
     "output_type": "stream",
     "text": [
      "100%|██████████| 660/660 [08:07<00:00,  1.35it/s]\n"
     ]
    }
   ],
   "source": [
    "# 6 min, done\n",
    "save_root = '../datasets/raw/'\n",
    "for path in tqdm(gps_data_files):\n",
    "    df = id_tagger(path)\n",
    "    df = col_rename(df, {'speed':'instant_speed',\n",
    "                         'time': 'datetime'})\n",
    "    df = nan_filter(df, ['lon', 'lat', 'instant_speed'])\n",
    "    dir_ = \"/\".join(path.split('/')[-3:-1])\n",
    "    save_dir = os.path.join(save_root, dir_)\n",
    "    if not os.path.exists(save_dir):\n",
    "        os.makedirs(save_dir)\n",
    "    save_path = os.path.join(save_dir, _extract_imei(path)+'.csv')\n",
    "    df.to_csv(save_path, index=False)"
   ]
  },
  {
   "cell_type": "markdown",
   "id": "e11f25d2",
   "metadata": {},
   "source": [
    "### Read filtered data from local data repo"
   ]
  },
  {
   "cell_type": "code",
   "execution_count": 4,
   "id": "2179a627",
   "metadata": {
    "ExecuteTime": {
     "end_time": "2022-05-27T02:26:43.849080Z",
     "start_time": "2022-05-27T02:25:08.368275Z"
    }
   },
   "outputs": [
    {
     "name": "stdout",
     "output_type": "stream",
     "text": [
      "<class 'pandas.core.frame.DataFrame'>\n",
      "Int64Index: 37162408 entries, 0 to 102636\n",
      "Data columns (total 27 columns):\n",
      " #   Column         Dtype  \n",
      "---  ------         -----  \n",
      " 0   datetime       object \n",
      " 1   altitude       int64  \n",
      " 2   angle          int64  \n",
      " 3   instant_speed  int64  \n",
      " 4   accel          float64\n",
      " 5   ai1            int64  \n",
      " 6   ai2            int64  \n",
      " 7   ai3            int64  \n",
      " 8   ai4            int64  \n",
      " 9   alarm_code     int64  \n",
      " 10  bats           int64  \n",
      " 11  decel          float64\n",
      " 12  di1            int64  \n",
      " 13  di2            int64  \n",
      " 14  di3            int64  \n",
      " 15  di4            int64  \n",
      " 16  di5            int64  \n",
      " 17  do1            int64  \n",
      " 18  do2            int64  \n",
      " 19  do3            int64  \n",
      " 20  do4            int64  \n",
      " 21  gpslev         int64  \n",
      " 22  hdop           float64\n",
      " 23  odo            int64  \n",
      " 24  lon            float64\n",
      " 25  lat            float64\n",
      " 26  vehicle_id     int64  \n",
      "dtypes: float64(5), int64(21), object(1)\n",
      "memory usage: 7.8+ GB\n"
     ]
    }
   ],
   "source": [
    "filtered_data_files = glob('../datasets/raw/route_cleaned/*/*.csv')\n",
    "df = pd.concat([pd.read_csv(path) for path in filtered_data_files])\n",
    "df.info()"
   ]
  },
  {
   "cell_type": "markdown",
   "id": "94525b58",
   "metadata": {},
   "source": [
    "## Prepare Road Network info\n",
    "\n",
    "### Adding more edge (road) data: `speed_kph`,  `lanes`, `distance_to_road`, `osmid`, `length`\n",
    "This section appends additional road data on maximum speed of a road and its number of lanes. Also, some cleaning is performed in cases where there are more than one `osmid`s tagged for a road."
   ]
  },
  {
   "cell_type": "code",
   "execution_count": 5,
   "id": "1944bc0f",
   "metadata": {
    "ExecuteTime": {
     "end_time": "2022-05-27T02:26:50.589595Z",
     "start_time": "2022-05-27T02:26:43.853123Z"
    }
   },
   "outputs": [],
   "source": [
    "import pickle\n",
    "import numpy as np\n",
    "import matplotlib.pyplot as plt\n",
    "import pandas as pd\n",
    "import osmnx as ox\n",
    "import networkx as nx\n",
    "import os\n",
    "from glob import glob\n",
    "from tqdm import tqdm\n",
    "\n",
    "def _clean_maxspeed(value, convert_mph=True):\n",
    "    try:\n",
    "        return float(value)\n",
    "\n",
    "    except ValueError:\n",
    "        return None\n",
    "    \n",
    "def _collapse_multiple_maxspeed_values(value, agg):\n",
    "    # if this isn't a list, just return it right back to the caller\n",
    "    if not isinstance(value, list):\n",
    "        return value\n",
    "\n",
    "    else:\n",
    "        try:\n",
    "            # clean each value in list and convert to kph if it is mph then\n",
    "            # return a single aggregated value\n",
    "            values = [x for x in value]\n",
    "            return int(agg(pd.Series(values).dropna().astype(int)))\n",
    "        except ValueError:\n",
    "            return None\n",
    "        \n",
    "def add_edge_lanes(G, hwy_lanes=None, fallback=None, precision=1, agg=np.median):\n",
    "\n",
    "    if fallback is None:\n",
    "        fallback = np.nan\n",
    "\n",
    "    edges = ox.graph_to_gdfs(G, nodes=False, fill_edge_geometry=False)\n",
    "\n",
    "    # collapse any highway lists (can happen during graph simplification)\n",
    "    # into string values simply by keeping just the first element of the list\n",
    "    edges[\"highway\"] = edges[\"highway\"].map(lambda x: x[0] if isinstance(x, list) else x)\n",
    "\n",
    "    if \"lanes\" in edges.columns:\n",
    "        # collapse any maxspeed lists (can happen during graph simplification)\n",
    "        # into a single value\n",
    "        edges[\"lanes\"] = edges[\"lanes\"].apply(_collapse_multiple_maxspeed_values, agg=agg)\n",
    "        \n",
    "        # create speed_kph by cleaning maxspeed strings and converting mph to\n",
    "        # kph if necessary\n",
    "        edges[\"lanes\"] = edges[\"lanes\"].astype(str).map(_clean_maxspeed).astype(float)\n",
    "    else:\n",
    "        # if no edges in graph had a maxspeed attribute\n",
    "        edges[\"lanes\"] = None\n",
    "\n",
    "    # if user provided hwy_lanes, use them as default values, otherwise\n",
    "    # initialize an empty series to populate with values\n",
    "    if hwy_lanes is None:\n",
    "        hwy_lane_avg = pd.Series(dtype=float)\n",
    "    else:\n",
    "        hwy_lane_avg = pd.Series(hwy_lanes).dropna()\n",
    "\n",
    "    # for each highway type that caller did not provide in hwy_lanes, impute\n",
    "    # numlanes of type by taking the mode of the preexisting lane values of that\n",
    "    # highway type\n",
    "    for hwy, group in edges.groupby(\"highway\"):\n",
    "        if hwy not in hwy_lane_avg:\n",
    "            hwy_lane_avg.loc[hwy] = agg(group[\"lanes\"])\n",
    "\n",
    "    # if any highway types had no preexisting lane values, impute their lane\n",
    "    # with fallback value provided by caller. if fallback=np.nan, impute lane\n",
    "    # as the mode lane of all highway types that did have preexisting values\n",
    "    hwy_lane_avg = hwy_lane_avg.fillna(fallback).fillna(agg(hwy_lane_avg))\n",
    "\n",
    "    # for each edge missing speed data, assign it the imputed value for its\n",
    "    # highway type\n",
    "    lanes = (\n",
    "        edges[[\"highway\", \"lanes\"]].set_index(\"highway\").iloc[:, 0].fillna(hwy_lane_avg)\n",
    "    )\n",
    "\n",
    "    # all speeds will be null if edges had no preexisting maxspeed data and\n",
    "    # caller did not pass in hwy_lanes or fallback arguments\n",
    "    if pd.isnull(lanes).all():\n",
    "        raise ValueError(\n",
    "            (\n",
    "                \"this graph's edges have no preexisting `maxspeed` \"\n",
    "                \"attribute values so you must pass `hwy_lanes` or \"\n",
    "                \"`fallback` arguments.\"\n",
    "            )\n",
    "        )\n",
    "    # add speed kph attribute to graph edges\n",
    "    edges[\"lanes\"] = lanes.round(precision).values\n",
    "    \n",
    "    # set values dict format as required by nx.set_edge_attributes()\n",
    "#     values = edges.set_index(['u', 'v', 'key'])['lanes'].to_dict() # 9091\n",
    "    values = edges['lanes'].to_dict() # 9092\n",
    "    nx.set_edge_attributes(G, values=values, name=\"lanes\")\n",
    "\n",
    "    return G"
   ]
  },
  {
   "cell_type": "code",
   "execution_count": 6,
   "id": "1ab9abeb",
   "metadata": {
    "ExecuteTime": {
     "end_time": "2022-05-27T02:26:51.903923Z",
     "start_time": "2022-05-27T02:26:50.593236Z"
    }
   },
   "outputs": [
    {
     "data": {
      "text/html": [
       "<div>\n",
       "<style scoped>\n",
       "    .dataframe tbody tr th:only-of-type {\n",
       "        vertical-align: middle;\n",
       "    }\n",
       "\n",
       "    .dataframe tbody tr th {\n",
       "        vertical-align: top;\n",
       "    }\n",
       "\n",
       "    .dataframe thead th {\n",
       "        text-align: right;\n",
       "    }\n",
       "</style>\n",
       "<table border=\"1\" class=\"dataframe\">\n",
       "  <thead>\n",
       "    <tr style=\"text-align: right;\">\n",
       "      <th></th>\n",
       "      <th></th>\n",
       "      <th></th>\n",
       "      <th>osmid</th>\n",
       "      <th>lanes</th>\n",
       "      <th>name</th>\n",
       "      <th>highway</th>\n",
       "      <th>maxspeed</th>\n",
       "      <th>oneway</th>\n",
       "      <th>length</th>\n",
       "      <th>bearing</th>\n",
       "      <th>speed_kph</th>\n",
       "      <th>geometry</th>\n",
       "      <th>ref</th>\n",
       "      <th>width</th>\n",
       "      <th>bridge</th>\n",
       "      <th>service</th>\n",
       "      <th>access</th>\n",
       "      <th>junction</th>\n",
       "    </tr>\n",
       "    <tr>\n",
       "      <th>u</th>\n",
       "      <th>v</th>\n",
       "      <th>key</th>\n",
       "      <th></th>\n",
       "      <th></th>\n",
       "      <th></th>\n",
       "      <th></th>\n",
       "      <th></th>\n",
       "      <th></th>\n",
       "      <th></th>\n",
       "      <th></th>\n",
       "      <th></th>\n",
       "      <th></th>\n",
       "      <th></th>\n",
       "      <th></th>\n",
       "      <th></th>\n",
       "      <th></th>\n",
       "      <th></th>\n",
       "      <th></th>\n",
       "    </tr>\n",
       "  </thead>\n",
       "  <tbody>\n",
       "    <tr>\n",
       "      <th rowspan=\"2\" valign=\"top\">2420047872</th>\n",
       "      <th>2420047864</th>\n",
       "      <th>0</th>\n",
       "      <td>233655497</td>\n",
       "      <td>2.0</td>\n",
       "      <td>Golden Shower Avenue</td>\n",
       "      <td>tertiary</td>\n",
       "      <td>30</td>\n",
       "      <td>False</td>\n",
       "      <td>8.289</td>\n",
       "      <td>258.627</td>\n",
       "      <td>30.0</td>\n",
       "      <td>LINESTRING (368870.013 1873786.707, 368861.867...</td>\n",
       "      <td>NaN</td>\n",
       "      <td>NaN</td>\n",
       "      <td>NaN</td>\n",
       "      <td>NaN</td>\n",
       "      <td>NaN</td>\n",
       "      <td>NaN</td>\n",
       "    </tr>\n",
       "    <tr>\n",
       "      <th>2420047871</th>\n",
       "      <th>0</th>\n",
       "      <td>233655497</td>\n",
       "      <td>2.0</td>\n",
       "      <td>Golden Shower Avenue</td>\n",
       "      <td>tertiary</td>\n",
       "      <td>30</td>\n",
       "      <td>False</td>\n",
       "      <td>200.558</td>\n",
       "      <td>88.395</td>\n",
       "      <td>30.0</td>\n",
       "      <td>LINESTRING (368870.013 1873786.707, 368879.602...</td>\n",
       "      <td>NaN</td>\n",
       "      <td>NaN</td>\n",
       "      <td>NaN</td>\n",
       "      <td>NaN</td>\n",
       "      <td>NaN</td>\n",
       "      <td>NaN</td>\n",
       "    </tr>\n",
       "  </tbody>\n",
       "</table>\n",
       "</div>"
      ],
      "text/plain": [
       "                               osmid  lanes                  name   highway  \\\n",
       "u          v          key                                                     \n",
       "2420047872 2420047864 0    233655497    2.0  Golden Shower Avenue  tertiary   \n",
       "           2420047871 0    233655497    2.0  Golden Shower Avenue  tertiary   \n",
       "\n",
       "                          maxspeed  oneway   length  bearing  speed_kph  \\\n",
       "u          v          key                                                 \n",
       "2420047872 2420047864 0         30   False    8.289  258.627       30.0   \n",
       "           2420047871 0         30   False  200.558   88.395       30.0   \n",
       "\n",
       "                                                                    geometry  \\\n",
       "u          v          key                                                      \n",
       "2420047872 2420047864 0    LINESTRING (368870.013 1873786.707, 368861.867...   \n",
       "           2420047871 0    LINESTRING (368870.013 1873786.707, 368879.602...   \n",
       "\n",
       "                           ref width bridge service access junction  \n",
       "u          v          key                                            \n",
       "2420047872 2420047864 0    NaN   NaN    NaN     NaN    NaN      NaN  \n",
       "           2420047871 0    NaN   NaN    NaN     NaN    NaN      NaN  "
      ]
     },
     "execution_count": 6,
     "metadata": {},
     "output_type": "execute_result"
    }
   ],
   "source": [
    "path = '/mnt/processed/private/paturo/data/processed/graphs/cauayan.pickle'\n",
    "\n",
    "with open(path, 'rb') as handle:\n",
    "    G = pickle.load(handle)\n",
    "\n",
    "hwy_speeds = {\n",
    "    'trunk': 80, # most untagged values are near away from city center\n",
    "    'primary': 40,\n",
    "    'secondary': 30, # unpaved!!! dirt roads\n",
    "    'tertiary': 30,\n",
    "    'residential': 20,\n",
    "    'unclassified': 20   \n",
    "}\n",
    "\n",
    "hwy_lanes = {\n",
    "    'trunk': 2, # conservative guess\n",
    "    'primary': 1,\n",
    "    'secondary': 1,\n",
    "    'tertiary': 1,\n",
    "    'residential': 1,\n",
    "    'unclassified': 1   \n",
    "}\n",
    "\n",
    "G = ox.speed.add_edge_speeds(G, hwy_speeds=hwy_speeds, fallback=None, precision=1)\n",
    "G = add_edge_lanes(G, hwy_lanes=hwy_lanes, fallback=None, precision=1)\n",
    "\n",
    "# inspect the road network data\n",
    "nodes, edges = ox.graph_to_gdfs(G)\n",
    "edges.head(2)"
   ]
  },
  {
   "cell_type": "markdown",
   "id": "48bb9da0",
   "metadata": {},
   "source": [
    "### Projection: `G` to `P` and initialization of `edges_df`\n",
    "\n",
    "In this section we take the same road network of Cauayan (`G`) from the previous preprocessing step of adding road speed data and project it to `P` having a CRS suitable for our vehicle gps coordinates format (EPSG:4326)."
   ]
  },
  {
   "cell_type": "code",
   "execution_count": 7,
   "id": "cae49a18",
   "metadata": {
    "ExecuteTime": {
     "end_time": "2022-05-27T02:26:51.909891Z",
     "start_time": "2022-05-27T02:26:51.906615Z"
    }
   },
   "outputs": [],
   "source": [
    "import warnings\n",
    "warnings.filterwarnings(\"ignore\")"
   ]
  },
  {
   "cell_type": "code",
   "execution_count": 8,
   "id": "8302af0f",
   "metadata": {
    "ExecuteTime": {
     "end_time": "2022-05-27T02:26:53.703289Z",
     "start_time": "2022-05-27T02:26:51.912788Z"
    }
   },
   "outputs": [],
   "source": [
    "from osmnx import projection\n",
    "\n",
    "# put crs into road_network (previously no crs)\n",
    "G.crs = \"EPSG:32651\"\n",
    "\n",
    "# project to epsg:4326 to suit lon lat for use in RUN section\n",
    "P = ox.projection.project_graph(G, to_crs=\"epsg:4326\")\n",
    "\n",
    "# used in tagging road data to vehicle\n",
    "edges_df = ox.graph_to_gdfs(P, nodes=False) # 9092 use only this line\n",
    "# edges_df = edges_df.set_index(['u', 'v', 'key']) # 9091"
   ]
  },
  {
   "cell_type": "code",
   "execution_count": 9,
   "id": "939cb101",
   "metadata": {
    "ExecuteTime": {
     "end_time": "2022-05-27T02:26:53.725102Z",
     "start_time": "2022-05-27T02:26:53.706598Z"
    }
   },
   "outputs": [
    {
     "name": "stdout",
     "output_type": "stream",
     "text": [
      "<class 'geopandas.geodataframe.GeoDataFrame'>\n",
      "MultiIndex: 7365 entries, (2420047872, 2420047864, 0) to (7793950669, 7793950680, 0)\n",
      "Data columns (total 16 columns):\n",
      " #   Column     Non-Null Count  Dtype   \n",
      "---  ------     --------------  -----   \n",
      " 0   osmid      7365 non-null   object  \n",
      " 1   lanes      6504 non-null   float64 \n",
      " 2   name       1218 non-null   object  \n",
      " 3   highway    7365 non-null   object  \n",
      " 4   maxspeed   821 non-null    object  \n",
      " 5   oneway     7365 non-null   bool    \n",
      " 6   length     7365 non-null   float64 \n",
      " 7   bearing    7355 non-null   float64 \n",
      " 8   speed_kph  7365 non-null   float64 \n",
      " 9   ref        398 non-null    object  \n",
      " 10  width      352 non-null    object  \n",
      " 11  bridge     52 non-null     object  \n",
      " 12  access     14 non-null     object  \n",
      " 13  service    34 non-null     object  \n",
      " 14  junction   3 non-null      object  \n",
      " 15  geometry   7365 non-null   geometry\n",
      "dtypes: bool(1), float64(4), geometry(1), object(10)\n",
      "memory usage: 1.1+ MB\n"
     ]
    }
   ],
   "source": [
    "edges_df.info() # available road data"
   ]
  },
  {
   "cell_type": "markdown",
   "id": "2b192ecc",
   "metadata": {},
   "source": [
    "## Prepare Barangay info\n",
    "\n",
    "This section uses polygon data of barangays in Cauayan City to identify the barangay a vehicle is currently in. A new column `barangay` is created using the functions defined in the sections that follow."
   ]
  },
  {
   "cell_type": "code",
   "execution_count": 10,
   "id": "aada7723",
   "metadata": {
    "ExecuteTime": {
     "end_time": "2022-05-27T02:26:53.821957Z",
     "start_time": "2022-05-27T02:26:53.726953Z"
    }
   },
   "outputs": [
    {
     "data": {
      "text/html": [
       "<div>\n",
       "<style scoped>\n",
       "    .dataframe tbody tr th:only-of-type {\n",
       "        vertical-align: middle;\n",
       "    }\n",
       "\n",
       "    .dataframe tbody tr th {\n",
       "        vertical-align: top;\n",
       "    }\n",
       "\n",
       "    .dataframe thead th {\n",
       "        text-align: right;\n",
       "    }\n",
       "</style>\n",
       "<table border=\"1\" class=\"dataframe\">\n",
       "  <thead>\n",
       "    <tr style=\"text-align: right;\">\n",
       "      <th></th>\n",
       "      <th>Name</th>\n",
       "      <th>descriptio</th>\n",
       "      <th>timestamp</th>\n",
       "      <th>begin</th>\n",
       "      <th>end</th>\n",
       "      <th>altitudeMo</th>\n",
       "      <th>tessellate</th>\n",
       "      <th>extrude</th>\n",
       "      <th>visibility</th>\n",
       "      <th>drawOrder</th>\n",
       "      <th>icon</th>\n",
       "      <th>Brgy_Name</th>\n",
       "      <th>Area</th>\n",
       "      <th>Population</th>\n",
       "      <th>Class</th>\n",
       "      <th>Region</th>\n",
       "      <th>Area_sqm</th>\n",
       "      <th>Density_sq</th>\n",
       "      <th>geometry</th>\n",
       "    </tr>\n",
       "  </thead>\n",
       "  <tbody>\n",
       "    <tr>\n",
       "      <th>0</th>\n",
       "      <td>None</td>\n",
       "      <td>None</td>\n",
       "      <td>None</td>\n",
       "      <td>None</td>\n",
       "      <td>None</td>\n",
       "      <td>None</td>\n",
       "      <td>-1</td>\n",
       "      <td>0</td>\n",
       "      <td>-1</td>\n",
       "      <td>None</td>\n",
       "      <td>None</td>\n",
       "      <td>Alicaocao</td>\n",
       "      <td>51.57</td>\n",
       "      <td>1564</td>\n",
       "      <td>R</td>\n",
       "      <td>Poblacion</td>\n",
       "      <td>726433.0</td>\n",
       "      <td>2152.985891</td>\n",
       "      <td>POLYGON Z ((121.77603 16.94689 0.00000, 121.77...</td>\n",
       "    </tr>\n",
       "    <tr>\n",
       "      <th>1</th>\n",
       "      <td>None</td>\n",
       "      <td>None</td>\n",
       "      <td>None</td>\n",
       "      <td>None</td>\n",
       "      <td>None</td>\n",
       "      <td>None</td>\n",
       "      <td>-1</td>\n",
       "      <td>0</td>\n",
       "      <td>-1</td>\n",
       "      <td>None</td>\n",
       "      <td>None</td>\n",
       "      <td>Alinam</td>\n",
       "      <td>330.50</td>\n",
       "      <td>1167</td>\n",
       "      <td>R</td>\n",
       "      <td>Tanap</td>\n",
       "      <td>3026647.0</td>\n",
       "      <td>385.575193</td>\n",
       "      <td>POLYGON Z ((121.75682 16.86332 0.00000, 121.75...</td>\n",
       "    </tr>\n",
       "  </tbody>\n",
       "</table>\n",
       "</div>"
      ],
      "text/plain": [
       "   Name descriptio timestamp begin   end altitudeMo  tessellate  extrude  \\\n",
       "0  None       None      None  None  None       None          -1        0   \n",
       "1  None       None      None  None  None       None          -1        0   \n",
       "\n",
       "   visibility drawOrder  icon  Brgy_Name    Area  Population Class     Region  \\\n",
       "0          -1      None  None  Alicaocao   51.57        1564     R  Poblacion   \n",
       "1          -1      None  None     Alinam  330.50        1167     R      Tanap   \n",
       "\n",
       "    Area_sqm   Density_sq                                           geometry  \n",
       "0   726433.0  2152.985891  POLYGON Z ((121.77603 16.94689 0.00000, 121.77...  \n",
       "1  3026647.0   385.575193  POLYGON Z ((121.75682 16.86332 0.00000, 121.75...  "
      ]
     },
     "execution_count": 10,
     "metadata": {},
     "output_type": "execute_result"
    }
   ],
   "source": [
    "root = '/mnt/processed/private/paturo/Geospatial/preprocessing'\n",
    "\n",
    "admin_bounds_file = os.path.join(root, \"admin.zip\")\n",
    "admin_df = gpd.read_file(admin_bounds_file)\n",
    "admin_df.at[12, \"Brgy_Name\"] = \"Carabatan Bacareno\"\n",
    "\n",
    "# used in tagging vehicle to a barangay\n",
    "barangay_polygons = admin_df[['Brgy_Name', 'geometry']]\n",
    "admin_df.head(2)"
   ]
  },
  {
   "cell_type": "code",
   "execution_count": 11,
   "id": "0e078002",
   "metadata": {
    "ExecuteTime": {
     "end_time": "2022-05-27T02:26:53.828813Z",
     "start_time": "2022-05-27T02:26:53.823934Z"
    }
   },
   "outputs": [
    {
     "data": {
      "text/plain": [
       "<Geographic 2D CRS: EPSG:4326>\n",
       "Name: WGS 84\n",
       "Axis Info [ellipsoidal]:\n",
       "- Lat[north]: Geodetic latitude (degree)\n",
       "- Lon[east]: Geodetic longitude (degree)\n",
       "Area of Use:\n",
       "- name: World.\n",
       "- bounds: (-180.0, -90.0, 180.0, 90.0)\n",
       "Datum: World Geodetic System 1984 ensemble\n",
       "- Ellipsoid: WGS 84\n",
       "- Prime Meridian: Greenwich"
      ]
     },
     "execution_count": 11,
     "metadata": {},
     "output_type": "execute_result"
    }
   ],
   "source": [
    "admin_df.crs"
   ]
  },
  {
   "cell_type": "markdown",
   "id": "75b53543",
   "metadata": {},
   "source": [
    "## Prepare Land-use profile data\n",
    "\n",
    "This section shows the preparation steps for the land-use profile data added to the main dataset. Land use is divided according to 4 building types: residential, commercial, industrial, and institutional. These building appear as per pixel tagging in a `.tiff` file. Resolution depends on the `.tiff` file used--which can be either an 8x8- or 4x4-meter per pixel."
   ]
  },
  {
   "cell_type": "code",
   "execution_count": 12,
   "id": "a835f0b1",
   "metadata": {
    "ExecuteTime": {
     "end_time": "2022-05-27T02:26:53.840081Z",
     "start_time": "2022-05-27T02:26:53.831017Z"
    }
   },
   "outputs": [],
   "source": [
    "import os\n",
    "import numpy as np\n",
    "import matplotlib.pyplot as plt\n",
    "import pandas as pd\n",
    "from glob import glob\n",
    "from tqdm import tqdm\n",
    "import geopandas as gpd\n",
    "import multiprocessing as mp\n",
    "import rasterio\n",
    "from rasterio.plot import show\n",
    "from rasterio.mask import mask"
   ]
  },
  {
   "cell_type": "markdown",
   "id": "aee39dc3",
   "metadata": {},
   "source": [
    "### Visualization of raster and city boundary"
   ]
  },
  {
   "cell_type": "code",
   "execution_count": 13,
   "id": "e77ed844",
   "metadata": {
    "ExecuteTime": {
     "end_time": "2022-05-27T02:26:55.502424Z",
     "start_time": "2022-05-27T02:26:53.847400Z"
    }
   },
   "outputs": [
    {
     "data": {
      "image/png": "[encoded data removed]",
      "text/plain": [
       "<Figure size 504x360 with 2 Axes>"
      ]
     },
     "metadata": {
      "needs_background": "light"
     },
     "output_type": "display_data"
    }
   ],
   "source": [
    "raster_root = '../datasets/raster-data/'\n",
    "hgt_file = \"N16E121.hgt\"\n",
    "src_path = os.path.join(raster_root, hgt_file)\n",
    "src = rasterio.open(src_path, driver=\"SRTMHGT\")\n",
    "\n",
    "bounds_path = os.path.join(raster_root, 'bounds.pkl')\n",
    "boundaries = pd.read_pickle(bounds_path)\n",
    "                     \n",
    "fig, ax = plt.subplots(figsize=(7,5))\n",
    "show(src, ax=ax)\n",
    "plt.colorbar(ax.images[0])\n",
    "boundaries.boundary.plot(ax=ax, color='yellow')\n",
    "plt.show()"
   ]
  },
  {
   "cell_type": "code",
   "execution_count": 14,
   "id": "053c9d63",
   "metadata": {
    "ExecuteTime": {
     "end_time": "2022-05-27T02:26:55.513016Z",
     "start_time": "2022-05-27T02:26:55.504953Z"
    }
   },
   "outputs": [],
   "source": [
    "def get_value(coords, src):\n",
    "    \"\"\"Return elevation from src\"\"\"\n",
    "    \n",
    "    if type(coords) != list:\n",
    "        coords = [coords]\n",
    "    return next(src.sample(coords))[0]\n",
    "\n",
    "def get_building_counts(row, src, buffer, building_types):\n",
    "    \"\"\"Return pixel count of a building class within a buffer\"\"\"\n",
    "    geometry = row.geometry.buffer(buffer) # buffer points by the meters (ensure data is projected)\n",
    "    out_image, out_transform = mask(src, [geometry], all_touched=True, crop=True)\n",
    "    for key, val in building_types.items():\n",
    "        row[key] = np.sum(out_image==val)\n",
    "    return row"
   ]
  },
  {
   "cell_type": "markdown",
   "id": "6978239b",
   "metadata": {},
   "source": [
    "## Feature Engineering Utils"
   ]
  },
  {
   "cell_type": "code",
   "execution_count": 15,
   "id": "0bf4d725",
   "metadata": {
    "ExecuteTime": {
     "end_time": "2022-05-27T02:26:55.533014Z",
     "start_time": "2022-05-27T02:26:55.515531Z"
    }
   },
   "outputs": [],
   "source": [
    "from osmnx.distance import nearest_edges\n",
    "\n",
    "def mp_tag_road_data(chunk, P, interpolate_dist, edges_df, road_cols):\n",
    "    \"\"\"Return df (chunk) with road network data corresponding to road_cols\n",
    "    plus distance_to_road.\n",
    "    \"\"\"\n",
    "    nearest_edge, distances = nearest_edges(\n",
    "        P, \n",
    "        chunk['lon'], chunk['lat'],\n",
    "        interpolate=interpolate_dist/6.371e6,\n",
    "        return_dist=True,\n",
    "    )\n",
    "    road_data = edges_df.loc[nearest_edge, road_cols]\n",
    "    chunk = pd.concat(\n",
    "        [chunk.reset_index(drop=True), road_data.reset_index(drop=True)],\n",
    "        axis=1\n",
    "    )\n",
    "    chunk['distance_to_road'] = distances\n",
    "    return chunk\n",
    "\n",
    "def mp_tag_brgy_data(chunk, barangay_polygons):\n",
    "    \"\"\"Return df (chunk) with new column: barangay, corresponding to brgy name\"\"\"\n",
    "    temp = chunk[['lon', 'lat']]\n",
    "    vehicle_coords = gpd.GeoDataFrame(temp, geometry=gpd.points_from_xy(temp.lon, temp.lat))\n",
    "    vehicle_coords.crs = \"epsg:4326\"\n",
    "    chunk['barangay'] = gpd.sjoin(\n",
    "        vehicle_coords, barangay_polygons, \n",
    "        how='left', \n",
    "        op='within')['Brgy_Name']\n",
    "    chunk['barangay'] = chunk['barangay'].fillna('Out-of-town')\n",
    "    return chunk\n",
    "    \n",
    "def mp_create_datetime_cols(chunk, datetime_col):\n",
    "    \"\"\"Create hour, dayofweek, and month columns form datetime col.\"\"\"\n",
    "    # Adding datetime cat cols\n",
    "    chunk['datetime'] = pd.to_datetime(chunk['datetime'])\n",
    "    chunk['hour'] = chunk[datetime_col].dt.hour\n",
    "    chunk['dayofweek'] = chunk[datetime_col].dt.dayofweek\n",
    "    chunk['month'] = chunk[datetime_col].dt.month\n",
    "    return chunk\n",
    "\n",
    "def mp_elevation(gdf_chunk):\n",
    "    \"\"\"Calculate and add elevation data for chunk.\"\"\"\n",
    "    raster_root = '../datasets/raster-data/'\n",
    "    hgt_file = \"N16E121.hgt\"\n",
    "    src_path = os.path.join(raster_root, hgt_file)\n",
    "    src = rasterio.open(src_path, driver=\"SRTMHGT\")\n",
    "    gdf_chunk['elevation'] = gdf_chunk.apply(lambda row: get_value((row.geometry.x, row.geometry.y), src), axis=1)\n",
    "    return gdf_chunk\n",
    "\n",
    "def mp_building_counts(gdf_chunk, tiff_file):\n",
    "    \"\"\"Calculate and add area of surrounding building type (in pixels)\"\"\"\n",
    "    raster_root = '../datasets/raster-data/'\n",
    "    tiff_tag = tiff_file.split('-')[-1].split('.')[0]\n",
    "    \n",
    "    building_types = {\n",
    "        f'pix_business_{tiff_tag}': 1,\n",
    "        f'pix_residential_{tiff_tag}': 2,\n",
    "        f'pix_industrial_{tiff_tag}': 3,\n",
    "        f'pix_institutional_{tiff_tag}': 4\n",
    "    }\n",
    "    \n",
    "    footprints_path = os.path.join(raster_root, tiff_file)\n",
    "    with rasterio.open(footprints_path) as src:\n",
    "        gdf_chunk = gdf_chunk.to_crs(25393).apply(\n",
    "            lambda x: get_building_counts(\n",
    "                x, src, buffer=200, building_types=building_types), axis=1)\n",
    "    return gdf_chunk\n",
    "\n",
    "def parallelize_pandas(df, func, *args):\n",
    "    cpus = mp.cpu_count()\n",
    "    df_chunks = np.array_split(df, cpus)\n",
    "    pool = mp.Pool(processes=cpus)\n",
    "    chunk_processes = [pool.apply_async(func, args=(chunk,*args)) for chunk in df_chunks]\n",
    "    df_results = []\n",
    "    for chunk in chunk_processes:\n",
    "        res = chunk.get()\n",
    "        df_results.append(res)\n",
    "    df_out = pd.concat(df_results)\n",
    "    return df_out\n",
    "\n",
    "def parallelize_geopandas(gdf, func, *args):\n",
    "    \"\"\"Parallelize functions used to get elevation and surrounding land-use area\"\"\"\n",
    "    cpus = mp.cpu_count()\n",
    "    gdf_chunks = np.array_split(gdf, cpus)\n",
    "    pool = mp.Pool(processes=cpus)\n",
    "    chunk_processes = [pool.apply_async(func, args=(chunk,*args)) for chunk in gdf_chunks]\n",
    "    gdf_results = []\n",
    "    for chunk in chunk_processes:\n",
    "        res = chunk.get()\n",
    "        res = res.to_crs(25393)\n",
    "        gdf_results.append(res)\n",
    "    gdf_out = gpd.GeoDataFrame(pd.concat(gdf_results))\n",
    "    return gdf_out"
   ]
  },
  {
   "cell_type": "markdown",
   "id": "e2e8dc72",
   "metadata": {},
   "source": [
    "## RUN"
   ]
  },
  {
   "cell_type": "markdown",
   "id": "1153a50a",
   "metadata": {},
   "source": [
    "### Running per vehicle"
   ]
  },
  {
   "cell_type": "code",
   "execution_count": 16,
   "id": "f05d1596",
   "metadata": {
    "ExecuteTime": {
     "end_time": "2022-05-27T02:26:55.549210Z",
     "start_time": "2022-05-27T02:26:55.535143Z"
    }
   },
   "outputs": [],
   "source": [
    "def col_rename(df, rename_mapper):\n",
    "    \"\"\"Renames the columns according to preference\"\"\"\n",
    "    df = df.rename(columns=rename_mapper)\n",
    "    return df\n",
    "\n",
    "rename_mapper = {\n",
    "    'osmid': 'road_osmid',\n",
    "    'lanes': 'number_of_lanes',\n",
    "    'speed_kph': 'speed_limit_kph',\n",
    "    'length': 'road_segment_length',\n",
    "}"
   ]
  },
  {
   "cell_type": "code",
   "execution_count": 17,
   "id": "e3b5eb27",
   "metadata": {
    "ExecuteTime": {
     "end_time": "2022-05-27T02:26:55.554761Z",
     "start_time": "2022-05-27T02:26:55.551666Z"
    }
   },
   "outputs": [],
   "source": [
    "vehicle_grouper = df.groupby('vehicle_id')"
   ]
  },
  {
   "cell_type": "code",
   "execution_count": 20,
   "id": "f22fddd6",
   "metadata": {
    "ExecuteTime": {
     "end_time": "2022-05-27T04:20:17.736873Z",
     "start_time": "2022-05-27T02:35:28.046822Z"
    }
   },
   "outputs": [
    {
     "name": "stdout",
     "output_type": "stream",
     "text": [
      "Done: 1/200\n",
      "Done: 2/200\n",
      "Done: 3/200\n",
      "Done: 4/200\n",
      "Done: 5/200\n",
      "Done: 6/200\n",
      "Done: 7/200\n",
      "Done: 8/200\n",
      "Done: 9/200\n",
      "Done: 10/200\n",
      "Done: 11/200\n",
      "Done: 12/200\n",
      "Done: 13/200\n",
      "Done: 14/200\n",
      "Done: 15/200\n",
      "Done: 16/200\n",
      "Done: 17/200\n",
      "Done: 18/200\n",
      "Done: 19/200\n",
      "Done: 20/200\n",
      "Done: 21/200\n",
      "Done: 22/200\n",
      "Done: 23/200\n",
      "Done: 24/200\n",
      "Done: 25/200\n",
      "Done: 26/200\n",
      "Done: 27/200\n",
      "Done: 28/200\n",
      "Done: 29/200\n",
      "Done: 30/200\n",
      "Done: 31/200\n",
      "Done: 32/200\n",
      "Done: 33/200\n",
      "Done: 34/200\n",
      "Done: 35/200\n",
      "Done: 36/200\n",
      "Done: 37/200\n",
      "Done: 38/200\n",
      "Done: 39/200\n",
      "Done: 40/200\n",
      "Done: 41/200\n",
      "Done: 42/200\n",
      "Done: 43/200\n",
      "Done: 44/200\n",
      "Done: 45/200\n",
      "Done: 46/200\n",
      "Done: 47/200\n",
      "Done: 48/200\n",
      "Done: 49/200\n",
      "Done: 50/200\n",
      "Done: 51/200\n",
      "Done: 52/200\n",
      "Done: 53/200\n",
      "Done: 54/200\n",
      "Done: 55/200\n",
      "Done: 56/200\n",
      "Done: 57/200\n",
      "Done: 58/200\n",
      "Done: 59/200\n",
      "Done: 60/200\n",
      "Done: 61/200\n",
      "Done: 62/200\n",
      "Done: 63/200\n",
      "Done: 64/200\n",
      "Done: 65/200\n",
      "Done: 66/200\n",
      "Done: 67/200\n",
      "Done: 68/200\n",
      "Done: 69/200\n",
      "Done: 70/200\n",
      "Done: 71/200\n",
      "Done: 72/200\n",
      "Done: 73/200\n",
      "Done: 74/200\n",
      "Done: 75/200\n",
      "Done: 76/200\n",
      "Done: 77/200\n",
      "Done: 78/200\n",
      "Done: 79/200\n",
      "Done: 80/200\n",
      "Done: 81/200\n",
      "Done: 82/200\n",
      "Done: 83/200\n",
      "Done: 84/200\n",
      "Done: 85/200\n",
      "Done: 86/200\n",
      "Done: 87/200\n",
      "Done: 88/200\n",
      "Done: 89/200\n",
      "Done: 90/200\n",
      "Done: 91/200\n",
      "Done: 92/200\n",
      "Done: 93/200\n",
      "Done: 94/200\n",
      "Done: 95/200\n",
      "Done: 96/200\n",
      "Done: 97/200\n",
      "Done: 98/200\n",
      "Done: 99/200\n",
      "Done: 100/200\n",
      "Done: 101/200\n",
      "Done: 102/200\n",
      "Done: 103/200\n",
      "Done: 104/200\n",
      "Done: 105/200\n",
      "Done: 106/200\n",
      "Done: 107/200\n",
      "Done: 108/200\n",
      "Done: 109/200\n",
      "Done: 110/200\n",
      "Done: 111/200\n",
      "Done: 112/200\n",
      "Done: 113/200\n",
      "Done: 114/200\n",
      "Done: 115/200\n",
      "Done: 116/200\n",
      "Done: 117/200\n",
      "Done: 118/200\n",
      "Done: 119/200\n",
      "Done: 120/200\n",
      "Done: 121/200\n",
      "Done: 122/200\n",
      "Done: 123/200\n",
      "Done: 124/200\n",
      "Done: 125/200\n",
      "Done: 126/200\n",
      "Done: 127/200\n",
      "Done: 128/200\n",
      "Done: 129/200\n",
      "Done: 130/200\n",
      "Done: 131/200\n",
      "Done: 132/200\n",
      "Done: 133/200\n",
      "Done: 134/200\n",
      "Done: 135/200\n",
      "Done: 136/200\n",
      "Done: 137/200\n",
      "Done: 138/200\n",
      "Done: 139/200\n",
      "Done: 140/200\n",
      "Done: 141/200\n",
      "Done: 142/200\n",
      "Done: 143/200\n",
      "Done: 144/200\n",
      "Done: 145/200\n",
      "Done: 146/200\n",
      "Done: 147/200\n",
      "Done: 148/200\n",
      "Done: 149/200\n",
      "Done: 150/200\n",
      "Done: 151/200\n",
      "Done: 152/200\n",
      "Done: 153/200\n",
      "Done: 154/200\n",
      "Done: 155/200\n",
      "Done: 156/200\n",
      "Done: 157/200\n",
      "Done: 158/200\n",
      "Done: 159/200\n",
      "Done: 160/200\n",
      "Done: 161/200\n",
      "Done: 162/200\n",
      "Done: 163/200\n",
      "Done: 164/200\n",
      "Done: 165/200\n",
      "Done: 166/200\n",
      "Done: 167/200\n",
      "Done: 168/200\n",
      "Done: 169/200\n",
      "Done: 170/200\n",
      "Done: 171/200\n",
      "Done: 172/200\n",
      "Done: 173/200\n",
      "Done: 174/200\n",
      "Done: 175/200\n",
      "Done: 176/200\n",
      "Done: 177/200\n",
      "Done: 178/200\n",
      "Done: 179/200\n",
      "Done: 180/200\n",
      "Done: 181/200\n",
      "Done: 182/200\n",
      "Done: 183/200\n",
      "Done: 184/200\n",
      "Running for id:  ../datasets/processed/2022-05-24/123200872805.csv\n",
      "Done: 185/200\n",
      "Running for id:  ../datasets/processed/2022-05-24/123200872806.csv\n",
      "Done: 186/200\n",
      "Running for id:  ../datasets/processed/2022-05-24/123200872807.csv\n",
      "Done: 187/200\n",
      "Running for id:  ../datasets/processed/2022-05-24/123200872808.csv\n",
      "Done: 188/200\n",
      "Running for id:  ../datasets/processed/2022-05-24/123200872809.csv\n",
      "Done: 189/200\n",
      "Running for id:  ../datasets/processed/2022-05-24/123200872810.csv\n",
      "Done: 190/200\n",
      "Running for id:  ../datasets/processed/2022-05-24/123200872811.csv\n",
      "Done: 191/200\n",
      "Running for id:  ../datasets/processed/2022-05-24/123200872812.csv\n",
      "Done: 192/200\n",
      "Running for id:  ../datasets/processed/2022-05-24/123200872813.csv\n",
      "Done: 193/200\n",
      "Running for id:  ../datasets/processed/2022-05-24/123200872814.csv\n",
      "Done: 194/200\n",
      "Running for id:  ../datasets/processed/2022-05-24/123200872815.csv\n",
      "Done: 195/200\n",
      "Running for id:  ../datasets/processed/2022-05-24/123200872816.csv\n",
      "Done: 196/200\n",
      "Running for id:  ../datasets/processed/2022-05-24/123200872817.csv\n",
      "Done: 197/200\n",
      "Running for id:  ../datasets/processed/2022-05-24/123200872818.csv\n",
      "Done: 198/200\n",
      "Running for id:  ../datasets/processed/2022-05-24/123200872819.csv\n",
      "Done: 199/200\n",
      "Running for id:  ../datasets/processed/2022-05-24/123200872820.csv\n",
      "Done: 200/200\n"
     ]
    }
   ],
   "source": [
    "# final run used.\n",
    "date = '2022-05-27' # alternatively use now date for new runs\n",
    "\n",
    "# date = str(datetime.date(datetime.now())) # now date\n",
    "# print(date)\n",
    "\n",
    "for index, (name, group) in enumerate(vehicle_grouper):\n",
    "    \n",
    "    # clause of resuming unfinished vehicle_ids\n",
    "    save_dir = f'../datasets/processed/{date}'\n",
    "    if not os.path.exists(save_dir):\n",
    "        os.makedirs(save_dir)\n",
    "    save_path = os.path.join(save_dir, str(name)) + '.csv'\n",
    "    \n",
    "    if not os.path.exists(save_path):\n",
    "        print(\"Running for id: \", save_path)\n",
    "        group = parallelize_pandas(group, mp_tag_road_data, P, 40, edges_df, ['osmid', 'lanes', 'speed_kph', 'length'])\n",
    "        group = parallelize_pandas(group, mp_tag_brgy_data, barangay_polygons)\n",
    "        group = group[group['barangay'] != 'Out-of-town']\n",
    "        group = parallelize_pandas(group, mp_create_datetime_cols, 'datetime')\n",
    "        \n",
    "        gdf = gpd.GeoDataFrame(group, geometry=gpd.points_from_xy(group.lon, group.lat))\n",
    "        gdf.crs = \"epsg:4326\"\n",
    "        gdf = parallelize_geopandas(gdf, mp_elevation)\n",
    "        gdf = parallelize_geopandas(gdf, mp_building_counts, f'footprints-4x4.tiff')\n",
    "\n",
    "        group = pd.DataFrame(gdf.drop('geometry', axis=1))\n",
    "        group = col_rename(group, rename_mapper)\n",
    "        \n",
    "        # save\n",
    "        group.to_csv(save_path, index=False)\n",
    "    print(f\"Done: {index + 1}/200\")"
   ]
  },
  {
   "cell_type": "code",
   "execution_count": null,
   "id": "1c8be36c",
   "metadata": {
    "ExecuteTime": {
     "end_time": "2022-05-27T02:30:27.698765Z",
     "start_time": "2022-05-27T02:30:27.698742Z"
    }
   },
   "outputs": [],
   "source": [
    "end_time = time()\n",
    "\n",
    "duration = end_time - start_time\n",
    "print(f\"PREPROCESSING TIME: {duration/3600} Hrs\")"
   ]
  },
  {
   "cell_type": "markdown",
   "id": "b97671a1",
   "metadata": {},
   "source": [
    "### One go [Kills Jojie Kernel]\n",
    "\n",
    "This section runs the entire pre-processing pipeline using a `multiprocessing` approach on the full dataset. Consequently, writing to file is done per group according to a per-vehicle id grouping."
   ]
  },
  {
   "cell_type": "code",
   "execution_count": null,
   "id": "9865359e",
   "metadata": {
    "ExecuteTime": {
     "start_time": "2022-05-24T13:27:05.241Z"
    }
   },
   "outputs": [],
   "source": [
    "# %%time\n",
    "# # pandas\n",
    "# processed_df = parallelize_pandas(df, mp_tag_road_data, P, 40, edges_df, ['osmid', 'lanes', 'speed_kph', 'length'])\n",
    "# processed_df = parallelize_pandas(processed_df, mp_tag_brgy_data, barangay_polygons)\n",
    "# processed_df = processed_df[processed_df['barangay'] != 'Out-of-town'] # filter out points outside cauayan city\n",
    "# processed_df = parallelize_pandas(processed_df, mp_create_datetime_cols, 'time')\n",
    "\n",
    "# # geopandas\n",
    "# processed_gdf = gpd.GeoDataFrame(processed_df, geometry=gpd.points_from_xy(group.lon, group.lat))\n",
    "# processed_gdf.crs = \"epsg:4326\"\n",
    "# processed_gdf = parallelize_geopandas(processed_gdf, mp_elevation)\n",
    "# processed_gdf = parallelize_geopandas(processed_gdf, mp_building_counts, 'footprints-4x4.tiff')\n",
    "\n",
    "# processed_df = pd.DataFrame(processed_gdf.drop('geometry', axis=1))\n",
    "# processed_df = col_rename(processed_df, rename_mapper)\n",
    "# processed_df.info()"
   ]
  },
  {
   "cell_type": "markdown",
   "id": "b700229d",
   "metadata": {},
   "source": [
    "#### Save"
   ]
  },
  {
   "cell_type": "code",
   "execution_count": null,
   "id": "c57ee43e",
   "metadata": {
    "ExecuteTime": {
     "start_time": "2022-05-24T13:27:17.630Z"
    }
   },
   "outputs": [],
   "source": [
    "# vehicle_grouper = processed_df.groupby('vehicle_id')\n",
    "\n",
    "# for name, group in vehicle_grouper:\n",
    "#     save_dir = f'..datasets/processed/{date}'\n",
    "#     if not os.path.exists(save_dir):\n",
    "#         os.makedirs(save_dir)\n",
    "#     group.to_csv(os.path.join(save_dir, str(name)) + '.csv', index=False)"
   ]
  },
  {
   "cell_type": "code",
   "execution_count": null,
   "id": "2fb9e15b",
   "metadata": {
    "ExecuteTime": {
     "start_time": "2022-05-24T13:27:20.382Z"
    }
   },
   "outputs": [],
   "source": [
    "# end_time = time()\n",
    "\n",
    "# duration = end_time - start_time\n",
    "# print(f\"PREPROCESSING TIME: {duration/3600} Hrs\")"
   ]
  },
  {
   "cell_type": "markdown",
   "id": "d7435673",
   "metadata": {},
   "source": [
    "## End"
   ]
  }
 ],
 "metadata": {
  "hide_input": false,
  "kernelspec": {
   "display_name": "Python [conda env:root] *",
   "language": "python",
   "name": "conda-root-py"
  },
  "language_info": {
   "codemirror_mode": {
    "name": "ipython",
    "version": 3
   },
   "file_extension": ".py",
   "mimetype": "text/x-python",
   "name": "python",
   "nbconvert_exporter": "python",
   "pygments_lexer": "ipython3",
   "version": "3.9.7"
  },
  "toc": {
   "base_numbering": 1,
   "nav_menu": {},
   "number_sections": true,
   "sideBar": true,
   "skip_h1_title": false,
   "title_cell": "Table of Contents",
   "title_sidebar": "Contents",
   "toc_cell": false,
   "toc_position": {},
   "toc_section_display": true,
   "toc_window_display": false
  },
  "toc-autonumbering": true
 },
 "nbformat": 4,
 "nbformat_minor": 5
}
