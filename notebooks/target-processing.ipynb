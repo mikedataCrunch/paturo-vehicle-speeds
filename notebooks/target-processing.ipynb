{
 "cells": [
  {
   "cell_type": "markdown",
   "id": "d0cd253b",
   "metadata": {},
   "source": [
    "# Vehicle Speed Aggregation: Moving Average Strategy\n",
    "\n",
    "* save directory: `../datasets/per-vehicle-moving-average/<aggregation type>/window-<some window choice>-<datestring>`"
   ]
  },
  {
   "cell_type": "code",
   "execution_count": 1,
   "id": "ed0a7060",
   "metadata": {
    "ExecuteTime": {
     "end_time": "2022-05-28T07:04:26.613975Z",
     "start_time": "2022-05-28T07:03:59.845549Z"
    }
   },
   "outputs": [
    {
     "name": "stdout",
     "output_type": "stream",
     "text": [
      "2022-05-28\n"
     ]
    }
   ],
   "source": [
    "import shap\n",
    "import pandas as pd\n",
    "import numpy as np\n",
    "\n",
    "import time\n",
    "\n",
    "import seaborn as sns\n",
    "\n",
    "import matplotlib.pyplot as plt\n",
    "\n",
    "import lightgbm as lgb\n",
    "from sklearn.preprocessing import LabelEncoder\n",
    "\n",
    "from glob import glob\n",
    "import os\n",
    "import optuna\n",
    "import joblib\n",
    "from tqdm import tqdm\n",
    "\n",
    "import warnings\n",
    "warnings.filterwarnings('ignore')\n",
    "\n",
    "import multiprocessing as mp\n",
    "from datetime import datetime"
   ]
  },
  {
   "cell_type": "code",
   "execution_count": 2,
   "id": "78506b37",
   "metadata": {
    "ExecuteTime": {
     "end_time": "2022-05-28T07:04:26.622109Z",
     "start_time": "2022-05-28T07:04:26.617182Z"
    }
   },
   "outputs": [
    {
     "name": "stdout",
     "output_type": "stream",
     "text": [
      "RAM: 251.79 GB\n"
     ]
    }
   ],
   "source": [
    "import psutil\n",
    "    \n",
    "ram_gb = psutil.virtual_memory().total / 2**30 # total physical memory in bytes\n",
    "print(f\"RAM: {ram_gb:.2f} GB\")"
   ]
  },
  {
   "cell_type": "markdown",
   "id": "c05fe705",
   "metadata": {},
   "source": [
    "## Read from source"
   ]
  },
  {
   "cell_type": "code",
   "execution_count": 3,
   "id": "72a2f057",
   "metadata": {
    "ExecuteTime": {
     "end_time": "2022-05-28T07:04:26.634523Z",
     "start_time": "2022-05-28T07:04:26.624378Z"
    }
   },
   "outputs": [
    {
     "data": {
      "text/plain": [
       "'../datasets/processed/2022-05-24/123200872603.csv'"
      ]
     },
     "execution_count": 3,
     "metadata": {},
     "output_type": "execute_result"
    }
   ],
   "source": [
    "# get paths\n",
    "root = '../datasets/processed'\n",
    "source_date = '2022-05-24'\n",
    "glob_path = os.path.join(root, source_date, '*.csv')\n",
    "filepaths = glob(glob_path)\n",
    "\n",
    "# check\n",
    "filepaths[0]"
   ]
  },
  {
   "cell_type": "code",
   "execution_count": 5,
   "id": "312b6cf6",
   "metadata": {
    "ExecuteTime": {
     "end_time": "2022-05-28T07:16:55.780563Z",
     "start_time": "2022-05-28T07:14:38.293099Z"
    }
   },
   "outputs": [],
   "source": [
    "# read\n",
    "df = pd.concat([pd.read_csv(path) for path in filepaths])"
   ]
  },
  {
   "cell_type": "code",
   "execution_count": 6,
   "id": "8109d620",
   "metadata": {
    "ExecuteTime": {
     "end_time": "2022-05-28T07:16:55.789962Z",
     "start_time": "2022-05-28T07:16:55.783876Z"
    }
   },
   "outputs": [],
   "source": [
    "def get_periods(row, ref_index, thresh):\n",
    "    \"\"\"Return period counts for thresh\"\"\"\n",
    "    timedeltas = (row.name - ref_index).total_seconds()\n",
    "    # >= 0 includes self\n",
    "    periods = np.sum((timedeltas <= thresh) & (timedeltas >= 0))\n",
    "    return periods\n",
    "\n",
    "def get_agg_speed(row, group, thresh, agg='mean'):\n",
    "    \"\"\"Return a aggregated speed value according to thresh and agg.\"\"\"\n",
    "    timedeltas = (row.name - group.index).total_seconds()\n",
    "    mask = (timedeltas <= thresh) & (timedeltas >= 0)\n",
    "    # >= 0 includes self\n",
    "    if agg=='mean':\n",
    "        return group[mask]['instant_speed'].mean()\n",
    "    elif agg=='median':\n",
    "        return group[mask]['instant_speed'].median()    \n",
    "    else:\n",
    "        raise \"Enter valid agg.\""
   ]
  },
  {
   "cell_type": "markdown",
   "id": "7118e101",
   "metadata": {},
   "source": [
    "## Parallelize"
   ]
  },
  {
   "cell_type": "code",
   "execution_count": 7,
   "id": "7a1c8adf",
   "metadata": {
    "ExecuteTime": {
     "end_time": "2022-05-28T07:16:55.802077Z",
     "start_time": "2022-05-28T07:16:55.791899Z"
    }
   },
   "outputs": [],
   "source": [
    "def mp_get_periods(chunk, ref_index, thresh):\n",
    "    chunk['num_periods'] = chunk.apply(\n",
    "        lambda row: get_periods(row, ref_index, thresh=thresh), axis=1)\n",
    "    return chunk\n",
    "\n",
    "def mp_agg_speed(chunk, full_df, thresh, agg):\n",
    "    chunk['agg_speed'] = chunk.apply(\n",
    "        lambda row: get_agg_speed(row, full_df, thresh=thresh, agg=agg), axis=1)\n",
    "    return chunk\n",
    "\n",
    "# parallelize agg function\n",
    "def parallelize_get_periods(df, func, thresh):\n",
    "    \"\"\"Parallelize mp_elevation and mp_building_counts functions\"\"\"\n",
    "    ref_index = df.index\n",
    "    cpus = mp.cpu_count()\n",
    "    df_chunks = np.array_split(df, cpus)\n",
    "    pool = mp.Pool(processes=cpus)\n",
    "    chunk_processes = [pool.apply_async(func, args=(chunk, ref_index, thresh)) for chunk in df_chunks]\n",
    "    df_results = []\n",
    "    for chunk in chunk_processes:\n",
    "        res = chunk.get()\n",
    "        df_results.append(res)\n",
    "    df_out = pd.concat(df_results)\n",
    "    return df_out\n",
    "\n",
    "def parallelize_agg_speed(df, func, thresh, agg):\n",
    "    cpus = mp.cpu_count()\n",
    "    df_chunks = np.array_split(df, cpus)\n",
    "    pool = mp.Pool(processes=cpus)\n",
    "    chunk_processes = [pool.apply_async(func, args=(chunk, df, thresh, agg)) for chunk in df_chunks]\n",
    "    df_results = []\n",
    "    for chunk in chunk_processes:\n",
    "        res = chunk.get()\n",
    "        df_results.append(res)\n",
    "    df_out = pd.concat(df_results)\n",
    "    return df_out\n"
   ]
  },
  {
   "cell_type": "code",
   "execution_count": null,
   "id": "162a5e3f",
   "metadata": {
    "ExecuteTime": {
     "start_time": "2022-05-28T08:06:50.218Z"
    }
   },
   "outputs": [
    {
     "name": "stdout",
     "output_type": "stream",
     "text": [
      "Done: 1/200\n",
      "Done: 2/200\n",
      "Done: 3/200\n",
      "Done: 4/200\n",
      "Done: 5/200\n",
      "Done: 6/200\n",
      "Done: 7/200\n",
      "Done: 8/200\n",
      "Done: 9/200\n",
      "Done: 10/200\n",
      "Done: 11/200\n",
      "Done: 12/200\n",
      "Done: 13/200\n",
      "Done: 14/200\n",
      "Done: 15/200\n",
      "Done: 16/200\n",
      "Done: 17/200\n",
      "Done: 18/200\n",
      "Done: 19/200\n",
      "Done: 20/200\n",
      "Done: 21/200\n",
      "Running for id:  ../datasets/per-vehicle-moving-average/mean-window-60-2022-05-27/123200872648.csv\n",
      "Done: 22/200\n",
      "Running for id:  ../datasets/per-vehicle-moving-average/mean-window-60-2022-05-27/123200872650.csv\n",
      "Done: 23/200\n",
      "Running for id:  ../datasets/per-vehicle-moving-average/mean-window-60-2022-05-27/123200872651.csv\n",
      "Done: 24/200\n",
      "Running for id:  ../datasets/per-vehicle-moving-average/mean-window-60-2022-05-27/123200872654.csv\n",
      "Done: 25/200\n",
      "Running for id:  ../datasets/per-vehicle-moving-average/mean-window-60-2022-05-27/123200872655.csv\n",
      "Done: 26/200\n",
      "Running for id:  ../datasets/per-vehicle-moving-average/mean-window-60-2022-05-27/123200872656.csv\n",
      "Done: 27/200\n",
      "Running for id:  ../datasets/per-vehicle-moving-average/mean-window-60-2022-05-27/123200872657.csv\n",
      "Done: 28/200\n",
      "Running for id:  ../datasets/per-vehicle-moving-average/mean-window-60-2022-05-27/123200872658.csv\n",
      "Done: 29/200\n",
      "Running for id:  ../datasets/per-vehicle-moving-average/mean-window-60-2022-05-27/123200872659.csv\n",
      "Done: 30/200\n",
      "Running for id:  ../datasets/per-vehicle-moving-average/mean-window-60-2022-05-27/123200872660.csv\n",
      "Done: 31/200\n",
      "Running for id:  ../datasets/per-vehicle-moving-average/mean-window-60-2022-05-27/123200872664.csv\n",
      "Done: 32/200\n",
      "Running for id:  ../datasets/per-vehicle-moving-average/mean-window-60-2022-05-27/123200872666.csv\n",
      "Done: 33/200\n",
      "Running for id:  ../datasets/per-vehicle-moving-average/mean-window-60-2022-05-27/123200872667.csv\n",
      "Done: 34/200\n",
      "Running for id:  ../datasets/per-vehicle-moving-average/mean-window-60-2022-05-27/123200872671.csv\n"
     ]
    }
   ],
   "source": [
    "## use this for progress_apply method:\n",
    "# tqdm.pandas()\n",
    "date = '2022-05-27' # alternatively use now date for new runs\n",
    "\n",
    "# date = str(datetime.date(datetime.now())) # now date\n",
    "# print(date)\n",
    "\n",
    "\n",
    "lookback_window = 60 # seconds, can be changed\n",
    "agg = 'mean'\n",
    "\n",
    "# recompute speed through \"moving average\" method, get median/mean speed in window\n",
    "# saves a new csv with columns for number of periods (num_periods) and agg vehicle speed (agg_speed)\n",
    "\n",
    "for index, path in enumerate(filepaths):\n",
    "    name = path.split('/')[-1].split('.')[0]\n",
    "    group = pd.read_csv(path)\n",
    "    \n",
    "    # prep save paths\n",
    "    save_dir = f'../datasets/per-vehicle-moving-average/{agg}-window-{lookback_window}-{date}'\n",
    "    if not os.path.exists(save_dir):\n",
    "        os.makedirs(save_dir)\n",
    "    save_path = os.path.join(save_dir, f\"{name}.csv\")\n",
    "    if not os.path.exists(save_path):\n",
    "        print(\"Running for id: \", save_path)\n",
    "    \n",
    "        # get datetime index\n",
    "        group['datetime'] = pd.to_datetime(group['datetime'])\n",
    "        group = group.sort_values(by='datetime')\n",
    "        group = group.set_index('datetime')\n",
    "\n",
    "        group = parallelize_get_periods(\n",
    "            df=group, \n",
    "            func=mp_get_periods, \n",
    "            thresh=lookback_window)\n",
    "\n",
    "        group = parallelize_agg_speed(\n",
    "            df=group, \n",
    "            func=mp_agg_speed, \n",
    "            thresh=lookback_window, \n",
    "            agg=agg) \n",
    "\n",
    "        group = group.reset_index()\n",
    "#         display(group.info())\n",
    "    \n",
    "        # save\n",
    "        group.to_csv(save_path, index=False)\n",
    "    print(f\"Done: {index + 1}/200\")"
   ]
  }
 ],
 "metadata": {
  "hide_input": false,
  "kernelspec": {
   "display_name": "Python 3 (ipykernel)",
   "language": "python",
   "name": "python3"
  },
  "language_info": {
   "codemirror_mode": {
    "name": "ipython",
    "version": 3
   },
   "file_extension": ".py",
   "mimetype": "text/x-python",
   "name": "python",
   "nbconvert_exporter": "python",
   "pygments_lexer": "ipython3",
   "version": "3.9.7"
  },
  "toc": {
   "base_numbering": 1,
   "nav_menu": {},
   "number_sections": true,
   "sideBar": true,
   "skip_h1_title": false,
   "title_cell": "Table of Contents",
   "title_sidebar": "Contents",
   "toc_cell": false,
   "toc_position": {},
   "toc_section_display": true,
   "toc_window_display": false
  }
 },
 "nbformat": 4,
 "nbformat_minor": 5
}
