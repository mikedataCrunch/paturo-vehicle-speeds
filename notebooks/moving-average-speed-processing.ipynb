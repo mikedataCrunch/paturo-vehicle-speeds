{
 "cells": [
  {
   "cell_type": "markdown",
   "id": "d0cd253b",
   "metadata": {},
   "source": [
    "# Vehicle Speed Aggregation: Moving Average Strategy\n",
    "\n",
    "Specifics:\n",
    "* lookback `window` in seconds can be tweaked\n",
    "* speed aggregation used is `median`, try `mean`\n",
    "* ETA: jojie-portless ~7 hours\n",
    "* new columns on csv: \n",
    "    - `num_periods` - the number of points for a chosen lookback `window` from a reference point\n",
    "    - `recomputed_speed` - the agg speed contained in `num_periods`\n",
    "* save directory: `dataset/per-vehicle-moving-average/window-<some window choice>`"
   ]
  },
  {
   "cell_type": "code",
   "execution_count": 14,
   "id": "ed0a7060",
   "metadata": {
    "ExecuteTime": {
     "end_time": "2022-05-23T09:27:18.482753Z",
     "start_time": "2022-05-23T09:27:18.475791Z"
    }
   },
   "outputs": [],
   "source": [
    "import shap\n",
    "import pandas as pd\n",
    "import numpy as np\n",
    "import time\n",
    "import seaborn as sns\n",
    "import matplotlib.pyplot as plt\n",
    "import lightgbm as lgb\n",
    "from sklearn.preprocessing import LabelEncoder\n",
    "from glob import glob\n",
    "import os\n",
    "import optuna\n",
    "import joblib\n",
    "from tqdm import tqdm\n",
    "\n",
    "import warnings\n",
    "warnings.filterwarnings('ignore')"
   ]
  },
  {
   "cell_type": "code",
   "execution_count": 15,
   "id": "78506b37",
   "metadata": {
    "ExecuteTime": {
     "end_time": "2022-05-23T09:27:18.828010Z",
     "start_time": "2022-05-23T09:27:18.820995Z"
    }
   },
   "outputs": [
    {
     "name": "stdout",
     "output_type": "stream",
     "text": [
      "RAM: 251.79 GB\n"
     ]
    }
   ],
   "source": [
    "import psutil\n",
    "    \n",
    "ram_gb = psutil.virtual_memory().total / 2**30 # total physical memory in bytes\n",
    "print(f\"RAM: {ram_gb:.2f} GB\")"
   ]
  },
  {
   "cell_type": "code",
   "execution_count": 16,
   "id": "312b6cf6",
   "metadata": {
    "ExecuteTime": {
     "end_time": "2022-05-23T09:28:45.765934Z",
     "start_time": "2022-05-23T09:27:20.113862Z"
    }
   },
   "outputs": [],
   "source": [
    "data_monthdate = '0328' # new data\n",
    "test = pd.read_csv(f'dataset/ncc_{data_monthdate}_lgb_test.csv')\n",
    "train = pd.read_csv(f'dataset/ncc_{data_monthdate}_lgb_train.csv')\n",
    "retrain = pd.read_csv(f'dataset/ncc_{data_monthdate}_lgb_retrain.csv')"
   ]
  },
  {
   "cell_type": "code",
   "execution_count": 17,
   "id": "02944889",
   "metadata": {
    "ExecuteTime": {
     "end_time": "2022-05-23T09:29:44.522379Z",
     "start_time": "2022-05-23T09:28:45.769375Z"
    }
   },
   "outputs": [],
   "source": [
    "df = pd.concat([test, train, retrain])\n",
    "df['time'] = pd.to_datetime(df['time'])\n",
    "df = df.sort_values(by='time')\n",
    "df = df.set_index('time')"
   ]
  },
  {
   "cell_type": "code",
   "execution_count": 18,
   "id": "58d3f98d",
   "metadata": {
    "ExecuteTime": {
     "end_time": "2022-05-23T09:29:45.387217Z",
     "start_time": "2022-05-23T09:29:44.525208Z"
    }
   },
   "outputs": [],
   "source": [
    "per_vehicle_grouper = df.groupby('vehicle_id')"
   ]
  },
  {
   "cell_type": "code",
   "execution_count": 20,
   "id": "8109d620",
   "metadata": {
    "ExecuteTime": {
     "end_time": "2022-05-23T09:29:55.445755Z",
     "start_time": "2022-05-23T09:29:55.435540Z"
    }
   },
   "outputs": [],
   "source": [
    "def get_periods(row, ref_index, thresh):\n",
    "    \"\"\"Return period counts for thresh\"\"\"\n",
    "    timedeltas = (row.name - ref_index).total_seconds()\n",
    "    # >= 0 includes self\n",
    "    periods = np.sum((timedeltas <= thresh) & (timedeltas >= 0))\n",
    "    return periods\n",
    "\n",
    "def get_recomp_speeds(row, group, thresh, agg='mean'):\n",
    "    timedeltas = (row.name - group.index).total_seconds()\n",
    "    mask = (timedeltas <= thresh) & (timedeltas >= 0)\n",
    "    # >= 0 includes self\n",
    "    if agg=='mean':\n",
    "        return group[mask]['vehicle_speed'].mean()\n",
    "    elif agg=='median':\n",
    "        return group[mask]['vehicle_speed'].median()    \n",
    "    else:\n",
    "        raise \"Enter valid agg.\"\n",
    "    "
   ]
  },
  {
   "cell_type": "code",
   "execution_count": null,
   "id": "3f72559f",
   "metadata": {
    "ExecuteTime": {
     "start_time": "2022-05-23T09:29:58.894Z"
    }
   },
   "outputs": [
    {
     "name": "stderr",
     "output_type": "stream",
     "text": [
      " 10%|█         | 20/199 [5:17:42<37:21:23, 751.30s/it] "
     ]
    }
   ],
   "source": [
    "## use this for progress_apply method:\n",
    "# tqdm.pandas()\n",
    "\n",
    "window = 60 # seconds, can be changed\n",
    "agg = 'mean'\n",
    "\n",
    "# recompute speed through \"moving average\" method, get median speed in window\n",
    "# saves a new csv with columns for number of periods and agg vehicle speed\n",
    "for name, group in tqdm(per_vehicle_grouper):\n",
    "    ref_index = group.index\n",
    "    group['num_periods'] = group.apply(\n",
    "        lambda row: get_periods(row, ref_index, thresh=window), axis=1)\n",
    "    group['recomputed_speed'] = group.apply(\n",
    "        lambda row: get_recomp_speeds(row, group, thresh=window, agg='mean'), axis=1)\n",
    "    \n",
    "    # prep paths\n",
    "    save_dir = f'dataset/per-vehicle-moving-average/{agg}/window-{window}'\n",
    "    if not os.path.exists(save_dir):\n",
    "        os.makedirs(save_dir)\n",
    "    save_file = os.path.join(save_dir, f\"{name}.csv\")\n",
    "    \n",
    "    # save\n",
    "    group = group.reset_index()\n",
    "    group.to_csv(save_file, index=False)"
   ]
  },
  {
   "cell_type": "markdown",
   "id": "588468ab",
   "metadata": {},
   "source": [
    "# Space-time Agg Strategy (Not done)"
   ]
  },
  {
   "cell_type": "code",
   "execution_count": null,
   "id": "83f7d104",
   "metadata": {},
   "outputs": [],
   "source": [
    "data_monthdate = '0328' # new data\n",
    "test = pd.read_csv(f'dataset/ncc_{data_monthdate}_lgb_test.csv')\n",
    "train = pd.read_csv(f'dataset/ncc_{data_monthdate}_lgb_train.csv')\n",
    "retrain = pd.read_csv(f'dataset/ncc_{data_monthdate}_lgb_retrain.csv')"
   ]
  },
  {
   "cell_type": "code",
   "execution_count": null,
   "id": "f8c6225e",
   "metadata": {},
   "outputs": [],
   "source": [
    "df = pd.concat([test, train, retrain])\n",
    "df['time'] = pd.to_datetime(df['time'])\n",
    "df = df.sort_values(by='time')\n",
    "df = df.set_index('time')"
   ]
  },
  {
   "cell_type": "markdown",
   "id": "58ccb529",
   "metadata": {},
   "source": [
    "## Code Dump"
   ]
  },
  {
   "cell_type": "code",
   "execution_count": 54,
   "id": "84cc2057",
   "metadata": {
    "ExecuteTime": {
     "end_time": "2022-04-16T08:31:35.545129Z",
     "start_time": "2022-04-16T08:31:34.497840Z"
    }
   },
   "outputs": [
    {
     "name": "stdout",
     "output_type": "stream",
     "text": [
      "lgb_retrain.csv\t\t  ncc_0325_lgb_train.csv    ncc_1118_lgb_test.csv\r\n",
      "lgb_test.csv\t\t  ncc_0328_lgb_retrain.csv  ncc_1118_lgb_train.csv\r\n",
      "lgb_train.csv\t\t  ncc_0328_lgb_test.csv     ncc_1120_lgb_retrain.csv\r\n",
      "ncc_0325_lgb_retrain.csv  ncc_0328_lgb_train.csv    ncc_1120_lgb_test.csv\r\n",
      "ncc_0325_lgb_test.csv\t  ncc_1118_lgb_retrain.csv  ncc_1120_lgb_train.csv\r\n"
     ]
    }
   ],
   "source": [
    "!ls dataset"
   ]
  },
  {
   "cell_type": "code",
   "execution_count": null,
   "id": "1583c036",
   "metadata": {},
   "outputs": [],
   "source": [
    "# test group for functions\n",
    "window = 120 # seconds\n",
    "for name, group in per_vehicle_grouper:\n",
    "    timedeltas = (group.iloc[2].name - group.index).total_seconds()\n",
    "    periods = np.sum((timedeltas <= window) & (timedeltas >= 0))\n",
    "    print(\"Periods: \", periods)\n",
    "\n",
    "    mask = (timedeltas <= window) & (timedeltas >= 0)\n",
    "    print(\"Agg speed: \", group[mask]['vehicle_speed'].median())\n",
    "    break"
   ]
  },
  {
   "cell_type": "code",
   "execution_count": null,
   "id": "7c44f8c0",
   "metadata": {},
   "outputs": [],
   "source": [
    "# filtering prior to ML\n",
    "def filter_data(df):\n",
    "    df = df[df['dist_to_edge'] <= 20]\n",
    "    df = df[df['accel'] <= 20]\n",
    "    df = df[df['decel'] <= 20]\n",
    "    df['barangay'] = df['barangay'].fillna('Out-of-town')\n",
    "    df['lanes'] = df['lanes'].fillna(1.0)\n",
    "\n",
    "    # WATCH THIS: 60 (determine the percentile of 60kph in speed dist) reasonable na trike \n",
    "    df = df[df['vehicle_speed'] <= 60] # CHANGE TO 60\n",
    "    df = df[df['elevation'] <= 148] # based on cauayan city highest elevation in meters. (32 to 148 range)\n",
    "    return df"
   ]
  }
 ],
 "metadata": {
  "hide_input": false,
  "kernelspec": {
   "display_name": "Python 3 (ipykernel)",
   "language": "python",
   "name": "python3"
  },
  "language_info": {
   "codemirror_mode": {
    "name": "ipython",
    "version": 3
   },
   "file_extension": ".py",
   "mimetype": "text/x-python",
   "name": "python",
   "nbconvert_exporter": "python",
   "pygments_lexer": "ipython3",
   "version": "3.9.7"
  },
  "toc": {
   "base_numbering": 1,
   "nav_menu": {},
   "number_sections": true,
   "sideBar": true,
   "skip_h1_title": false,
   "title_cell": "Table of Contents",
   "title_sidebar": "Contents",
   "toc_cell": false,
   "toc_position": {},
   "toc_section_display": true,
   "toc_window_display": false
  }
 },
 "nbformat": 4,
 "nbformat_minor": 5
}
