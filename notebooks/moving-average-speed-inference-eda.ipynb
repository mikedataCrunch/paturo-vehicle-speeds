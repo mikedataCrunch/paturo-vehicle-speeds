{
 "cells": [
  {
   "cell_type": "markdown",
   "id": "22767b52",
   "metadata": {},
   "source": [
    "# EDA: Moving Average Speed Inference"
   ]
  },
  {
   "cell_type": "code",
   "execution_count": 1,
   "id": "f9531043",
   "metadata": {
    "ExecuteTime": {
     "end_time": "2022-05-23T07:59:28.169207Z",
     "start_time": "2022-05-23T07:59:26.160530Z"
    }
   },
   "outputs": [],
   "source": [
    "import pandas as pd\n",
    "import numpy as np\n",
    "import time\n",
    "import seaborn as sns\n",
    "import matplotlib.pyplot as plt\n",
    "from glob import glob\n",
    "\n",
    "window = 60"
   ]
  },
  {
   "cell_type": "code",
   "execution_count": 2,
   "id": "8be1820c",
   "metadata": {
    "ExecuteTime": {
     "end_time": "2022-05-23T07:59:28.189343Z",
     "start_time": "2022-05-23T07:59:28.172802Z"
    }
   },
   "outputs": [
    {
     "name": "stdout",
     "output_type": "stream",
     "text": [
      "RAM: 251.79 GB\n"
     ]
    }
   ],
   "source": [
    "import psutil\n",
    "    \n",
    "ram_gb = psutil.virtual_memory().total / 2**30 # total physical memory in bytes\n",
    "print(f\"RAM: {ram_gb:.2f} GB\")"
   ]
  },
  {
   "cell_type": "code",
   "execution_count": 3,
   "id": "f5d9dc66",
   "metadata": {
    "ExecuteTime": {
     "end_time": "2022-05-23T08:01:42.924637Z",
     "start_time": "2022-05-23T07:59:28.191408Z"
    }
   },
   "outputs": [],
   "source": [
    "# import\n",
    "window = 60\n",
    "\n",
    "csv_paths = glob(f'dataset/per-vehicle-moving-average/window-{window}/*.csv')\n",
    "\n",
    "df = pd.concat([pd.read_csv(path, low_memory=False) for path in csv_paths])"
   ]
  },
  {
   "cell_type": "code",
   "execution_count": 10,
   "id": "59f39afe",
   "metadata": {
    "ExecuteTime": {
     "end_time": "2022-05-23T08:06:41.231331Z",
     "start_time": "2022-05-23T08:06:41.215394Z"
    }
   },
   "outputs": [
    {
     "name": "stdout",
     "output_type": "stream",
     "text": [
      "<class 'pandas.core.frame.DataFrame'>\n",
      "Int64Index: 30905074 entries, 0 to 128161\n",
      "Data columns (total 27 columns):\n",
      " #   Column            Dtype  \n",
      "---  ------            -----  \n",
      " 0   time              object \n",
      " 1   altitude          float64\n",
      " 2   vehicle_speed     float64\n",
      " 3   accel             float64\n",
      " 4   decel             float64\n",
      " 5   lon               float64\n",
      " 6   lat               float64\n",
      " 7   vehicle_id        int64  \n",
      " 8   osmid             object \n",
      " 9   lanes             float64\n",
      " 10  speed_kph         float64\n",
      " 11  length            float64\n",
      " 12  dist_to_edge      float64\n",
      " 13  barangay          object \n",
      " 14  hour              int64  \n",
      " 15  dayofweek         int64  \n",
      " 16  month             int64  \n",
      " 17  residential       int64  \n",
      " 18  institutional     int64  \n",
      " 19  industrial        int64  \n",
      " 20  commercial        int64  \n",
      " 21  elevation         int64  \n",
      " 22  pix_business      int64  \n",
      " 23  pix_residential   int64  \n",
      " 24  pix_industrial    int64  \n",
      " 25  num_periods       int64  \n",
      " 26  recomputed_speed  float64\n",
      "dtypes: float64(11), int64(13), object(3)\n",
      "memory usage: 6.4+ GB\n"
     ]
    }
   ],
   "source": [
    "df.info()"
   ]
  },
  {
   "cell_type": "code",
   "execution_count": 4,
   "id": "4a8fd3d7",
   "metadata": {
    "ExecuteTime": {
     "end_time": "2022-05-23T08:01:54.856802Z",
     "start_time": "2022-05-23T08:01:42.927168Z"
    }
   },
   "outputs": [
    {
     "data": {
      "text/html": [
       "<div>\n",
       "<style scoped>\n",
       "    .dataframe tbody tr th:only-of-type {\n",
       "        vertical-align: middle;\n",
       "    }\n",
       "\n",
       "    .dataframe tbody tr th {\n",
       "        vertical-align: top;\n",
       "    }\n",
       "\n",
       "    .dataframe thead th {\n",
       "        text-align: right;\n",
       "    }\n",
       "</style>\n",
       "<table border=\"1\" class=\"dataframe\">\n",
       "  <thead>\n",
       "    <tr style=\"text-align: right;\">\n",
       "      <th></th>\n",
       "      <th>accel</th>\n",
       "      <th>decel</th>\n",
       "      <th>speed_kph</th>\n",
       "      <th>elevation</th>\n",
       "      <th>num_periods</th>\n",
       "    </tr>\n",
       "  </thead>\n",
       "  <tbody>\n",
       "    <tr>\n",
       "      <th>count</th>\n",
       "      <td>3.090632e+07</td>\n",
       "      <td>3.090632e+07</td>\n",
       "      <td>3.090632e+07</td>\n",
       "      <td>3.090632e+07</td>\n",
       "      <td>3.090632e+07</td>\n",
       "    </tr>\n",
       "    <tr>\n",
       "      <th>mean</th>\n",
       "      <td>1.272281e+00</td>\n",
       "      <td>1.446541e+00</td>\n",
       "      <td>4.175950e+01</td>\n",
       "      <td>5.860810e+01</td>\n",
       "      <td>6.703973e+00</td>\n",
       "    </tr>\n",
       "    <tr>\n",
       "      <th>std</th>\n",
       "      <td>1.630303e+00</td>\n",
       "      <td>1.749992e+00</td>\n",
       "      <td>1.885087e+01</td>\n",
       "      <td>5.345039e+00</td>\n",
       "      <td>2.935308e+00</td>\n",
       "    </tr>\n",
       "    <tr>\n",
       "      <th>min</th>\n",
       "      <td>0.000000e+00</td>\n",
       "      <td>0.000000e+00</td>\n",
       "      <td>2.000000e+01</td>\n",
       "      <td>3.600000e+01</td>\n",
       "      <td>1.000000e+00</td>\n",
       "    </tr>\n",
       "    <tr>\n",
       "      <th>25%</th>\n",
       "      <td>0.000000e+00</td>\n",
       "      <td>0.000000e+00</td>\n",
       "      <td>3.000000e+01</td>\n",
       "      <td>5.500000e+01</td>\n",
       "      <td>5.000000e+00</td>\n",
       "    </tr>\n",
       "    <tr>\n",
       "      <th>50%</th>\n",
       "      <td>1.000000e+00</td>\n",
       "      <td>1.000000e+00</td>\n",
       "      <td>3.000000e+01</td>\n",
       "      <td>5.900000e+01</td>\n",
       "      <td>7.000000e+00</td>\n",
       "    </tr>\n",
       "    <tr>\n",
       "      <th>75%</th>\n",
       "      <td>2.000000e+00</td>\n",
       "      <td>2.000000e+00</td>\n",
       "      <td>6.000000e+01</td>\n",
       "      <td>6.200000e+01</td>\n",
       "      <td>9.000000e+00</td>\n",
       "    </tr>\n",
       "    <tr>\n",
       "      <th>max</th>\n",
       "      <td>2.000000e+01</td>\n",
       "      <td>2.000000e+01</td>\n",
       "      <td>8.000000e+01</td>\n",
       "      <td>2.070000e+02</td>\n",
       "      <td>5.800000e+01</td>\n",
       "    </tr>\n",
       "  </tbody>\n",
       "</table>\n",
       "</div>"
      ],
      "text/plain": [
       "              accel         decel     speed_kph     elevation   num_periods\n",
       "count  3.090632e+07  3.090632e+07  3.090632e+07  3.090632e+07  3.090632e+07\n",
       "mean   1.272281e+00  1.446541e+00  4.175950e+01  5.860810e+01  6.703973e+00\n",
       "std    1.630303e+00  1.749992e+00  1.885087e+01  5.345039e+00  2.935308e+00\n",
       "min    0.000000e+00  0.000000e+00  2.000000e+01  3.600000e+01  1.000000e+00\n",
       "25%    0.000000e+00  0.000000e+00  3.000000e+01  5.500000e+01  5.000000e+00\n",
       "50%    1.000000e+00  1.000000e+00  3.000000e+01  5.900000e+01  7.000000e+00\n",
       "75%    2.000000e+00  2.000000e+00  6.000000e+01  6.200000e+01  9.000000e+00\n",
       "max    2.000000e+01  2.000000e+01  8.000000e+01  2.070000e+02  5.800000e+01"
      ]
     },
     "execution_count": 4,
     "metadata": {},
     "output_type": "execute_result"
    }
   ],
   "source": [
    "# quick eda on some cols as basis for filtering\n",
    "inspect_cols = ['accel', 'decel', 'speed_kph', 'elevation', 'num_periods', \n",
    "                'pix_business', 'pix_residential', 'pix_industrial', 'lanes']\n",
    "df[inspect_cols].describe()"
   ]
  },
  {
   "cell_type": "code",
   "execution_count": 5,
   "id": "d2011a08",
   "metadata": {
    "ExecuteTime": {
     "end_time": "2022-05-23T08:01:59.522514Z",
     "start_time": "2022-05-23T08:01:54.858983Z"
    }
   },
   "outputs": [
    {
     "data": {
      "text/plain": [
       "time                False\n",
       "altitude            False\n",
       "vehicle_speed       False\n",
       "accel               False\n",
       "decel               False\n",
       "lon                 False\n",
       "lat                 False\n",
       "vehicle_id          False\n",
       "osmid               False\n",
       "lanes               False\n",
       "speed_kph           False\n",
       "length              False\n",
       "dist_to_edge        False\n",
       "barangay            False\n",
       "hour                False\n",
       "dayofweek           False\n",
       "month               False\n",
       "residential         False\n",
       "institutional       False\n",
       "industrial          False\n",
       "commercial          False\n",
       "elevation           False\n",
       "pix_business        False\n",
       "pix_residential     False\n",
       "pix_industrial      False\n",
       "num_periods         False\n",
       "recomputed_speed    False\n",
       "dtype: bool"
      ]
     },
     "execution_count": 5,
     "metadata": {},
     "output_type": "execute_result"
    }
   ],
   "source": [
    "df.isna().any()"
   ]
  },
  {
   "cell_type": "markdown",
   "id": "bac3a84f",
   "metadata": {},
   "source": [
    "## Choosing a window sample count threshold"
   ]
  },
  {
   "cell_type": "code",
   "execution_count": 6,
   "id": "c9b092ff",
   "metadata": {
    "ExecuteTime": {
     "end_time": "2022-05-23T08:01:59.528714Z",
     "start_time": "2022-05-23T08:01:59.524669Z"
    }
   },
   "outputs": [],
   "source": [
    "def clean_data(df):\n",
    "    df['barangay'] = df['barangay'].fillna('Out-of-town')\n",
    "    df = df.loc[df['barangay'] != 'Out-of-town']\n",
    "    df['lanes'] = df['lanes'].fillna(1.0)\n",
    "    return df\n",
    "\n",
    "def filter_data(df, thresh):\n",
    "    df = df.loc[df['num_periods'] >= thresh]\n",
    "    return df"
   ]
  },
  {
   "cell_type": "code",
   "execution_count": 7,
   "id": "4b3a1e5c",
   "metadata": {
    "ExecuteTime": {
     "end_time": "2022-05-23T08:02:08.173114Z",
     "start_time": "2022-05-23T08:01:59.530514Z"
    }
   },
   "outputs": [
    {
     "name": "stderr",
     "output_type": "stream",
     "text": [
      "/tmp/ipykernel_904/1451052938.py:4: SettingWithCopyWarning: \n",
      "A value is trying to be set on a copy of a slice from a DataFrame.\n",
      "Try using .loc[row_indexer,col_indexer] = value instead\n",
      "\n",
      "See the caveats in the documentation: https://pandas.pydata.org/pandas-docs/stable/user_guide/indexing.html#returning-a-view-versus-a-copy\n",
      "  df['lanes'] = df['lanes'].fillna(1.0)\n"
     ]
    }
   ],
   "source": [
    "df = clean_data(df)"
   ]
  },
  {
   "cell_type": "code",
   "execution_count": 8,
   "id": "c96ed693",
   "metadata": {
    "ExecuteTime": {
     "end_time": "2022-05-23T08:03:25.598780Z",
     "start_time": "2022-05-23T08:02:08.175340Z"
    }
   },
   "outputs": [],
   "source": [
    "max_ = df['num_periods'].max()\n",
    "min_ = df['num_periods'].min()\n",
    "\n",
    "thresholds = np.arange(min_, max_ + 1, 1)\n",
    "percent_included = np.array([filter_data(df, i).shape[0] / df.shape[0] for i in thresholds]) * 100\n",
    "num_included = np.array([filter_data(df, i).shape[0] for i in thresholds])"
   ]
  },
  {
   "cell_type": "code",
   "execution_count": 9,
   "id": "4e1733ea",
   "metadata": {
    "ExecuteTime": {
     "end_time": "2022-05-23T08:03:25.898537Z",
     "start_time": "2022-05-23T08:03:25.602440Z"
    }
   },
   "outputs": [
    {
     "data": {
      "image/png": "[encoded data removed]",
      "text/plain": [
       "<Figure size 576x360 with 1 Axes>"
      ]
     },
     "metadata": {
      "needs_background": "light"
     },
     "output_type": "display_data"
    }
   ],
   "source": [
    "fig, axes = plt.subplots(1, 1, figsize=(8, 5))\n",
    "\n",
    "axes.plot(thresholds, percent_included, label='Percent included', c='deeppink', lw=3)\n",
    "axes.legend(fontsize=10, loc='upper right')\n",
    "\n",
    "# Hide the right and top spines\n",
    "axes.spines['top'].set_visible(False)\n",
    "axes.spines['right'].set_visible(False)\n",
    "\n",
    "# set spines lw\n",
    "axes.spines['left'].set_linewidth(3)\n",
    "axes.spines['bottom'].set_linewidth(3)\n",
    "\n",
    "use_thresh = 12\n",
    "axes.axvline(use_thresh, linestyle='--', c='black')\n",
    "axes.annotate(f\"{percent_included[use_thresh - 1]:.2f} percent at thresh of {use_thresh}\\n{num_included[use_thresh - 1]} samples\", \n",
    "              xy=(use_thresh + 1, 90))\n",
    "\n",
    "axes.set_xlabel('Thresholds', fontsize=12)\n",
    "axes.set_ylabel('Percent included', fontsize=12)\n",
    "plt.savefig('.jpg')\n",
    "plt.show()"
   ]
  },
  {
   "cell_type": "markdown",
   "id": "9dbf3be1",
   "metadata": {},
   "source": [
    "## Distribution comparison: Instantaneous vs Aggregate Speed"
   ]
  },
  {
   "cell_type": "code",
   "execution_count": 14,
   "id": "42ac95c4",
   "metadata": {
    "ExecuteTime": {
     "end_time": "2022-05-23T08:31:40.021997Z",
     "start_time": "2022-05-23T08:31:38.026785Z"
    }
   },
   "outputs": [
    {
     "data": {
      "text/html": [
       "<div>\n",
       "<style scoped>\n",
       "    .dataframe tbody tr th:only-of-type {\n",
       "        vertical-align: middle;\n",
       "    }\n",
       "\n",
       "    .dataframe tbody tr th {\n",
       "        vertical-align: top;\n",
       "    }\n",
       "\n",
       "    .dataframe thead th {\n",
       "        text-align: right;\n",
       "    }\n",
       "</style>\n",
       "<table border=\"1\" class=\"dataframe\">\n",
       "  <thead>\n",
       "    <tr style=\"text-align: right;\">\n",
       "      <th></th>\n",
       "      <th>vehicle_speed</th>\n",
       "      <th>recomputed_speed</th>\n",
       "    </tr>\n",
       "  </thead>\n",
       "  <tbody>\n",
       "    <tr>\n",
       "      <th>count</th>\n",
       "      <td>3.090507e+07</td>\n",
       "      <td>3.090507e+07</td>\n",
       "    </tr>\n",
       "    <tr>\n",
       "      <th>mean</th>\n",
       "      <td>1.884206e+01</td>\n",
       "      <td>1.929879e+01</td>\n",
       "    </tr>\n",
       "    <tr>\n",
       "      <th>std</th>\n",
       "      <td>1.247464e+01</td>\n",
       "      <td>1.166195e+01</td>\n",
       "    </tr>\n",
       "    <tr>\n",
       "      <th>min</th>\n",
       "      <td>0.000000e+00</td>\n",
       "      <td>0.000000e+00</td>\n",
       "    </tr>\n",
       "    <tr>\n",
       "      <th>25%</th>\n",
       "      <td>9.000000e+00</td>\n",
       "      <td>1.100000e+01</td>\n",
       "    </tr>\n",
       "    <tr>\n",
       "      <th>50%</th>\n",
       "      <td>1.900000e+01</td>\n",
       "      <td>1.900000e+01</td>\n",
       "    </tr>\n",
       "    <tr>\n",
       "      <th>75%</th>\n",
       "      <td>2.800000e+01</td>\n",
       "      <td>2.800000e+01</td>\n",
       "    </tr>\n",
       "    <tr>\n",
       "      <th>max</th>\n",
       "      <td>9.700000e+01</td>\n",
       "      <td>8.900000e+01</td>\n",
       "    </tr>\n",
       "  </tbody>\n",
       "</table>\n",
       "</div>"
      ],
      "text/plain": [
       "       vehicle_speed  recomputed_speed\n",
       "count   3.090507e+07      3.090507e+07\n",
       "mean    1.884206e+01      1.929879e+01\n",
       "std     1.247464e+01      1.166195e+01\n",
       "min     0.000000e+00      0.000000e+00\n",
       "25%     9.000000e+00      1.100000e+01\n",
       "50%     1.900000e+01      1.900000e+01\n",
       "75%     2.800000e+01      2.800000e+01\n",
       "max     9.700000e+01      8.900000e+01"
      ]
     },
     "execution_count": 14,
     "metadata": {},
     "output_type": "execute_result"
    }
   ],
   "source": [
    "df[['vehicle_speed','recomputed_speed']].describe()"
   ]
  },
  {
   "cell_type": "code",
   "execution_count": 18,
   "id": "ff985dd4",
   "metadata": {
    "ExecuteTime": {
     "end_time": "2022-05-23T08:58:17.351104Z",
     "start_time": "2022-05-23T08:51:37.587400Z"
    }
   },
   "outputs": [
    {
     "data": {
      "text/plain": [
       "<AxesSubplot:xlabel='recomputed_speed', ylabel='Density'>"
      ]
     },
     "execution_count": 18,
     "metadata": {},
     "output_type": "execute_result"
    },
    {
     "data": {
      "image/png": "[encoded data removed]",
      "text/plain": [
       "<Figure size 576x360 with 1 Axes>"
      ]
     },
     "metadata": {
      "needs_background": "light"
     },
     "output_type": "display_data"
    }
   ],
   "source": [
    "plot_labels = {\n",
    "    'vehicle_speed': 'Instantaneous Speed',\n",
    "    'recomputed_speed': 'Aggregated Speed'\n",
    "}\n",
    "\n",
    "data = df[['vehicle_speed', 'recomputed_speed']].rename(columns=plot_labels)\n",
    "\n",
    "thresh = 12\n",
    "\n",
    "fig, ax = plt.subplots(figsize=(8,5))\n",
    "\n"
   ]
  },
  {
   "cell_type": "markdown",
   "id": "5c3a1763",
   "metadata": {},
   "source": [
    "# End"
   ]
  }
 ],
 "metadata": {
  "hide_input": false,
  "kernelspec": {
   "display_name": "Python 3 (ipykernel)",
   "language": "python",
   "name": "python3"
  },
  "language_info": {
   "codemirror_mode": {
    "name": "ipython",
    "version": 3
   },
   "file_extension": ".py",
   "mimetype": "text/x-python",
   "name": "python",
   "nbconvert_exporter": "python",
   "pygments_lexer": "ipython3",
   "version": "3.9.7"
  },
  "toc": {
   "base_numbering": 1,
   "nav_menu": {},
   "number_sections": true,
   "sideBar": true,
   "skip_h1_title": false,
   "title_cell": "Table of Contents",
   "title_sidebar": "Contents",
   "toc_cell": false,
   "toc_position": {},
   "toc_section_display": true,
   "toc_window_display": false
  }
 },
 "nbformat": 4,
 "nbformat_minor": 5
}
