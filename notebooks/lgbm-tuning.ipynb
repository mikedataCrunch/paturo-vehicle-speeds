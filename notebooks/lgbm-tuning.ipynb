{
 "cells": [
  {
   "cell_type": "markdown",
   "id": "016a1ba2",
   "metadata": {},
   "source": [
    "# ML: Tuning LightGBM for Aggregated Speed Prediction"
   ]
  },
  {
   "cell_type": "code",
   "execution_count": 1,
   "id": "9352285f",
   "metadata": {
    "ExecuteTime": {
     "end_time": "2022-06-02T04:08:16.069575Z",
     "start_time": "2022-06-02T04:08:11.510823Z"
    }
   },
   "outputs": [],
   "source": [
    "import shap\n",
    "import pandas as pd\n",
    "import numpy as np\n",
    "import time\n",
    "import seaborn as sns\n",
    "import matplotlib.pyplot as plt\n",
    "import lightgbm as lgb\n",
    "from sklearn.model_selection import train_test_split, KFold, cross_val_score\n",
    "from sklearn.metrics import r2_score, mean_squared_error, make_scorer\n",
    "\n",
    "\n",
    "from glob import glob\n",
    "import os\n",
    "import optuna\n",
    "import joblib\n",
    "from tqdm import tqdm\n",
    "\n",
    "import warnings\n",
    "warnings.filterwarnings('ignore')\n",
    "\n",
    "from datetime import datetime"
   ]
  },
  {
   "cell_type": "code",
   "execution_count": 2,
   "id": "5c3b88ac",
   "metadata": {
    "ExecuteTime": {
     "end_time": "2022-06-02T04:08:16.076883Z",
     "start_time": "2022-06-02T04:08:16.072026Z"
    }
   },
   "outputs": [
    {
     "name": "stdout",
     "output_type": "stream",
     "text": [
      "RAM: 251.79 GB\n"
     ]
    }
   ],
   "source": [
    "import psutil\n",
    "    \n",
    "ram_gb = psutil.virtual_memory().total / 2**30 # total physical memory in bytes\n",
    "print(f\"RAM: {ram_gb:.2f} GB\")"
   ]
  },
  {
   "cell_type": "code",
   "execution_count": 3,
   "id": "960297ae",
   "metadata": {
    "ExecuteTime": {
     "end_time": "2022-06-02T04:08:16.084489Z",
     "start_time": "2022-06-02T04:08:16.079221Z"
    }
   },
   "outputs": [],
   "source": [
    "# read data: mean\n",
    "agg = 'mean'\n",
    "lookback_window = 60\n",
    "source_date = '2022-06-01'\n",
    "\n",
    "glob_path = f'../datasets/per-vehicle-moving-average/{agg}-window-{lookback_window}-{source_date}/*.csv'\n",
    "filepaths = glob(glob_path)"
   ]
  },
  {
   "cell_type": "code",
   "execution_count": 4,
   "id": "a426224c",
   "metadata": {
    "ExecuteTime": {
     "end_time": "2022-06-02T04:08:16.091053Z",
     "start_time": "2022-06-02T04:08:16.086977Z"
    }
   },
   "outputs": [],
   "source": [
    "def correct_service_rd_kphlimit(temp_df):\n",
    "    temp_df.loc[temp_df['speed_limit_kph'] == 36.7, 'speed_limit_kph'] = 20\n",
    "    return temp_df"
   ]
  },
  {
   "cell_type": "code",
   "execution_count": 5,
   "id": "754bf23b",
   "metadata": {
    "ExecuteTime": {
     "end_time": "2022-06-02T04:11:53.316089Z",
     "start_time": "2022-06-02T04:08:16.096487Z"
    }
   },
   "outputs": [
    {
     "name": "stdout",
     "output_type": "stream",
     "text": [
      "<class 'pandas.core.frame.DataFrame'>\n",
      "Int64Index: 33817601 entries, 0 to 132806\n",
      "Data columns (total 43 columns):\n",
      " #   Column                 Dtype  \n",
      "---  ------                 -----  \n",
      " 0   datetime               object \n",
      " 1   altitude               int64  \n",
      " 2   angle                  int64  \n",
      " 3   instant_speed          int64  \n",
      " 4   accel                  float64\n",
      " 5   ai1                    int64  \n",
      " 6   ai2                    int64  \n",
      " 7   ai3                    int64  \n",
      " 8   ai4                    int64  \n",
      " 9   alarm_code             int64  \n",
      " 10  bats                   int64  \n",
      " 11  decel                  float64\n",
      " 12  di1                    int64  \n",
      " 13  di2                    int64  \n",
      " 14  di3                    int64  \n",
      " 15  di4                    int64  \n",
      " 16  di5                    int64  \n",
      " 17  do1                    int64  \n",
      " 18  do2                    int64  \n",
      " 19  do3                    int64  \n",
      " 20  do4                    int64  \n",
      " 21  gpslev                 int64  \n",
      " 22  hdop                   float64\n",
      " 23  odo                    int64  \n",
      " 24  lon                    float64\n",
      " 25  lat                    float64\n",
      " 26  vehicle_id             int64  \n",
      " 27  road_osmid             object \n",
      " 28  number_of_lanes        float64\n",
      " 29  speed_limit_kph        float64\n",
      " 30  road_segment_length    float64\n",
      " 31  distance_to_road       float64\n",
      " 32  barangay               object \n",
      " 33  hour                   int64  \n",
      " 34  dayofweek              int64  \n",
      " 35  month                  int64  \n",
      " 36  elevation              int64  \n",
      " 37  pix_business_4x4       int64  \n",
      " 38  pix_residential_4x4    int64  \n",
      " 39  pix_industrial_4x4     int64  \n",
      " 40  pix_institutional_4x4  int64  \n",
      " 41  num_periods            int64  \n",
      " 42  agg_speed              float64\n",
      "dtypes: float64(10), int64(30), object(3)\n",
      "memory usage: 11.1+ GB\n"
     ]
    },
    {
     "data": {
      "text/html": [
       "<div>\n",
       "<style scoped>\n",
       "    .dataframe tbody tr th:only-of-type {\n",
       "        vertical-align: middle;\n",
       "    }\n",
       "\n",
       "    .dataframe tbody tr th {\n",
       "        vertical-align: top;\n",
       "    }\n",
       "\n",
       "    .dataframe thead th {\n",
       "        text-align: right;\n",
       "    }\n",
       "</style>\n",
       "<table border=\"1\" class=\"dataframe\">\n",
       "  <thead>\n",
       "    <tr style=\"text-align: right;\">\n",
       "      <th></th>\n",
       "      <th>datetime</th>\n",
       "      <th>altitude</th>\n",
       "      <th>angle</th>\n",
       "      <th>instant_speed</th>\n",
       "      <th>accel</th>\n",
       "      <th>ai1</th>\n",
       "      <th>ai2</th>\n",
       "      <th>ai3</th>\n",
       "      <th>ai4</th>\n",
       "      <th>alarm_code</th>\n",
       "      <th>...</th>\n",
       "      <th>hour</th>\n",
       "      <th>dayofweek</th>\n",
       "      <th>month</th>\n",
       "      <th>elevation</th>\n",
       "      <th>pix_business_4x4</th>\n",
       "      <th>pix_residential_4x4</th>\n",
       "      <th>pix_industrial_4x4</th>\n",
       "      <th>pix_institutional_4x4</th>\n",
       "      <th>num_periods</th>\n",
       "      <th>agg_speed</th>\n",
       "    </tr>\n",
       "  </thead>\n",
       "  <tbody>\n",
       "    <tr>\n",
       "      <th>0</th>\n",
       "      <td>2021-02-19 09:42:48+08:00</td>\n",
       "      <td>79</td>\n",
       "      <td>127</td>\n",
       "      <td>0</td>\n",
       "      <td>0.0</td>\n",
       "      <td>0</td>\n",
       "      <td>1023</td>\n",
       "      <td>307</td>\n",
       "      <td>628</td>\n",
       "      <td>0</td>\n",
       "      <td>...</td>\n",
       "      <td>9</td>\n",
       "      <td>4</td>\n",
       "      <td>2</td>\n",
       "      <td>58</td>\n",
       "      <td>222</td>\n",
       "      <td>1111</td>\n",
       "      <td>14</td>\n",
       "      <td>503</td>\n",
       "      <td>1</td>\n",
       "      <td>0.0</td>\n",
       "    </tr>\n",
       "    <tr>\n",
       "      <th>1</th>\n",
       "      <td>2021-02-19 09:43:19+08:00</td>\n",
       "      <td>79</td>\n",
       "      <td>93</td>\n",
       "      <td>0</td>\n",
       "      <td>0.0</td>\n",
       "      <td>0</td>\n",
       "      <td>1023</td>\n",
       "      <td>303</td>\n",
       "      <td>628</td>\n",
       "      <td>0</td>\n",
       "      <td>...</td>\n",
       "      <td>9</td>\n",
       "      <td>4</td>\n",
       "      <td>2</td>\n",
       "      <td>58</td>\n",
       "      <td>222</td>\n",
       "      <td>1111</td>\n",
       "      <td>14</td>\n",
       "      <td>503</td>\n",
       "      <td>2</td>\n",
       "      <td>0.0</td>\n",
       "    </tr>\n",
       "    <tr>\n",
       "      <th>2</th>\n",
       "      <td>2021-02-19 09:43:49+08:00</td>\n",
       "      <td>79</td>\n",
       "      <td>189</td>\n",
       "      <td>0</td>\n",
       "      <td>0.0</td>\n",
       "      <td>0</td>\n",
       "      <td>1023</td>\n",
       "      <td>305</td>\n",
       "      <td>629</td>\n",
       "      <td>0</td>\n",
       "      <td>...</td>\n",
       "      <td>9</td>\n",
       "      <td>4</td>\n",
       "      <td>2</td>\n",
       "      <td>58</td>\n",
       "      <td>222</td>\n",
       "      <td>1111</td>\n",
       "      <td>14</td>\n",
       "      <td>503</td>\n",
       "      <td>2</td>\n",
       "      <td>0.0</td>\n",
       "    </tr>\n",
       "    <tr>\n",
       "      <th>3</th>\n",
       "      <td>2021-02-19 09:44:19+08:00</td>\n",
       "      <td>79</td>\n",
       "      <td>115</td>\n",
       "      <td>0</td>\n",
       "      <td>0.0</td>\n",
       "      <td>0</td>\n",
       "      <td>1023</td>\n",
       "      <td>306</td>\n",
       "      <td>629</td>\n",
       "      <td>0</td>\n",
       "      <td>...</td>\n",
       "      <td>9</td>\n",
       "      <td>4</td>\n",
       "      <td>2</td>\n",
       "      <td>58</td>\n",
       "      <td>222</td>\n",
       "      <td>1111</td>\n",
       "      <td>14</td>\n",
       "      <td>503</td>\n",
       "      <td>2</td>\n",
       "      <td>0.0</td>\n",
       "    </tr>\n",
       "    <tr>\n",
       "      <th>4</th>\n",
       "      <td>2021-02-19 09:44:47+08:00</td>\n",
       "      <td>79</td>\n",
       "      <td>13</td>\n",
       "      <td>0</td>\n",
       "      <td>0.0</td>\n",
       "      <td>0</td>\n",
       "      <td>1023</td>\n",
       "      <td>300</td>\n",
       "      <td>629</td>\n",
       "      <td>33</td>\n",
       "      <td>...</td>\n",
       "      <td>9</td>\n",
       "      <td>4</td>\n",
       "      <td>2</td>\n",
       "      <td>58</td>\n",
       "      <td>222</td>\n",
       "      <td>1111</td>\n",
       "      <td>14</td>\n",
       "      <td>503</td>\n",
       "      <td>3</td>\n",
       "      <td>0.0</td>\n",
       "    </tr>\n",
       "  </tbody>\n",
       "</table>\n",
       "<p>5 rows × 43 columns</p>\n",
       "</div>"
      ],
      "text/plain": [
       "                    datetime  altitude  angle  instant_speed  accel  ai1  \\\n",
       "0  2021-02-19 09:42:48+08:00        79    127              0    0.0    0   \n",
       "1  2021-02-19 09:43:19+08:00        79     93              0    0.0    0   \n",
       "2  2021-02-19 09:43:49+08:00        79    189              0    0.0    0   \n",
       "3  2021-02-19 09:44:19+08:00        79    115              0    0.0    0   \n",
       "4  2021-02-19 09:44:47+08:00        79     13              0    0.0    0   \n",
       "\n",
       "    ai2  ai3  ai4  alarm_code  ...  hour  dayofweek  month  elevation  \\\n",
       "0  1023  307  628           0  ...     9          4      2         58   \n",
       "1  1023  303  628           0  ...     9          4      2         58   \n",
       "2  1023  305  629           0  ...     9          4      2         58   \n",
       "3  1023  306  629           0  ...     9          4      2         58   \n",
       "4  1023  300  629          33  ...     9          4      2         58   \n",
       "\n",
       "   pix_business_4x4  pix_residential_4x4  pix_industrial_4x4  \\\n",
       "0               222                 1111                  14   \n",
       "1               222                 1111                  14   \n",
       "2               222                 1111                  14   \n",
       "3               222                 1111                  14   \n",
       "4               222                 1111                  14   \n",
       "\n",
       "   pix_institutional_4x4  num_periods  agg_speed  \n",
       "0                    503            1        0.0  \n",
       "1                    503            2        0.0  \n",
       "2                    503            2        0.0  \n",
       "3                    503            2        0.0  \n",
       "4                    503            3        0.0  \n",
       "\n",
       "[5 rows x 43 columns]"
      ]
     },
     "metadata": {},
     "output_type": "display_data"
    }
   ],
   "source": [
    "# get dtypes\n",
    "dtypes_dict = pd.read_csv(filepaths[0]).dtypes.to_dict()\n",
    "\n",
    "# set low_memory=False to ensure no mixed types\n",
    "df = pd.concat([pd.read_csv(path, dtype=dtypes_dict) for path in filepaths])\n",
    "df = correct_service_rd_kphlimit(df)\n",
    "\n",
    "df.info()\n",
    "display(df.head())"
   ]
  },
  {
   "cell_type": "code",
   "execution_count": 6,
   "id": "bba8cefa",
   "metadata": {
    "ExecuteTime": {
     "end_time": "2022-06-02T04:11:53.332088Z",
     "start_time": "2022-06-02T04:11:53.322709Z"
    }
   },
   "outputs": [],
   "source": [
    "# quick eda on some cols\n",
    "def filter_data(df, thresh):\n",
    "    df = df.loc[df['num_periods'] >= thresh]\n",
    "    return df"
   ]
  },
  {
   "cell_type": "code",
   "execution_count": 7,
   "id": "4f4a48ad",
   "metadata": {
    "ExecuteTime": {
     "end_time": "2022-06-02T04:12:28.332559Z",
     "start_time": "2022-06-02T04:11:53.341514Z"
    }
   },
   "outputs": [],
   "source": [
    "# filtered\n",
    "df_filtered = filter_data(df, thresh=12)"
   ]
  },
  {
   "cell_type": "code",
   "execution_count": 8,
   "id": "3db3380f",
   "metadata": {
    "ExecuteTime": {
     "end_time": "2022-06-02T04:12:28.345829Z",
     "start_time": "2022-06-02T04:12:28.336432Z"
    }
   },
   "outputs": [
    {
     "name": "stdout",
     "output_type": "stream",
     "text": [
      "Percentage of samples with period over 12:  3.943958059000105\n"
     ]
    }
   ],
   "source": [
    "above_thresh_percentage =((df_filtered.shape[0]) / df.shape[0]) * 100\n",
    "print(\"Percentage of samples with period over 12: \", above_thresh_percentage)"
   ]
  },
  {
   "cell_type": "code",
   "execution_count": 9,
   "id": "700e37b3",
   "metadata": {
    "ExecuteTime": {
     "end_time": "2022-06-02T04:33:06.920802Z",
     "start_time": "2022-06-02T04:12:28.351477Z"
    }
   },
   "outputs": [
    {
     "name": "stdout",
     "output_type": "stream",
     "text": [
      "2022-06-02\n"
     ]
    }
   ],
   "source": [
    "# use filtered\n",
    "test_size = 0.20 # 20% of data set used for evaluation, 80% as train\n",
    "tuning_size = 0.05 # 5% of the training set is used for tuning\n",
    "\n",
    "retrain, test = train_test_split(df, test_size=test_size, random_state=11)\n",
    "_, tune = train_test_split(retrain, test_size=tuning_size, random_state=11)\n",
    "\n",
    "run_date = str(datetime.now().date()) # now date\n",
    "print(run_date)\n",
    "\n",
    "save_dir = f'../datasets/inference'\n",
    "\n",
    "if not os.path.exists(save_dir):\n",
    "    os.makedirs(save_dir)\n",
    "\n",
    "test.to_csv(f'{save_dir}/{agg}-window-{lookback_window}-test-{run_date}.csv', index=False) # 20%\n",
    "retrain.to_csv(f'{save_dir}/{agg}-window-{lookback_window}-retrain-{run_date}.csv', index=False) # 80% uncluding tuning set"
   ]
  },
  {
   "cell_type": "code",
   "execution_count": 10,
   "id": "3d331d64",
   "metadata": {
    "ExecuteTime": {
     "end_time": "2022-06-02T04:33:06.933048Z",
     "start_time": "2022-06-02T04:33:06.925410Z"
    }
   },
   "outputs": [
    {
     "name": "stdout",
     "output_type": "stream",
     "text": [
      "Retrain shape:  (27054080, 43)\n",
      "Test shape:  (6763521, 43)\n",
      "Tune shape:  (1352704, 43)\n"
     ]
    }
   ],
   "source": [
    "print(\"Retrain shape: \", retrain.shape)\n",
    "print(\"Test shape: \", test.shape)\n",
    "print(\"Tune shape: \", tune.shape)"
   ]
  },
  {
   "cell_type": "code",
   "execution_count": 11,
   "id": "808d1bc4",
   "metadata": {
    "ExecuteTime": {
     "end_time": "2022-06-02T04:33:06.972747Z",
     "start_time": "2022-06-02T04:33:06.936414Z"
    }
   },
   "outputs": [
    {
     "data": {
      "text/plain": [
       "[0, 2]"
      ]
     },
     "execution_count": 11,
     "metadata": {},
     "output_type": "execute_result"
    }
   ],
   "source": [
    "# usecols for ML\n",
    "discrete_num_cols = ['number_of_lanes', 'speed_limit_kph',]\n",
    "building_types = ['residential', 'business', 'industrial', 'institutional']\n",
    "pixel_size = '4x4'\n",
    "landuse_cols = [f'pix_{type_}_{pixel_size}' for type_ in building_types]\n",
    "num_cols = landuse_cols + discrete_num_cols + ['elevation']\n",
    "\n",
    "# cat cols\n",
    "cat_cols = ['hour', 'dayofweek']\n",
    "features = sorted(cat_cols + num_cols) # sort for reference in feature order\n",
    "cat_cols_index = [index for (index, col) in enumerate(features) if col in cat_cols]\n",
    "cat_cols_index"
   ]
  },
  {
   "cell_type": "code",
   "execution_count": 12,
   "id": "a312e0a8",
   "metadata": {
    "ExecuteTime": {
     "end_time": "2022-06-02T04:33:07.022013Z",
     "start_time": "2022-06-02T04:33:06.975432Z"
    }
   },
   "outputs": [],
   "source": [
    "# prepare data: features, target\n",
    "X, y = tune[features], tune['agg_speed']\n",
    "\n",
    "# prepare kfold\n",
    "kf = KFold(n_splits=10)\n",
    "\n",
    "# prepare rmse scorer\n",
    "def rmse(y_true, y_pred):\n",
    "    rmse = np.sqrt(mean_squared_error(y_true, y_pred))\n",
    "    return rmse\n",
    "rmse_scorer = make_scorer(rmse) # rmse scoring metric for cross_val"
   ]
  },
  {
   "cell_type": "code",
   "execution_count": 13,
   "id": "cb01a663",
   "metadata": {
    "ExecuteTime": {
     "end_time": "2022-06-02T04:33:07.063652Z",
     "start_time": "2022-06-02T04:33:07.027541Z"
    }
   },
   "outputs": [],
   "source": [
    "def objective(trial):\n",
    "    lgb_params = {\n",
    "        'tree_learner': 'data',\n",
    "        'seed':11,\n",
    "        'verbose': -1,\n",
    "        'boosting_type': trial.suggest_categorical(\n",
    "            'boosting_type', ['goss', 'dart']),\n",
    "        'objective': trial.suggest_categorical(\n",
    "            'objective', ['regression', 'tweedie', 'regression_l1', 'mape']),\n",
    "        'num_leaves': trial.suggest_int('num_leaves', 2, 512, log=True),\n",
    "        'min_data_in_leaf': trial.suggest_int('min_data_in_leaf', 100, 10000, log=True),\n",
    "        'max_bin': trial.suggest_int('max_bin', 100, 300),\n",
    "        'num_iterations': trial.suggest_int(\"num_iterations\", 100, 1000),\n",
    "        'learning_rate' : trial.suggest_float(\"learning_rate\", 0.001, 1, log=True),\n",
    "    }\n",
    "    if lgb_params['boosting_type']=='goss':\n",
    "        top_rate =  trial.suggest_uniform(\"top_rate\", 0, 1.0)\n",
    "        other_rate = trial.suggest_uniform(\"other_rate\", 0, (1.0 - top_rate)) \n",
    "\n",
    "        # corrects the top_rate/other_rate values to only sum to 1\n",
    "        if (top_rate + other_rate) > 1.0:\n",
    "            lgb_params['other_rate'] = other_rate / (top_rate + other_rate)\n",
    "            lgb_params['top_rate'] = top_rate / (top_rate + other_rate)\n",
    "        \n",
    "\n",
    "    model = lgb.LGBMRegressor(**lgb_params)\n",
    "    scores = cross_val_score(estimator=model, X=X, y=y, scoring=rmse_scorer, cv=kf, n_jobs=-1, \n",
    "                             fit_params={'categorical_feature': cat_cols_index},\n",
    "                             error_score='raise')\n",
    "    return np.mean(scores)"
   ]
  },
  {
   "cell_type": "code",
   "execution_count": 14,
   "id": "ffc6c601",
   "metadata": {
    "ExecuteTime": {
     "end_time": "2022-06-02T04:33:07.606623Z",
     "start_time": "2022-06-02T04:33:07.071685Z"
    }
   },
   "outputs": [
    {
     "name": "stderr",
     "output_type": "stream",
     "text": [
      "\u001b[32m[I 2022-06-02 12:33:07,548]\u001b[0m A new study created in RDB with name: mean-window-60-2022-06-02\u001b[0m\n"
     ]
    }
   ],
   "source": [
    "study_name = f'{agg}-window-{lookback_window}-{run_date}'\n",
    "\n",
    "save_dir = f'../experiments/{agg}/'\n",
    "if not os.path.exists(save_dir):\n",
    "    os.makedirs(save_dir)\n",
    "    \n",
    "study = optuna.create_study(study_name=study_name,\n",
    "                            direction='minimize',\n",
    "                            storage=f'sqlite:///{save_dir}/{study_name}.db',\n",
    "                            load_if_exists=True)"
   ]
  },
  {
   "cell_type": "code",
   "execution_count": null,
   "id": "4d37bc94",
   "metadata": {
    "ExecuteTime": {
     "start_time": "2022-06-02T04:08:11.472Z"
    },
    "scrolled": true
   },
   "outputs": [
    {
     "name": "stderr",
     "output_type": "stream",
     "text": [
      "/home/mdorosan/.local/lib/python3.9/site-packages/lightgbm/engine.py:148: UserWarning: Found `num_iterations` in params. Will use it instead of argument\n",
      "  _log_warning(\"Found `{}` in params. Will use it instead of argument\".format(alias))\n",
      "/home/mdorosan/.local/lib/python3.9/site-packages/lightgbm/basic.py:1702: UserWarning: Using categorical_feature in Dataset.\n",
      "  _log_warning('Using categorical_feature in Dataset.')\n",
      "/home/mdorosan/.local/lib/python3.9/site-packages/lightgbm/engine.py:148: UserWarning: Found `num_iterations` in params. Will use it instead of argument\n",
      "  _log_warning(\"Found `{}` in params. Will use it instead of argument\".format(alias))\n",
      "/home/mdorosan/.local/lib/python3.9/site-packages/lightgbm/engine.py:148: UserWarning: Found `num_iterations` in params. Will use it instead of argument\n",
      "  _log_warning(\"Found `{}` in params. Will use it instead of argument\".format(alias))\n",
      "/home/mdorosan/.local/lib/python3.9/site-packages/lightgbm/basic.py:1702: UserWarning: Using categorical_feature in Dataset.\n",
      "  _log_warning('Using categorical_feature in Dataset.')\n",
      "/home/mdorosan/.local/lib/python3.9/site-packages/lightgbm/basic.py:1702: UserWarning: Using categorical_feature in Dataset.\n",
      "  _log_warning('Using categorical_feature in Dataset.')\n",
      "/home/mdorosan/.local/lib/python3.9/site-packages/lightgbm/engine.py:148: UserWarning: Found `num_iterations` in params. Will use it instead of argument\n",
      "  _log_warning(\"Found `{}` in params. Will use it instead of argument\".format(alias))\n",
      "/home/mdorosan/.local/lib/python3.9/site-packages/lightgbm/basic.py:1702: UserWarning: Using categorical_feature in Dataset.\n",
      "  _log_warning('Using categorical_feature in Dataset.')\n",
      "/home/mdorosan/.local/lib/python3.9/site-packages/lightgbm/engine.py:148: UserWarning: Found `num_iterations` in params. Will use it instead of argument\n",
      "  _log_warning(\"Found `{}` in params. Will use it instead of argument\".format(alias))\n",
      "/home/mdorosan/.local/lib/python3.9/site-packages/lightgbm/basic.py:1702: UserWarning: Using categorical_feature in Dataset.\n",
      "  _log_warning('Using categorical_feature in Dataset.')\n",
      "/home/mdorosan/.local/lib/python3.9/site-packages/lightgbm/engine.py:148: UserWarning: Found `num_iterations` in params. Will use it instead of argument\n",
      "  _log_warning(\"Found `{}` in params. Will use it instead of argument\".format(alias))\n",
      "/home/mdorosan/.local/lib/python3.9/site-packages/lightgbm/basic.py:1702: UserWarning: Using categorical_feature in Dataset.\n",
      "  _log_warning('Using categorical_feature in Dataset.')\n",
      "/home/mdorosan/.local/lib/python3.9/site-packages/lightgbm/engine.py:148: UserWarning: Found `num_iterations` in params. Will use it instead of argument\n",
      "  _log_warning(\"Found `{}` in params. Will use it instead of argument\".format(alias))\n",
      "/home/mdorosan/.local/lib/python3.9/site-packages/lightgbm/basic.py:1702: UserWarning: Using categorical_feature in Dataset.\n",
      "  _log_warning('Using categorical_feature in Dataset.')\n",
      "/home/mdorosan/.local/lib/python3.9/site-packages/lightgbm/engine.py:148: UserWarning: Found `num_iterations` in params. Will use it instead of argument\n",
      "  _log_warning(\"Found `{}` in params. Will use it instead of argument\".format(alias))\n",
      "/home/mdorosan/.local/lib/python3.9/site-packages/lightgbm/basic.py:1702: UserWarning: Using categorical_feature in Dataset.\n",
      "  _log_warning('Using categorical_feature in Dataset.')\n",
      "/home/mdorosan/.local/lib/python3.9/site-packages/lightgbm/engine.py:148: UserWarning: Found `num_iterations` in params. Will use it instead of argument\n",
      "  _log_warning(\"Found `{}` in params. Will use it instead of argument\".format(alias))\n",
      "/home/mdorosan/.local/lib/python3.9/site-packages/lightgbm/engine.py:148: UserWarning: Found `num_iterations` in params. Will use it instead of argument\n",
      "  _log_warning(\"Found `{}` in params. Will use it instead of argument\".format(alias))\n",
      "/home/mdorosan/.local/lib/python3.9/site-packages/lightgbm/basic.py:1702: UserWarning: Using categorical_feature in Dataset.\n",
      "  _log_warning('Using categorical_feature in Dataset.')\n",
      "/home/mdorosan/.local/lib/python3.9/site-packages/lightgbm/basic.py:1702: UserWarning: Using categorical_feature in Dataset.\n",
      "  _log_warning('Using categorical_feature in Dataset.')\n",
      "\u001b[32m[I 2022-06-02 12:35:33,547]\u001b[0m Trial 0 finished with value: 7.8622583003588655 and parameters: {'boosting_type': 'goss', 'objective': 'regression_l1', 'num_leaves': 14, 'min_data_in_leaf': 415, 'max_bin': 261, 'num_iterations': 652, 'learning_rate': 0.29363920164598656, 'top_rate': 0.8411746438549087, 'other_rate': 0.12884792906031803}. Best is trial 0 with value: 7.8622583003588655.\u001b[0m\n",
      "/home/mdorosan/.local/lib/python3.9/site-packages/lightgbm/engine.py:148: UserWarning: Found `num_iterations` in params. Will use it instead of argument\n",
      "  _log_warning(\"Found `{}` in params. Will use it instead of argument\".format(alias))\n",
      "/home/mdorosan/.local/lib/python3.9/site-packages/lightgbm/basic.py:1702: UserWarning: Using categorical_feature in Dataset.\n",
      "  _log_warning('Using categorical_feature in Dataset.')\n",
      "/home/mdorosan/.local/lib/python3.9/site-packages/lightgbm/engine.py:148: UserWarning: Found `num_iterations` in params. Will use it instead of argument\n",
      "  _log_warning(\"Found `{}` in params. Will use it instead of argument\".format(alias))\n",
      "/home/mdorosan/.local/lib/python3.9/site-packages/lightgbm/basic.py:1702: UserWarning: Using categorical_feature in Dataset.\n",
      "  _log_warning('Using categorical_feature in Dataset.')\n",
      "/home/mdorosan/.local/lib/python3.9/site-packages/lightgbm/engine.py:148: UserWarning: Found `num_iterations` in params. Will use it instead of argument\n",
      "  _log_warning(\"Found `{}` in params. Will use it instead of argument\".format(alias))\n",
      "/home/mdorosan/.local/lib/python3.9/site-packages/lightgbm/basic.py:1702: UserWarning: Using categorical_feature in Dataset.\n",
      "  _log_warning('Using categorical_feature in Dataset.')\n",
      "/home/mdorosan/.local/lib/python3.9/site-packages/lightgbm/engine.py:148: UserWarning: Found `num_iterations` in params. Will use it instead of argument\n",
      "  _log_warning(\"Found `{}` in params. Will use it instead of argument\".format(alias))\n",
      "/home/mdorosan/.local/lib/python3.9/site-packages/lightgbm/basic.py:1702: UserWarning: Using categorical_feature in Dataset.\n",
      "  _log_warning('Using categorical_feature in Dataset.')\n",
      "/home/mdorosan/.local/lib/python3.9/site-packages/lightgbm/engine.py:148: UserWarning: Found `num_iterations` in params. Will use it instead of argument\n",
      "  _log_warning(\"Found `{}` in params. Will use it instead of argument\".format(alias))\n",
      "/home/mdorosan/.local/lib/python3.9/site-packages/lightgbm/basic.py:1702: UserWarning: Using categorical_feature in Dataset.\n",
      "  _log_warning('Using categorical_feature in Dataset.')\n",
      "/home/mdorosan/.local/lib/python3.9/site-packages/lightgbm/engine.py:148: UserWarning: Found `num_iterations` in params. Will use it instead of argument\n",
      "  _log_warning(\"Found `{}` in params. Will use it instead of argument\".format(alias))\n",
      "/home/mdorosan/.local/lib/python3.9/site-packages/lightgbm/basic.py:1702: UserWarning: Using categorical_feature in Dataset.\n",
      "  _log_warning('Using categorical_feature in Dataset.')\n",
      "/home/mdorosan/.local/lib/python3.9/site-packages/lightgbm/engine.py:148: UserWarning: Found `num_iterations` in params. Will use it instead of argument\n",
      "  _log_warning(\"Found `{}` in params. Will use it instead of argument\".format(alias))\n",
      "/home/mdorosan/.local/lib/python3.9/site-packages/lightgbm/basic.py:1702: UserWarning: Using categorical_feature in Dataset.\n",
      "  _log_warning('Using categorical_feature in Dataset.')\n",
      "/home/mdorosan/.local/lib/python3.9/site-packages/lightgbm/engine.py:148: UserWarning: Found `num_iterations` in params. Will use it instead of argument\n",
      "  _log_warning(\"Found `{}` in params. Will use it instead of argument\".format(alias))\n",
      "/home/mdorosan/.local/lib/python3.9/site-packages/lightgbm/basic.py:1702: UserWarning: Using categorical_feature in Dataset.\n",
      "  _log_warning('Using categorical_feature in Dataset.')\n",
      "/home/mdorosan/.local/lib/python3.9/site-packages/lightgbm/engine.py:148: UserWarning: Found `num_iterations` in params. Will use it instead of argument\n",
      "  _log_warning(\"Found `{}` in params. Will use it instead of argument\".format(alias))\n",
      "/home/mdorosan/.local/lib/python3.9/site-packages/lightgbm/basic.py:1702: UserWarning: Using categorical_feature in Dataset.\n",
      "  _log_warning('Using categorical_feature in Dataset.')\n",
      "/home/mdorosan/.local/lib/python3.9/site-packages/lightgbm/engine.py:148: UserWarning: Found `num_iterations` in params. Will use it instead of argument\n",
      "  _log_warning(\"Found `{}` in params. Will use it instead of argument\".format(alias))\n",
      "/home/mdorosan/.local/lib/python3.9/site-packages/lightgbm/basic.py:1702: UserWarning: Using categorical_feature in Dataset.\n",
      "  _log_warning('Using categorical_feature in Dataset.')\n"
     ]
    }
   ],
   "source": [
    "study.optimize(objective, n_trials=20)"
   ]
  },
  {
   "cell_type": "markdown",
   "id": "88e80df4",
   "metadata": {},
   "source": [
    "# End"
   ]
  }
 ],
 "metadata": {
  "hide_input": false,
  "kernelspec": {
   "display_name": "Python 3 (ipykernel)",
   "language": "python",
   "name": "python3"
  },
  "language_info": {
   "codemirror_mode": {
    "name": "ipython",
    "version": 3
   },
   "file_extension": ".py",
   "mimetype": "text/x-python",
   "name": "python",
   "nbconvert_exporter": "python",
   "pygments_lexer": "ipython3",
   "version": "3.9.7"
  },
  "toc": {
   "base_numbering": 1,
   "nav_menu": {},
   "number_sections": true,
   "sideBar": true,
   "skip_h1_title": false,
   "title_cell": "Table of Contents",
   "title_sidebar": "Contents",
   "toc_cell": false,
   "toc_position": {},
   "toc_section_display": true,
   "toc_window_display": false
  }
 },
 "nbformat": 4,
 "nbformat_minor": 5
}
