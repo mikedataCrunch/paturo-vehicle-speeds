{
 "cells": [
  {
   "cell_type": "markdown",
   "id": "71027955",
   "metadata": {},
   "source": [
    "# Naive baseline lookup"
   ]
  },
  {
   "cell_type": "code",
   "execution_count": 1,
   "id": "a021cf48",
   "metadata": {
    "ExecuteTime": {
     "end_time": "2023-06-19T08:51:51.005702Z",
     "start_time": "2023-06-19T08:51:49.234633Z"
    }
   },
   "outputs": [],
   "source": [
    "import os\n",
    "import time\n",
    "import pandas as pd\n",
    "import numpy as np\n",
    "import seaborn as sns\n",
    "import matplotlib.pyplot as plt\n",
    "from glob import glob\n",
    "from tqdm import tqdm\n",
    "import os\n",
    "import json\n",
    "\n",
    "src_date = \"2023-06-17\""
   ]
  },
  {
   "cell_type": "code",
   "execution_count": 2,
   "id": "716eca98",
   "metadata": {
    "ExecuteTime": {
     "end_time": "2023-06-19T08:51:51.013730Z",
     "start_time": "2023-06-19T08:51:51.008423Z"
    }
   },
   "outputs": [
    {
     "name": "stdout",
     "output_type": "stream",
     "text": [
      "RAM: 251.54 GB\n"
     ]
    }
   ],
   "source": [
    "import psutil\n",
    "    \n",
    "ram_gb = psutil.virtual_memory().total / 2**30 # total physical memory in bytes\n",
    "print(f\"RAM: {ram_gb:.2f} GB\")"
   ]
  },
  {
   "cell_type": "code",
   "execution_count": 3,
   "id": "1dd4514e",
   "metadata": {
    "ExecuteTime": {
     "end_time": "2023-06-19T08:51:51.029959Z",
     "start_time": "2023-06-19T08:51:51.016359Z"
    }
   },
   "outputs": [],
   "source": [
    "# preprocess utils\n",
    "\n",
    "# compress dtypes\n",
    "dtypes_compressed = {\n",
    "    'datetime': np.object_,    \n",
    "    'hour': np.int8,\n",
    "    'month': np.int8,\n",
    "    'dayofweek': np.int8,\n",
    "    'number_of_lanes': np.float32,\n",
    "    \n",
    "    'speed_limit_kph': np.float32,    \n",
    "    \n",
    "    'lon': np.float64,\n",
    "    'lat': np.float64,\n",
    "    'elevation': np.int16,    \n",
    "    'agg_speed': np.float64,  \n",
    "    \n",
    "    'pix_business_4x4_200': np.int16,\n",
    "    'pix_residential_4x4_200': np.int16,\n",
    "    'pix_industrial_4x4_200': np.int16,\n",
    "    'pix_institutional_4x4_200': np.int16,\n",
    "    'pix_business_4x4_50': np.int16,\n",
    "    'pix_residential_4x4_50': np.int16,\n",
    "    'pix_industrial_4x4_50': np.int16,\n",
    "    'pix_institutional_4x4_50': np.int16,\n",
    "    'pix_business_4x4_100': np.int16,\n",
    "    'pix_residential_4x4_100': np.int16,\n",
    "    'pix_industrial_4x4_100': np.int16,\n",
    "    'pix_institutional_4x4_100': np.int16,\n",
    "    'pix_business_4x4_150': np.int16,\n",
    "    'pix_residential_4x4_150': np.int16,\n",
    "    'pix_industrial_4x4_150': np.int16,\n",
    "    'pix_institutional_4x4_150': np.int16,\n",
    "    'pix_business_4x4_250': np.int16,\n",
    "    'pix_residential_4x4_250': np.int16,\n",
    "    'pix_industrial_4x4_250': np.int16,\n",
    "    'pix_institutional_4x4_250': np.int16,\n",
    "    'pix_business_4x4_500': np.int16,\n",
    "    'pix_residential_4x4_500': np.int16,\n",
    "    'pix_industrial_4x4_500': np.int16,\n",
    "    'pix_institutional_4x4_500': np.int16,\n",
    "    'pix_business_4x4_1000': np.int16,\n",
    "    'pix_residential_4x4_1000': np.int16,\n",
    "    'pix_industrial_4x4_1000': np.int16,\n",
    "}\n",
    "\n",
    "def correct_service_rd_kphlimit(temp_df):\n",
    "    temp_df.loc[temp_df['speed_limit_kph'] == 36.7, 'speed_limit_kph'] = 20\n",
    "    return temp_df\n",
    "\n",
    "def impute_lanes(df):\n",
    "    df['number_of_lanes'] = df['number_of_lanes'].replace(np.nan, value=2)\n",
    "    return df\n",
    "\n",
    "def filter_brgy(df):\n",
    "    df['barangay'] = df['barangay'].fillna('Out-of-town')\n",
    "    \n",
    "    # not in cauayan boundary\n",
    "    df = df.loc[df['barangay'] != 'Out-of-town'] \n",
    "    return df\n",
    "\n",
    "def filter_num_periods(df, thresh):\n",
    "    df = df.loc[df['num_periods'] >= thresh]\n",
    "    return df\n",
    "\n",
    "def filter_vehicles(df, remove_list=None):\n",
    "    df = df.loc[~df.vehicle_id.isin(remove_list)]\n",
    "    return df\n",
    "\n",
    "def prepare_df(df):\n",
    "    df = df.astype(dtype=dtypes_compressed)\n",
    "    \n",
    "    # vehicles with erratic sending of data; stopped sending data before collection date\n",
    "    remove_list = [\n",
    "        123200872653, 123200872678, 123200872713, 123200872727, \n",
    "        123200872819,\n",
    "    ] \n",
    "    df = filter_brgy(df)\n",
    "    df = filter_vehicles(df, remove_list=remove_list)\n",
    "    df = filter_num_periods(df, thresh=12)\n",
    "    df = impute_lanes(df)\n",
    "    df = correct_service_rd_kphlimit(df)\n",
    "    df = df.drop_duplicates()\n",
    "    return df"
   ]
  },
  {
   "cell_type": "markdown",
   "id": "60e68667",
   "metadata": {},
   "source": [
    "## Load data"
   ]
  },
  {
   "cell_type": "code",
   "execution_count": 4,
   "id": "67c3c01a",
   "metadata": {
    "ExecuteTime": {
     "end_time": "2023-06-19T08:52:02.635777Z",
     "start_time": "2023-06-19T08:51:51.035502Z"
    }
   },
   "outputs": [],
   "source": [
    "src_dir = f\"../datasets/processed/post-review-tt-splits/{src_date}\"\n",
    "train = pd.read_csv(os.path.join(src_dir, \"train.csv\"))\n",
    "train = prepare_df(train)"
   ]
  },
  {
   "cell_type": "code",
   "execution_count": 5,
   "id": "f3cbbf0a",
   "metadata": {
    "ExecuteTime": {
     "end_time": "2023-06-19T08:52:02.645916Z",
     "start_time": "2023-06-19T08:52:02.638708Z"
    },
    "scrolled": false
   },
   "outputs": [],
   "source": [
    "def _clean_osmid(osmid_data_col):\n",
    "    return osmid_data_col.map(\n",
    "        lambda x: x[0] if isinstance(x, list) else x)\n",
    "\n",
    "def get_mean_lookup(df, target='agg_speed'):\n",
    "    \"\"\"Return lookup dictionary\"\"\"\n",
    "    df['road_osmid'] = _clean_osmid(df['road_osmid'])\n",
    "    history_lookup = df.groupby(['road_osmid', 'dayofweek', 'hour']).apply(\n",
    "        lambda group: group[target].mean()).to_dict()\n",
    "    return history_lookup\n",
    "\n",
    "def _lookup_mean(history_lookup, road_osmid, dayofweek, hour):\n",
    "    # transform osmid to str in cases where osmid is list of ids_\n",
    "    return history_lookup.get(\n",
    "        (str(road_osmid), dayofweek, hour), np.nan\n",
    "    )"
   ]
  },
  {
   "cell_type": "code",
   "execution_count": 6,
   "id": "4b517af9",
   "metadata": {
    "ExecuteTime": {
     "end_time": "2023-06-19T08:52:02.840058Z",
     "start_time": "2023-06-19T08:52:02.648067Z"
    }
   },
   "outputs": [
    {
     "data": {
      "text/plain": [
       "nan"
      ]
     },
     "execution_count": 6,
     "metadata": {},
     "output_type": "execute_result"
    }
   ],
   "source": [
    "# test\n",
    "history_lookup = get_mean_lookup(train.sample(1000))\n",
    "_lookup_mean(history_lookup, 195152024, 2, 10)"
   ]
  },
  {
   "cell_type": "markdown",
   "id": "4b0c0a9f",
   "metadata": {},
   "source": [
    "## Get baseline preds"
   ]
  },
  {
   "cell_type": "code",
   "execution_count": 7,
   "id": "55f6f223",
   "metadata": {
    "ExecuteTime": {
     "end_time": "2023-06-19T08:52:07.584521Z",
     "start_time": "2023-06-19T08:52:02.842269Z"
    }
   },
   "outputs": [],
   "source": [
    "target = 'agg_speed'\n",
    "history_lookup = get_mean_lookup(train, target=target)"
   ]
  },
  {
   "cell_type": "code",
   "execution_count": 8,
   "id": "20033c04",
   "metadata": {
    "ExecuteTime": {
     "end_time": "2023-06-19T08:52:07.592269Z",
     "start_time": "2023-06-19T08:52:07.587099Z"
    }
   },
   "outputs": [],
   "source": [
    "def get_baseline_preds(history_lookup, df):\n",
    "    \"\"\"Return baseline preds\"\"\"\n",
    "    preds = df[['road_osmid', 'dayofweek', 'hour']].apply(\n",
    "        lambda row : _lookup_mean(history_lookup, *row) , axis=1\n",
    "    )\n",
    "    return preds"
   ]
  },
  {
   "cell_type": "code",
   "execution_count": 9,
   "id": "8cd6e415",
   "metadata": {
    "ExecuteTime": {
     "end_time": "2023-06-19T08:52:10.225350Z",
     "start_time": "2023-06-19T08:52:07.594566Z"
    }
   },
   "outputs": [],
   "source": [
    "test = pd.read_csv(os.path.join(src_dir, \"test.csv\"))\n",
    "test = prepare_df(test)"
   ]
  },
  {
   "cell_type": "code",
   "execution_count": 10,
   "id": "0b21fb11",
   "metadata": {
    "ExecuteTime": {
     "end_time": "2023-06-19T08:52:11.878029Z",
     "start_time": "2023-06-19T08:52:10.231277Z"
    }
   },
   "outputs": [],
   "source": [
    "preds = get_baseline_preds(history_lookup, test)"
   ]
  },
  {
   "cell_type": "code",
   "execution_count": 11,
   "id": "6291be36",
   "metadata": {
    "ExecuteTime": {
     "end_time": "2023-06-19T08:52:11.884414Z",
     "start_time": "2023-06-19T08:52:11.880148Z"
    }
   },
   "outputs": [],
   "source": [
    "true = test['agg_speed']"
   ]
  },
  {
   "cell_type": "markdown",
   "id": "d6bd1dc4",
   "metadata": {},
   "source": [
    "## Evaluate"
   ]
  },
  {
   "cell_type": "code",
   "execution_count": 12,
   "id": "d0a7d8bc",
   "metadata": {
    "ExecuteTime": {
     "end_time": "2023-06-19T08:52:11.891114Z",
     "start_time": "2023-06-19T08:52:11.886974Z"
    }
   },
   "outputs": [],
   "source": [
    "def _nan_counter(preds):\n",
    "    \"\"\"Return count of nan preds\"\"\"\n",
    "    return preds.isna().sum()\n",
    "\n",
    "def percent_nan(preds):\n",
    "    nan_counts = _nan_counter(preds)\n",
    "    return (nan_counts / preds.size) * 100 \n",
    "\n",
    "def _clean_nans(true, preds):\n",
    "    mask = ~preds.isna()\n",
    "    return true.loc[mask], preds.loc[mask]"
   ]
  },
  {
   "cell_type": "code",
   "execution_count": 13,
   "id": "adc51eb6",
   "metadata": {
    "ExecuteTime": {
     "end_time": "2023-06-19T08:52:12.056681Z",
     "start_time": "2023-06-19T08:52:11.893132Z"
    }
   },
   "outputs": [],
   "source": [
    "from sklearn.metrics import (\n",
    "    r2_score, max_error, mean_absolute_error, mean_squared_error,\n",
    "    mean_absolute_percentage_error, make_scorer\n",
    ")\n",
    "\n",
    "from sklearn.model_selection import TimeSeriesSplit, train_test_split"
   ]
  },
  {
   "cell_type": "code",
   "execution_count": 14,
   "id": "f79fcfbf",
   "metadata": {
    "ExecuteTime": {
     "end_time": "2023-06-19T08:52:12.061882Z",
     "start_time": "2023-06-19T08:52:12.058738Z"
    }
   },
   "outputs": [],
   "source": [
    "def rmse(y_true, y_pred):\n",
    "    rmse = np.sqrt(mean_squared_error(y_true, y_pred))\n",
    "    return rmse\n",
    "\n",
    "# rmse_scorer = make_scorer(rmse) # rmse scoring metric for cross_val"
   ]
  },
  {
   "cell_type": "code",
   "execution_count": 15,
   "id": "410c1ee0",
   "metadata": {
    "ExecuteTime": {
     "end_time": "2023-06-19T08:52:12.069507Z",
     "start_time": "2023-06-19T08:52:12.065233Z"
    }
   },
   "outputs": [],
   "source": [
    "metrics_dict = {\n",
    "    \"r2\" : r2_score,\n",
    "    \"mean_absolute_error\" : mean_absolute_error, \n",
    "    \"mean_absolute_percentage_error\" : mean_absolute_percentage_error,     \n",
    "    \"rmse\" : rmse,\n",
    "    \"mean_squared_error\" : mean_squared_error,    \n",
    "    \"max_error\": max_error,\n",
    "}"
   ]
  },
  {
   "cell_type": "code",
   "execution_count": 16,
   "id": "824e83b3",
   "metadata": {
    "ExecuteTime": {
     "end_time": "2023-06-19T08:52:12.079561Z",
     "start_time": "2023-06-19T08:52:12.072983Z"
    }
   },
   "outputs": [
    {
     "data": {
      "text/plain": [
       "5.588357681883104"
      ]
     },
     "execution_count": 16,
     "metadata": {},
     "output_type": "execute_result"
    }
   ],
   "source": [
    "percent_nan(preds)"
   ]
  },
  {
   "cell_type": "code",
   "execution_count": 17,
   "id": "07c8a593",
   "metadata": {
    "ExecuteTime": {
     "end_time": "2023-06-19T08:52:12.123216Z",
     "start_time": "2023-06-19T08:52:12.082241Z"
    }
   },
   "outputs": [
    {
     "name": "stdout",
     "output_type": "stream",
     "text": [
      "r2 : 0.5779677483537582\n",
      "mean_absolute_error : 5.187424342219826\n",
      "mean_absolute_percentage_error : 299020436521425.6\n",
      "rmse : 7.212273728132856\n",
      "mean_squared_error : 52.01689232951541\n",
      "max_error : 55.30050021423367\n"
     ]
    }
   ],
   "source": [
    "for metric, func in metrics_dict.items():\n",
    "    print(f\"{metric} : {func(*_clean_nans(true, preds))}\")"
   ]
  },
  {
   "cell_type": "markdown",
   "id": "1991e684",
   "metadata": {},
   "source": [
    "## Baseline TSCV"
   ]
  },
  {
   "cell_type": "code",
   "execution_count": 18,
   "id": "349d7689",
   "metadata": {
    "ExecuteTime": {
     "end_time": "2023-06-19T08:52:34.867397Z",
     "start_time": "2023-06-19T08:52:12.130352Z"
    }
   },
   "outputs": [
    {
     "name": "stderr",
     "output_type": "stream",
     "text": [
      "/tmp/ipykernel_53367/3114998867.py:7: SettingWithCopyWarning: \n",
      "A value is trying to be set on a copy of a slice from a DataFrame.\n",
      "Try using .loc[row_indexer,col_indexer] = value instead\n",
      "\n",
      "See the caveats in the documentation: https://pandas.pydata.org/pandas-docs/stable/user_guide/indexing.html#returning-a-view-versus-a-copy\n",
      "  df['road_osmid'] = _clean_osmid(df['road_osmid'])\n",
      "/tmp/ipykernel_53367/3114998867.py:7: SettingWithCopyWarning: \n",
      "A value is trying to be set on a copy of a slice from a DataFrame.\n",
      "Try using .loc[row_indexer,col_indexer] = value instead\n",
      "\n",
      "See the caveats in the documentation: https://pandas.pydata.org/pandas-docs/stable/user_guide/indexing.html#returning-a-view-versus-a-copy\n",
      "  df['road_osmid'] = _clean_osmid(df['road_osmid'])\n",
      "/tmp/ipykernel_53367/3114998867.py:7: SettingWithCopyWarning: \n",
      "A value is trying to be set on a copy of a slice from a DataFrame.\n",
      "Try using .loc[row_indexer,col_indexer] = value instead\n",
      "\n",
      "See the caveats in the documentation: https://pandas.pydata.org/pandas-docs/stable/user_guide/indexing.html#returning-a-view-versus-a-copy\n",
      "  df['road_osmid'] = _clean_osmid(df['road_osmid'])\n",
      "/tmp/ipykernel_53367/3114998867.py:7: SettingWithCopyWarning: \n",
      "A value is trying to be set on a copy of a slice from a DataFrame.\n",
      "Try using .loc[row_indexer,col_indexer] = value instead\n",
      "\n",
      "See the caveats in the documentation: https://pandas.pydata.org/pandas-docs/stable/user_guide/indexing.html#returning-a-view-versus-a-copy\n",
      "  df['road_osmid'] = _clean_osmid(df['road_osmid'])\n",
      "/tmp/ipykernel_53367/3114998867.py:7: SettingWithCopyWarning: \n",
      "A value is trying to be set on a copy of a slice from a DataFrame.\n",
      "Try using .loc[row_indexer,col_indexer] = value instead\n",
      "\n",
      "See the caveats in the documentation: https://pandas.pydata.org/pandas-docs/stable/user_guide/indexing.html#returning-a-view-versus-a-copy\n",
      "  df['road_osmid'] = _clean_osmid(df['road_osmid'])\n"
     ]
    }
   ],
   "source": [
    "target = 'agg_speed'\n",
    "\n",
    "tscv = TimeSeriesSplit(n_splits=5)\n",
    "\n",
    "results = {}\n",
    "\n",
    "for i, (train_index, test_index) in enumerate(tscv.split(train)):\n",
    "    \n",
    "    fold_train = train.iloc[train_index]\n",
    "    fold_test = train.iloc[test_index]\n",
    "    \n",
    "    history_lookup = get_mean_lookup(fold_train, target=target)\n",
    "    \n",
    "    preds = get_baseline_preds(history_lookup, fold_test)\n",
    "    true = fold_test['agg_speed']\n",
    "    \n",
    "    \n",
    "    # log per fold\n",
    "    results[i] = {\n",
    "        \"y_true\": list(true),\n",
    "        \"y_pred\": list(preds),\n",
    "        \"percent_nan\" : percent_nan(preds),\n",
    "    }\n",
    "    \n",
    "    for metric, func in metrics_dict.items():\n",
    "        results[i][metric] = func(*_clean_nans(true, preds))"
   ]
  },
  {
   "cell_type": "code",
   "execution_count": 19,
   "id": "e0a7a2ca",
   "metadata": {
    "ExecuteTime": {
     "end_time": "2023-06-19T08:52:34.875583Z",
     "start_time": "2023-06-19T08:52:34.870419Z"
    }
   },
   "outputs": [
    {
     "name": "stdout",
     "output_type": "stream",
     "text": [
      "Fold: 0\n",
      "percent_nan : 14.24538752649958\n",
      "r2 : 0.31588827547144605\n",
      "rmse : 7.1521089462208245\n",
      "Fold: 1\n",
      "percent_nan : 14.063756445654068\n",
      "r2 : 0.39374854493602274\n",
      "rmse : 7.446328408059908\n",
      "Fold: 2\n",
      "percent_nan : 8.458497579189464\n",
      "r2 : 0.6190359486720262\n",
      "rmse : 7.27415598953839\n",
      "Fold: 3\n",
      "percent_nan : 6.310977152721936\n",
      "r2 : 0.6584720245217135\n",
      "rmse : 6.761758808982925\n",
      "Fold: 4\n",
      "percent_nan : 4.694291835598567\n",
      "r2 : 0.6125717739960981\n",
      "rmse : 6.644796972450685\n"
     ]
    }
   ],
   "source": [
    "for fold, result in results.items():\n",
    "    print(f\"Fold: {fold}\")\n",
    "    for metric, score in result.items():\n",
    "        if metric in ['percent_nan', 'rmse', 'r2']:\n",
    "            print(f\"{metric} : {score}\")"
   ]
  },
  {
   "cell_type": "code",
   "execution_count": 20,
   "id": "fa0137ad",
   "metadata": {
    "ExecuteTime": {
     "end_time": "2023-06-19T08:52:36.953546Z",
     "start_time": "2023-06-19T08:52:34.881250Z"
    }
   },
   "outputs": [],
   "source": [
    "tscv_results_dir = f\"../datasets/results/post-review/tscv/baseline/{src_date}\"\n",
    "os.makedirs(tscv_results_dir, exist_ok=True)\n",
    "\n",
    "fname = f\"baseline.json\"\n",
    "with open(os.path.join(tscv_results_dir, fname), 'w') as fp:\n",
    "    json.dump(results, fp)"
   ]
  },
  {
   "cell_type": "code",
   "execution_count": 21,
   "id": "78ac82c0",
   "metadata": {
    "ExecuteTime": {
     "end_time": "2023-06-19T08:52:37.131655Z",
     "start_time": "2023-06-19T08:52:36.955985Z"
    }
   },
   "outputs": [
    {
     "name": "stdout",
     "output_type": "stream",
     "text": [
      "1000-1000  150-150  250-250  50-100  50-200  50-50   all\r\n",
      "100-100    200-200  500-500  50-150  50-250  50-500  baseline\r\n"
     ]
    }
   ],
   "source": [
    "!ls ../datasets/results/post-review/tscv/"
   ]
  },
  {
   "cell_type": "markdown",
   "id": "88f93da4",
   "metadata": {},
   "source": [
    "## Evaluate on test"
   ]
  },
  {
   "cell_type": "code",
   "execution_count": 22,
   "id": "b95aa6b2",
   "metadata": {
    "ExecuteTime": {
     "end_time": "2023-06-19T08:52:42.565238Z",
     "start_time": "2023-06-19T08:52:37.137261Z"
    }
   },
   "outputs": [],
   "source": [
    "target = 'agg_speed'\n",
    "history_lookup = get_mean_lookup(train, target=target)\n",
    "\n",
    "preds = get_baseline_preds(history_lookup, test)\n",
    "true = test['agg_speed']\n",
    "\n",
    "\n",
    "# log per fold\n",
    "final_results = {\n",
    "    \"percent_nan\" : percent_nan(preds),\n",
    "    \"y_pred\": list(preds),\n",
    "    \"y_true\": list(true),\n",
    "\n",
    "}\n",
    "\n",
    "for metric, func in metrics_dict.items():\n",
    "    final_results[metric] = func(*_clean_nans(true, preds))"
   ]
  },
  {
   "cell_type": "code",
   "execution_count": 23,
   "id": "8cc69442",
   "metadata": {
    "ExecuteTime": {
     "end_time": "2023-06-19T08:52:44.309786Z",
     "start_time": "2023-06-19T08:52:42.568049Z"
    }
   },
   "outputs": [],
   "source": [
    "final_results_dir = f\"../datasets/results/post-review/final_results/baseline/{src_date}\"\n",
    "os.makedirs(final_results_dir, exist_ok=True)\n",
    "\n",
    "fname = f\"baseline.json\"\n",
    "with open(os.path.join(final_results_dir, fname), 'w') as fp:\n",
    "    json.dump(final_results, fp)"
   ]
  },
  {
   "cell_type": "code",
   "execution_count": 24,
   "id": "4c38863d",
   "metadata": {
    "ExecuteTime": {
     "end_time": "2023-06-19T08:52:44.473863Z",
     "start_time": "2023-06-19T08:52:44.312613Z"
    }
   },
   "outputs": [
    {
     "name": "stdout",
     "output_type": "stream",
     "text": [
      "1000-1000  150-150  250-250  50-100  50-200  50-50   all\r\n",
      "100-100    200-200  500-500  50-150  50-250  50-500  baseline\r\n"
     ]
    }
   ],
   "source": [
    "!ls ../datasets/results/post-review/final_results/"
   ]
  },
  {
   "cell_type": "code",
   "execution_count": 28,
   "id": "68f619a0",
   "metadata": {
    "ExecuteTime": {
     "end_time": "2023-06-19T08:58:28.337193Z",
     "start_time": "2023-06-19T08:58:28.329517Z"
    }
   },
   "outputs": [
    {
     "name": "stdout",
     "output_type": "stream",
     "text": [
      "percent_nan : 5.588357681883104\n",
      "r2 : 0.5779677483537582\n",
      "rmse : 7.212273728132856\n"
     ]
    }
   ],
   "source": [
    "for key, value in final_results.items():\n",
    "    if key in ['percent_nan', 'rmse', 'r2']:\n",
    "        print(f\"{key} : {value}\")"
   ]
  },
  {
   "cell_type": "markdown",
   "id": "933dbd3f",
   "metadata": {},
   "source": [
    "## End"
   ]
  }
 ],
 "metadata": {
  "hide_input": false,
  "kernelspec": {
   "display_name": "Python 3 (ipykernel)",
   "language": "python",
   "name": "python3"
  },
  "language_info": {
   "codemirror_mode": {
    "name": "ipython",
    "version": 3
   },
   "file_extension": ".py",
   "mimetype": "text/x-python",
   "name": "python",
   "nbconvert_exporter": "python",
   "pygments_lexer": "ipython3",
   "version": "3.10.10"
  },
  "toc": {
   "base_numbering": 1,
   "nav_menu": {},
   "number_sections": true,
   "sideBar": true,
   "skip_h1_title": false,
   "title_cell": "Table of Contents",
   "title_sidebar": "Contents",
   "toc_cell": false,
   "toc_position": {},
   "toc_section_display": true,
   "toc_window_display": false
  }
 },
 "nbformat": 4,
 "nbformat_minor": 5
}
