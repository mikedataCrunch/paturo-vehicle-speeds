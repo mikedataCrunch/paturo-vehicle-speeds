{
 "cells": [
  {
   "cell_type": "markdown",
   "id": "13a74e9a",
   "metadata": {},
   "source": [
    "# Exploratory Data Analysis: Processed\n",
    "\n",
    "The following sections shows exploratory analysis on processed data. "
   ]
  },
  {
   "cell_type": "code",
   "execution_count": 1,
   "id": "26e4eb59",
   "metadata": {
    "ExecuteTime": {
     "end_time": "2022-06-02T02:04:13.599636Z",
     "start_time": "2022-06-02T02:04:06.435617Z"
    }
   },
   "outputs": [],
   "source": [
    "import numpy as np\n",
    "import matplotlib.pyplot as plt\n",
    "import pandas as pd\n",
    "import seaborn as sns\n",
    "\n",
    "import os\n",
    "from glob import glob\n",
    "from tqdm import tqdm"
   ]
  },
  {
   "cell_type": "code",
   "execution_count": 2,
   "id": "ee7d1b48",
   "metadata": {
    "ExecuteTime": {
     "end_time": "2022-06-02T02:04:13.609411Z",
     "start_time": "2022-06-02T02:04:13.604640Z"
    }
   },
   "outputs": [],
   "source": [
    "def correct_service_rd_kphlimit(temp_df):\n",
    "    temp_df.loc[temp_df['speed_limit_kph'] == 36.7, 'speed_limit_kph'] = 20\n",
    "    return temp_df"
   ]
  },
  {
   "cell_type": "code",
   "execution_count": 3,
   "id": "6584abf8",
   "metadata": {
    "ExecuteTime": {
     "end_time": "2022-06-02T02:04:13.728661Z",
     "start_time": "2022-06-02T02:04:13.611948Z"
    }
   },
   "outputs": [],
   "source": [
    "# read data: mean\n",
    "agg = 'mean'\n",
    "lookback_window = 60\n",
    "source_date = '2022-06-01'\n",
    "\n",
    "glob_path = f'../datasets/per-vehicle-moving-average/{agg}-window-{lookback_window}-{source_date}/*.csv'\n",
    "filepaths = glob(glob_path)"
   ]
  },
  {
   "cell_type": "code",
   "execution_count": 4,
   "id": "991eb653",
   "metadata": {
    "ExecuteTime": {
     "end_time": "2022-06-02T02:09:04.199587Z",
     "start_time": "2022-06-02T02:04:13.732329Z"
    }
   },
   "outputs": [],
   "source": [
    "# get dtypes\n",
    "dtypes_dict = pd.read_csv(filepaths[0]).dtypes.to_dict()\n",
    "\n",
    "# set low_memory=False to ensure no mixed types\n",
    "df_mean = pd.concat([pd.read_csv(path, dtype=dtypes_dict) for path in filepaths])\n",
    "df_mean = correct_service_rd_kphlimit(df_mean)"
   ]
  },
  {
   "cell_type": "code",
   "execution_count": 5,
   "id": "db3feeab",
   "metadata": {
    "ExecuteTime": {
     "end_time": "2022-06-02T02:09:04.324733Z",
     "start_time": "2022-06-02T02:09:04.218238Z"
    }
   },
   "outputs": [
    {
     "name": "stdout",
     "output_type": "stream",
     "text": [
      "<class 'pandas.core.frame.DataFrame'>\n",
      "Int64Index: 33817601 entries, 0 to 132806\n",
      "Data columns (total 43 columns):\n",
      " #   Column                 Dtype  \n",
      "---  ------                 -----  \n",
      " 0   datetime               object \n",
      " 1   altitude               int64  \n",
      " 2   angle                  int64  \n",
      " 3   instant_speed          int64  \n",
      " 4   accel                  float64\n",
      " 5   ai1                    int64  \n",
      " 6   ai2                    int64  \n",
      " 7   ai3                    int64  \n",
      " 8   ai4                    int64  \n",
      " 9   alarm_code             int64  \n",
      " 10  bats                   int64  \n",
      " 11  decel                  float64\n",
      " 12  di1                    int64  \n",
      " 13  di2                    int64  \n",
      " 14  di3                    int64  \n",
      " 15  di4                    int64  \n",
      " 16  di5                    int64  \n",
      " 17  do1                    int64  \n",
      " 18  do2                    int64  \n",
      " 19  do3                    int64  \n",
      " 20  do4                    int64  \n",
      " 21  gpslev                 int64  \n",
      " 22  hdop                   float64\n",
      " 23  odo                    int64  \n",
      " 24  lon                    float64\n",
      " 25  lat                    float64\n",
      " 26  vehicle_id             int64  \n",
      " 27  road_osmid             object \n",
      " 28  number_of_lanes        float64\n",
      " 29  speed_limit_kph        float64\n",
      " 30  road_segment_length    float64\n",
      " 31  distance_to_road       float64\n",
      " 32  barangay               object \n",
      " 33  hour                   int64  \n",
      " 34  dayofweek              int64  \n",
      " 35  month                  int64  \n",
      " 36  elevation              int64  \n",
      " 37  pix_business_4x4       int64  \n",
      " 38  pix_residential_4x4    int64  \n",
      " 39  pix_industrial_4x4     int64  \n",
      " 40  pix_institutional_4x4  int64  \n",
      " 41  num_periods            int64  \n",
      " 42  agg_speed              float64\n",
      "dtypes: float64(10), int64(30), object(3)\n",
      "memory usage: 11.1+ GB\n"
     ]
    },
    {
     "data": {
      "text/html": [
       "<div>\n",
       "<style scoped>\n",
       "    .dataframe tbody tr th:only-of-type {\n",
       "        vertical-align: middle;\n",
       "    }\n",
       "\n",
       "    .dataframe tbody tr th {\n",
       "        vertical-align: top;\n",
       "    }\n",
       "\n",
       "    .dataframe thead th {\n",
       "        text-align: right;\n",
       "    }\n",
       "</style>\n",
       "<table border=\"1\" class=\"dataframe\">\n",
       "  <thead>\n",
       "    <tr style=\"text-align: right;\">\n",
       "      <th></th>\n",
       "      <th>datetime</th>\n",
       "      <th>altitude</th>\n",
       "      <th>angle</th>\n",
       "      <th>instant_speed</th>\n",
       "      <th>accel</th>\n",
       "      <th>ai1</th>\n",
       "      <th>ai2</th>\n",
       "      <th>ai3</th>\n",
       "      <th>ai4</th>\n",
       "      <th>alarm_code</th>\n",
       "      <th>...</th>\n",
       "      <th>hour</th>\n",
       "      <th>dayofweek</th>\n",
       "      <th>month</th>\n",
       "      <th>elevation</th>\n",
       "      <th>pix_business_4x4</th>\n",
       "      <th>pix_residential_4x4</th>\n",
       "      <th>pix_industrial_4x4</th>\n",
       "      <th>pix_institutional_4x4</th>\n",
       "      <th>num_periods</th>\n",
       "      <th>agg_speed</th>\n",
       "    </tr>\n",
       "  </thead>\n",
       "  <tbody>\n",
       "    <tr>\n",
       "      <th>0</th>\n",
       "      <td>2021-02-19 09:42:48+08:00</td>\n",
       "      <td>79</td>\n",
       "      <td>127</td>\n",
       "      <td>0</td>\n",
       "      <td>0.0</td>\n",
       "      <td>0</td>\n",
       "      <td>1023</td>\n",
       "      <td>307</td>\n",
       "      <td>628</td>\n",
       "      <td>0</td>\n",
       "      <td>...</td>\n",
       "      <td>9</td>\n",
       "      <td>4</td>\n",
       "      <td>2</td>\n",
       "      <td>58</td>\n",
       "      <td>222</td>\n",
       "      <td>1111</td>\n",
       "      <td>14</td>\n",
       "      <td>503</td>\n",
       "      <td>1</td>\n",
       "      <td>0.0</td>\n",
       "    </tr>\n",
       "    <tr>\n",
       "      <th>1</th>\n",
       "      <td>2021-02-19 09:43:19+08:00</td>\n",
       "      <td>79</td>\n",
       "      <td>93</td>\n",
       "      <td>0</td>\n",
       "      <td>0.0</td>\n",
       "      <td>0</td>\n",
       "      <td>1023</td>\n",
       "      <td>303</td>\n",
       "      <td>628</td>\n",
       "      <td>0</td>\n",
       "      <td>...</td>\n",
       "      <td>9</td>\n",
       "      <td>4</td>\n",
       "      <td>2</td>\n",
       "      <td>58</td>\n",
       "      <td>222</td>\n",
       "      <td>1111</td>\n",
       "      <td>14</td>\n",
       "      <td>503</td>\n",
       "      <td>2</td>\n",
       "      <td>0.0</td>\n",
       "    </tr>\n",
       "    <tr>\n",
       "      <th>2</th>\n",
       "      <td>2021-02-19 09:43:49+08:00</td>\n",
       "      <td>79</td>\n",
       "      <td>189</td>\n",
       "      <td>0</td>\n",
       "      <td>0.0</td>\n",
       "      <td>0</td>\n",
       "      <td>1023</td>\n",
       "      <td>305</td>\n",
       "      <td>629</td>\n",
       "      <td>0</td>\n",
       "      <td>...</td>\n",
       "      <td>9</td>\n",
       "      <td>4</td>\n",
       "      <td>2</td>\n",
       "      <td>58</td>\n",
       "      <td>222</td>\n",
       "      <td>1111</td>\n",
       "      <td>14</td>\n",
       "      <td>503</td>\n",
       "      <td>2</td>\n",
       "      <td>0.0</td>\n",
       "    </tr>\n",
       "    <tr>\n",
       "      <th>3</th>\n",
       "      <td>2021-02-19 09:44:19+08:00</td>\n",
       "      <td>79</td>\n",
       "      <td>115</td>\n",
       "      <td>0</td>\n",
       "      <td>0.0</td>\n",
       "      <td>0</td>\n",
       "      <td>1023</td>\n",
       "      <td>306</td>\n",
       "      <td>629</td>\n",
       "      <td>0</td>\n",
       "      <td>...</td>\n",
       "      <td>9</td>\n",
       "      <td>4</td>\n",
       "      <td>2</td>\n",
       "      <td>58</td>\n",
       "      <td>222</td>\n",
       "      <td>1111</td>\n",
       "      <td>14</td>\n",
       "      <td>503</td>\n",
       "      <td>2</td>\n",
       "      <td>0.0</td>\n",
       "    </tr>\n",
       "    <tr>\n",
       "      <th>4</th>\n",
       "      <td>2021-02-19 09:44:47+08:00</td>\n",
       "      <td>79</td>\n",
       "      <td>13</td>\n",
       "      <td>0</td>\n",
       "      <td>0.0</td>\n",
       "      <td>0</td>\n",
       "      <td>1023</td>\n",
       "      <td>300</td>\n",
       "      <td>629</td>\n",
       "      <td>33</td>\n",
       "      <td>...</td>\n",
       "      <td>9</td>\n",
       "      <td>4</td>\n",
       "      <td>2</td>\n",
       "      <td>58</td>\n",
       "      <td>222</td>\n",
       "      <td>1111</td>\n",
       "      <td>14</td>\n",
       "      <td>503</td>\n",
       "      <td>3</td>\n",
       "      <td>0.0</td>\n",
       "    </tr>\n",
       "  </tbody>\n",
       "</table>\n",
       "<p>5 rows × 43 columns</p>\n",
       "</div>"
      ],
      "text/plain": [
       "                    datetime  altitude  angle  instant_speed  accel  ai1  \\\n",
       "0  2021-02-19 09:42:48+08:00        79    127              0    0.0    0   \n",
       "1  2021-02-19 09:43:19+08:00        79     93              0    0.0    0   \n",
       "2  2021-02-19 09:43:49+08:00        79    189              0    0.0    0   \n",
       "3  2021-02-19 09:44:19+08:00        79    115              0    0.0    0   \n",
       "4  2021-02-19 09:44:47+08:00        79     13              0    0.0    0   \n",
       "\n",
       "    ai2  ai3  ai4  alarm_code  ...  hour  dayofweek  month  elevation  \\\n",
       "0  1023  307  628           0  ...     9          4      2         58   \n",
       "1  1023  303  628           0  ...     9          4      2         58   \n",
       "2  1023  305  629           0  ...     9          4      2         58   \n",
       "3  1023  306  629           0  ...     9          4      2         58   \n",
       "4  1023  300  629          33  ...     9          4      2         58   \n",
       "\n",
       "   pix_business_4x4  pix_residential_4x4  pix_industrial_4x4  \\\n",
       "0               222                 1111                  14   \n",
       "1               222                 1111                  14   \n",
       "2               222                 1111                  14   \n",
       "3               222                 1111                  14   \n",
       "4               222                 1111                  14   \n",
       "\n",
       "   pix_institutional_4x4  num_periods  agg_speed  \n",
       "0                    503            1        0.0  \n",
       "1                    503            2        0.0  \n",
       "2                    503            2        0.0  \n",
       "3                    503            2        0.0  \n",
       "4                    503            3        0.0  \n",
       "\n",
       "[5 rows x 43 columns]"
      ]
     },
     "metadata": {},
     "output_type": "display_data"
    },
    {
     "data": {
      "text/html": [
       "<div>\n",
       "<style scoped>\n",
       "    .dataframe tbody tr th:only-of-type {\n",
       "        vertical-align: middle;\n",
       "    }\n",
       "\n",
       "    .dataframe tbody tr th {\n",
       "        vertical-align: top;\n",
       "    }\n",
       "\n",
       "    .dataframe thead th {\n",
       "        text-align: right;\n",
       "    }\n",
       "</style>\n",
       "<table border=\"1\" class=\"dataframe\">\n",
       "  <thead>\n",
       "    <tr style=\"text-align: right;\">\n",
       "      <th></th>\n",
       "      <th>datetime</th>\n",
       "      <th>altitude</th>\n",
       "      <th>angle</th>\n",
       "      <th>instant_speed</th>\n",
       "      <th>accel</th>\n",
       "      <th>ai1</th>\n",
       "      <th>ai2</th>\n",
       "      <th>ai3</th>\n",
       "      <th>ai4</th>\n",
       "      <th>alarm_code</th>\n",
       "      <th>...</th>\n",
       "      <th>hour</th>\n",
       "      <th>dayofweek</th>\n",
       "      <th>month</th>\n",
       "      <th>elevation</th>\n",
       "      <th>pix_business_4x4</th>\n",
       "      <th>pix_residential_4x4</th>\n",
       "      <th>pix_industrial_4x4</th>\n",
       "      <th>pix_institutional_4x4</th>\n",
       "      <th>num_periods</th>\n",
       "      <th>agg_speed</th>\n",
       "    </tr>\n",
       "  </thead>\n",
       "  <tbody>\n",
       "    <tr>\n",
       "      <th>132802</th>\n",
       "      <td>2021-11-17 07:36:59+08:00</td>\n",
       "      <td>72</td>\n",
       "      <td>347</td>\n",
       "      <td>0</td>\n",
       "      <td>0.0</td>\n",
       "      <td>0</td>\n",
       "      <td>1023</td>\n",
       "      <td>0</td>\n",
       "      <td>593</td>\n",
       "      <td>0</td>\n",
       "      <td>...</td>\n",
       "      <td>7</td>\n",
       "      <td>2</td>\n",
       "      <td>11</td>\n",
       "      <td>49</td>\n",
       "      <td>265</td>\n",
       "      <td>943</td>\n",
       "      <td>0</td>\n",
       "      <td>11</td>\n",
       "      <td>1</td>\n",
       "      <td>0.0</td>\n",
       "    </tr>\n",
       "    <tr>\n",
       "      <th>132803</th>\n",
       "      <td>2021-11-17 07:42:02+08:00</td>\n",
       "      <td>73</td>\n",
       "      <td>347</td>\n",
       "      <td>0</td>\n",
       "      <td>0.0</td>\n",
       "      <td>0</td>\n",
       "      <td>1023</td>\n",
       "      <td>0</td>\n",
       "      <td>591</td>\n",
       "      <td>0</td>\n",
       "      <td>...</td>\n",
       "      <td>7</td>\n",
       "      <td>2</td>\n",
       "      <td>11</td>\n",
       "      <td>49</td>\n",
       "      <td>265</td>\n",
       "      <td>943</td>\n",
       "      <td>0</td>\n",
       "      <td>11</td>\n",
       "      <td>1</td>\n",
       "      <td>0.0</td>\n",
       "    </tr>\n",
       "    <tr>\n",
       "      <th>132804</th>\n",
       "      <td>2021-11-17 07:47:05+08:00</td>\n",
       "      <td>74</td>\n",
       "      <td>347</td>\n",
       "      <td>0</td>\n",
       "      <td>0.0</td>\n",
       "      <td>0</td>\n",
       "      <td>1023</td>\n",
       "      <td>0</td>\n",
       "      <td>589</td>\n",
       "      <td>0</td>\n",
       "      <td>...</td>\n",
       "      <td>7</td>\n",
       "      <td>2</td>\n",
       "      <td>11</td>\n",
       "      <td>49</td>\n",
       "      <td>265</td>\n",
       "      <td>943</td>\n",
       "      <td>0</td>\n",
       "      <td>11</td>\n",
       "      <td>1</td>\n",
       "      <td>0.0</td>\n",
       "    </tr>\n",
       "    <tr>\n",
       "      <th>132805</th>\n",
       "      <td>2021-11-17 07:52:08+08:00</td>\n",
       "      <td>74</td>\n",
       "      <td>347</td>\n",
       "      <td>0</td>\n",
       "      <td>0.0</td>\n",
       "      <td>0</td>\n",
       "      <td>1023</td>\n",
       "      <td>0</td>\n",
       "      <td>586</td>\n",
       "      <td>0</td>\n",
       "      <td>...</td>\n",
       "      <td>7</td>\n",
       "      <td>2</td>\n",
       "      <td>11</td>\n",
       "      <td>49</td>\n",
       "      <td>265</td>\n",
       "      <td>943</td>\n",
       "      <td>0</td>\n",
       "      <td>11</td>\n",
       "      <td>1</td>\n",
       "      <td>0.0</td>\n",
       "    </tr>\n",
       "    <tr>\n",
       "      <th>132806</th>\n",
       "      <td>2021-11-17 07:57:11+08:00</td>\n",
       "      <td>74</td>\n",
       "      <td>347</td>\n",
       "      <td>0</td>\n",
       "      <td>0.0</td>\n",
       "      <td>0</td>\n",
       "      <td>1023</td>\n",
       "      <td>0</td>\n",
       "      <td>585</td>\n",
       "      <td>0</td>\n",
       "      <td>...</td>\n",
       "      <td>7</td>\n",
       "      <td>2</td>\n",
       "      <td>11</td>\n",
       "      <td>49</td>\n",
       "      <td>263</td>\n",
       "      <td>952</td>\n",
       "      <td>0</td>\n",
       "      <td>15</td>\n",
       "      <td>1</td>\n",
       "      <td>0.0</td>\n",
       "    </tr>\n",
       "  </tbody>\n",
       "</table>\n",
       "<p>5 rows × 43 columns</p>\n",
       "</div>"
      ],
      "text/plain": [
       "                         datetime  altitude  angle  instant_speed  accel  ai1  \\\n",
       "132802  2021-11-17 07:36:59+08:00        72    347              0    0.0    0   \n",
       "132803  2021-11-17 07:42:02+08:00        73    347              0    0.0    0   \n",
       "132804  2021-11-17 07:47:05+08:00        74    347              0    0.0    0   \n",
       "132805  2021-11-17 07:52:08+08:00        74    347              0    0.0    0   \n",
       "132806  2021-11-17 07:57:11+08:00        74    347              0    0.0    0   \n",
       "\n",
       "         ai2  ai3  ai4  alarm_code  ...  hour  dayofweek  month  elevation  \\\n",
       "132802  1023    0  593           0  ...     7          2     11         49   \n",
       "132803  1023    0  591           0  ...     7          2     11         49   \n",
       "132804  1023    0  589           0  ...     7          2     11         49   \n",
       "132805  1023    0  586           0  ...     7          2     11         49   \n",
       "132806  1023    0  585           0  ...     7          2     11         49   \n",
       "\n",
       "        pix_business_4x4  pix_residential_4x4  pix_industrial_4x4  \\\n",
       "132802               265                  943                   0   \n",
       "132803               265                  943                   0   \n",
       "132804               265                  943                   0   \n",
       "132805               265                  943                   0   \n",
       "132806               263                  952                   0   \n",
       "\n",
       "        pix_institutional_4x4  num_periods  agg_speed  \n",
       "132802                     11            1        0.0  \n",
       "132803                     11            1        0.0  \n",
       "132804                     11            1        0.0  \n",
       "132805                     11            1        0.0  \n",
       "132806                     15            1        0.0  \n",
       "\n",
       "[5 rows x 43 columns]"
      ]
     },
     "metadata": {},
     "output_type": "display_data"
    }
   ],
   "source": [
    "df_mean.info()\n",
    "display(df_mean.head())\n",
    "display(df_mean.tail())"
   ]
  },
  {
   "cell_type": "code",
   "execution_count": 6,
   "id": "4f891f7c",
   "metadata": {
    "ExecuteTime": {
     "end_time": "2022-06-02T02:09:04.378190Z",
     "start_time": "2022-06-02T02:09:04.332213Z"
    }
   },
   "outputs": [],
   "source": [
    "# read data: median\n",
    "agg = 'median'\n",
    "lookback_window = 60\n",
    "source_date = '2022-06-01'\n",
    "\n",
    "glob_path = f'../datasets/per-vehicle-moving-average/{agg}-window-{lookback_window}-{source_date}/*.csv'\n",
    "filepaths = glob(glob_path)"
   ]
  },
  {
   "cell_type": "code",
   "execution_count": 7,
   "id": "04df435c",
   "metadata": {
    "ExecuteTime": {
     "end_time": "2022-06-02T02:13:27.690049Z",
     "start_time": "2022-06-02T02:09:04.381012Z"
    }
   },
   "outputs": [
    {
     "name": "stdout",
     "output_type": "stream",
     "text": [
      "<class 'pandas.core.frame.DataFrame'>\n",
      "Int64Index: 33817601 entries, 0 to 132806\n",
      "Data columns (total 43 columns):\n",
      " #   Column                 Dtype  \n",
      "---  ------                 -----  \n",
      " 0   datetime               object \n",
      " 1   altitude               int64  \n",
      " 2   angle                  int64  \n",
      " 3   instant_speed          int64  \n",
      " 4   accel                  float64\n",
      " 5   ai1                    int64  \n",
      " 6   ai2                    int64  \n",
      " 7   ai3                    int64  \n",
      " 8   ai4                    int64  \n",
      " 9   alarm_code             int64  \n",
      " 10  bats                   int64  \n",
      " 11  decel                  float64\n",
      " 12  di1                    int64  \n",
      " 13  di2                    int64  \n",
      " 14  di3                    int64  \n",
      " 15  di4                    int64  \n",
      " 16  di5                    int64  \n",
      " 17  do1                    int64  \n",
      " 18  do2                    int64  \n",
      " 19  do3                    int64  \n",
      " 20  do4                    int64  \n",
      " 21  gpslev                 int64  \n",
      " 22  hdop                   float64\n",
      " 23  odo                    int64  \n",
      " 24  lon                    float64\n",
      " 25  lat                    float64\n",
      " 26  vehicle_id             int64  \n",
      " 27  road_osmid             object \n",
      " 28  number_of_lanes        float64\n",
      " 29  speed_limit_kph        float64\n",
      " 30  road_segment_length    float64\n",
      " 31  distance_to_road       float64\n",
      " 32  barangay               object \n",
      " 33  hour                   int64  \n",
      " 34  dayofweek              int64  \n",
      " 35  month                  int64  \n",
      " 36  elevation              int64  \n",
      " 37  pix_business_4x4       int64  \n",
      " 38  pix_residential_4x4    int64  \n",
      " 39  pix_industrial_4x4     int64  \n",
      " 40  pix_institutional_4x4  int64  \n",
      " 41  num_periods            int64  \n",
      " 42  agg_speed              float64\n",
      "dtypes: float64(10), int64(30), object(3)\n",
      "memory usage: 11.1+ GB\n"
     ]
    },
    {
     "data": {
      "text/html": [
       "<div>\n",
       "<style scoped>\n",
       "    .dataframe tbody tr th:only-of-type {\n",
       "        vertical-align: middle;\n",
       "    }\n",
       "\n",
       "    .dataframe tbody tr th {\n",
       "        vertical-align: top;\n",
       "    }\n",
       "\n",
       "    .dataframe thead th {\n",
       "        text-align: right;\n",
       "    }\n",
       "</style>\n",
       "<table border=\"1\" class=\"dataframe\">\n",
       "  <thead>\n",
       "    <tr style=\"text-align: right;\">\n",
       "      <th></th>\n",
       "      <th>datetime</th>\n",
       "      <th>altitude</th>\n",
       "      <th>angle</th>\n",
       "      <th>instant_speed</th>\n",
       "      <th>accel</th>\n",
       "      <th>ai1</th>\n",
       "      <th>ai2</th>\n",
       "      <th>ai3</th>\n",
       "      <th>ai4</th>\n",
       "      <th>alarm_code</th>\n",
       "      <th>...</th>\n",
       "      <th>hour</th>\n",
       "      <th>dayofweek</th>\n",
       "      <th>month</th>\n",
       "      <th>elevation</th>\n",
       "      <th>pix_business_4x4</th>\n",
       "      <th>pix_residential_4x4</th>\n",
       "      <th>pix_industrial_4x4</th>\n",
       "      <th>pix_institutional_4x4</th>\n",
       "      <th>num_periods</th>\n",
       "      <th>agg_speed</th>\n",
       "    </tr>\n",
       "  </thead>\n",
       "  <tbody>\n",
       "    <tr>\n",
       "      <th>0</th>\n",
       "      <td>2021-02-19 09:42:48+08:00</td>\n",
       "      <td>79</td>\n",
       "      <td>127</td>\n",
       "      <td>0</td>\n",
       "      <td>0.0</td>\n",
       "      <td>0</td>\n",
       "      <td>1023</td>\n",
       "      <td>307</td>\n",
       "      <td>628</td>\n",
       "      <td>0</td>\n",
       "      <td>...</td>\n",
       "      <td>9</td>\n",
       "      <td>4</td>\n",
       "      <td>2</td>\n",
       "      <td>58</td>\n",
       "      <td>222</td>\n",
       "      <td>1111</td>\n",
       "      <td>14</td>\n",
       "      <td>503</td>\n",
       "      <td>1</td>\n",
       "      <td>0.0</td>\n",
       "    </tr>\n",
       "    <tr>\n",
       "      <th>1</th>\n",
       "      <td>2021-02-19 09:43:19+08:00</td>\n",
       "      <td>79</td>\n",
       "      <td>93</td>\n",
       "      <td>0</td>\n",
       "      <td>0.0</td>\n",
       "      <td>0</td>\n",
       "      <td>1023</td>\n",
       "      <td>303</td>\n",
       "      <td>628</td>\n",
       "      <td>0</td>\n",
       "      <td>...</td>\n",
       "      <td>9</td>\n",
       "      <td>4</td>\n",
       "      <td>2</td>\n",
       "      <td>58</td>\n",
       "      <td>222</td>\n",
       "      <td>1111</td>\n",
       "      <td>14</td>\n",
       "      <td>503</td>\n",
       "      <td>2</td>\n",
       "      <td>0.0</td>\n",
       "    </tr>\n",
       "    <tr>\n",
       "      <th>2</th>\n",
       "      <td>2021-02-19 09:43:49+08:00</td>\n",
       "      <td>79</td>\n",
       "      <td>189</td>\n",
       "      <td>0</td>\n",
       "      <td>0.0</td>\n",
       "      <td>0</td>\n",
       "      <td>1023</td>\n",
       "      <td>305</td>\n",
       "      <td>629</td>\n",
       "      <td>0</td>\n",
       "      <td>...</td>\n",
       "      <td>9</td>\n",
       "      <td>4</td>\n",
       "      <td>2</td>\n",
       "      <td>58</td>\n",
       "      <td>222</td>\n",
       "      <td>1111</td>\n",
       "      <td>14</td>\n",
       "      <td>503</td>\n",
       "      <td>2</td>\n",
       "      <td>0.0</td>\n",
       "    </tr>\n",
       "    <tr>\n",
       "      <th>3</th>\n",
       "      <td>2021-02-19 09:44:19+08:00</td>\n",
       "      <td>79</td>\n",
       "      <td>115</td>\n",
       "      <td>0</td>\n",
       "      <td>0.0</td>\n",
       "      <td>0</td>\n",
       "      <td>1023</td>\n",
       "      <td>306</td>\n",
       "      <td>629</td>\n",
       "      <td>0</td>\n",
       "      <td>...</td>\n",
       "      <td>9</td>\n",
       "      <td>4</td>\n",
       "      <td>2</td>\n",
       "      <td>58</td>\n",
       "      <td>222</td>\n",
       "      <td>1111</td>\n",
       "      <td>14</td>\n",
       "      <td>503</td>\n",
       "      <td>2</td>\n",
       "      <td>0.0</td>\n",
       "    </tr>\n",
       "    <tr>\n",
       "      <th>4</th>\n",
       "      <td>2021-02-19 09:44:47+08:00</td>\n",
       "      <td>79</td>\n",
       "      <td>13</td>\n",
       "      <td>0</td>\n",
       "      <td>0.0</td>\n",
       "      <td>0</td>\n",
       "      <td>1023</td>\n",
       "      <td>300</td>\n",
       "      <td>629</td>\n",
       "      <td>33</td>\n",
       "      <td>...</td>\n",
       "      <td>9</td>\n",
       "      <td>4</td>\n",
       "      <td>2</td>\n",
       "      <td>58</td>\n",
       "      <td>222</td>\n",
       "      <td>1111</td>\n",
       "      <td>14</td>\n",
       "      <td>503</td>\n",
       "      <td>3</td>\n",
       "      <td>0.0</td>\n",
       "    </tr>\n",
       "  </tbody>\n",
       "</table>\n",
       "<p>5 rows × 43 columns</p>\n",
       "</div>"
      ],
      "text/plain": [
       "                    datetime  altitude  angle  instant_speed  accel  ai1  \\\n",
       "0  2021-02-19 09:42:48+08:00        79    127              0    0.0    0   \n",
       "1  2021-02-19 09:43:19+08:00        79     93              0    0.0    0   \n",
       "2  2021-02-19 09:43:49+08:00        79    189              0    0.0    0   \n",
       "3  2021-02-19 09:44:19+08:00        79    115              0    0.0    0   \n",
       "4  2021-02-19 09:44:47+08:00        79     13              0    0.0    0   \n",
       "\n",
       "    ai2  ai3  ai4  alarm_code  ...  hour  dayofweek  month  elevation  \\\n",
       "0  1023  307  628           0  ...     9          4      2         58   \n",
       "1  1023  303  628           0  ...     9          4      2         58   \n",
       "2  1023  305  629           0  ...     9          4      2         58   \n",
       "3  1023  306  629           0  ...     9          4      2         58   \n",
       "4  1023  300  629          33  ...     9          4      2         58   \n",
       "\n",
       "   pix_business_4x4  pix_residential_4x4  pix_industrial_4x4  \\\n",
       "0               222                 1111                  14   \n",
       "1               222                 1111                  14   \n",
       "2               222                 1111                  14   \n",
       "3               222                 1111                  14   \n",
       "4               222                 1111                  14   \n",
       "\n",
       "   pix_institutional_4x4  num_periods  agg_speed  \n",
       "0                    503            1        0.0  \n",
       "1                    503            2        0.0  \n",
       "2                    503            2        0.0  \n",
       "3                    503            2        0.0  \n",
       "4                    503            3        0.0  \n",
       "\n",
       "[5 rows x 43 columns]"
      ]
     },
     "metadata": {},
     "output_type": "display_data"
    },
    {
     "data": {
      "text/html": [
       "<div>\n",
       "<style scoped>\n",
       "    .dataframe tbody tr th:only-of-type {\n",
       "        vertical-align: middle;\n",
       "    }\n",
       "\n",
       "    .dataframe tbody tr th {\n",
       "        vertical-align: top;\n",
       "    }\n",
       "\n",
       "    .dataframe thead th {\n",
       "        text-align: right;\n",
       "    }\n",
       "</style>\n",
       "<table border=\"1\" class=\"dataframe\">\n",
       "  <thead>\n",
       "    <tr style=\"text-align: right;\">\n",
       "      <th></th>\n",
       "      <th>datetime</th>\n",
       "      <th>altitude</th>\n",
       "      <th>angle</th>\n",
       "      <th>instant_speed</th>\n",
       "      <th>accel</th>\n",
       "      <th>ai1</th>\n",
       "      <th>ai2</th>\n",
       "      <th>ai3</th>\n",
       "      <th>ai4</th>\n",
       "      <th>alarm_code</th>\n",
       "      <th>...</th>\n",
       "      <th>hour</th>\n",
       "      <th>dayofweek</th>\n",
       "      <th>month</th>\n",
       "      <th>elevation</th>\n",
       "      <th>pix_business_4x4</th>\n",
       "      <th>pix_residential_4x4</th>\n",
       "      <th>pix_industrial_4x4</th>\n",
       "      <th>pix_institutional_4x4</th>\n",
       "      <th>num_periods</th>\n",
       "      <th>agg_speed</th>\n",
       "    </tr>\n",
       "  </thead>\n",
       "  <tbody>\n",
       "    <tr>\n",
       "      <th>132802</th>\n",
       "      <td>2021-11-17 07:36:59+08:00</td>\n",
       "      <td>72</td>\n",
       "      <td>347</td>\n",
       "      <td>0</td>\n",
       "      <td>0.0</td>\n",
       "      <td>0</td>\n",
       "      <td>1023</td>\n",
       "      <td>0</td>\n",
       "      <td>593</td>\n",
       "      <td>0</td>\n",
       "      <td>...</td>\n",
       "      <td>7</td>\n",
       "      <td>2</td>\n",
       "      <td>11</td>\n",
       "      <td>49</td>\n",
       "      <td>265</td>\n",
       "      <td>943</td>\n",
       "      <td>0</td>\n",
       "      <td>11</td>\n",
       "      <td>1</td>\n",
       "      <td>0.0</td>\n",
       "    </tr>\n",
       "    <tr>\n",
       "      <th>132803</th>\n",
       "      <td>2021-11-17 07:42:02+08:00</td>\n",
       "      <td>73</td>\n",
       "      <td>347</td>\n",
       "      <td>0</td>\n",
       "      <td>0.0</td>\n",
       "      <td>0</td>\n",
       "      <td>1023</td>\n",
       "      <td>0</td>\n",
       "      <td>591</td>\n",
       "      <td>0</td>\n",
       "      <td>...</td>\n",
       "      <td>7</td>\n",
       "      <td>2</td>\n",
       "      <td>11</td>\n",
       "      <td>49</td>\n",
       "      <td>265</td>\n",
       "      <td>943</td>\n",
       "      <td>0</td>\n",
       "      <td>11</td>\n",
       "      <td>1</td>\n",
       "      <td>0.0</td>\n",
       "    </tr>\n",
       "    <tr>\n",
       "      <th>132804</th>\n",
       "      <td>2021-11-17 07:47:05+08:00</td>\n",
       "      <td>74</td>\n",
       "      <td>347</td>\n",
       "      <td>0</td>\n",
       "      <td>0.0</td>\n",
       "      <td>0</td>\n",
       "      <td>1023</td>\n",
       "      <td>0</td>\n",
       "      <td>589</td>\n",
       "      <td>0</td>\n",
       "      <td>...</td>\n",
       "      <td>7</td>\n",
       "      <td>2</td>\n",
       "      <td>11</td>\n",
       "      <td>49</td>\n",
       "      <td>265</td>\n",
       "      <td>943</td>\n",
       "      <td>0</td>\n",
       "      <td>11</td>\n",
       "      <td>1</td>\n",
       "      <td>0.0</td>\n",
       "    </tr>\n",
       "    <tr>\n",
       "      <th>132805</th>\n",
       "      <td>2021-11-17 07:52:08+08:00</td>\n",
       "      <td>74</td>\n",
       "      <td>347</td>\n",
       "      <td>0</td>\n",
       "      <td>0.0</td>\n",
       "      <td>0</td>\n",
       "      <td>1023</td>\n",
       "      <td>0</td>\n",
       "      <td>586</td>\n",
       "      <td>0</td>\n",
       "      <td>...</td>\n",
       "      <td>7</td>\n",
       "      <td>2</td>\n",
       "      <td>11</td>\n",
       "      <td>49</td>\n",
       "      <td>265</td>\n",
       "      <td>943</td>\n",
       "      <td>0</td>\n",
       "      <td>11</td>\n",
       "      <td>1</td>\n",
       "      <td>0.0</td>\n",
       "    </tr>\n",
       "    <tr>\n",
       "      <th>132806</th>\n",
       "      <td>2021-11-17 07:57:11+08:00</td>\n",
       "      <td>74</td>\n",
       "      <td>347</td>\n",
       "      <td>0</td>\n",
       "      <td>0.0</td>\n",
       "      <td>0</td>\n",
       "      <td>1023</td>\n",
       "      <td>0</td>\n",
       "      <td>585</td>\n",
       "      <td>0</td>\n",
       "      <td>...</td>\n",
       "      <td>7</td>\n",
       "      <td>2</td>\n",
       "      <td>11</td>\n",
       "      <td>49</td>\n",
       "      <td>263</td>\n",
       "      <td>952</td>\n",
       "      <td>0</td>\n",
       "      <td>15</td>\n",
       "      <td>1</td>\n",
       "      <td>0.0</td>\n",
       "    </tr>\n",
       "  </tbody>\n",
       "</table>\n",
       "<p>5 rows × 43 columns</p>\n",
       "</div>"
      ],
      "text/plain": [
       "                         datetime  altitude  angle  instant_speed  accel  ai1  \\\n",
       "132802  2021-11-17 07:36:59+08:00        72    347              0    0.0    0   \n",
       "132803  2021-11-17 07:42:02+08:00        73    347              0    0.0    0   \n",
       "132804  2021-11-17 07:47:05+08:00        74    347              0    0.0    0   \n",
       "132805  2021-11-17 07:52:08+08:00        74    347              0    0.0    0   \n",
       "132806  2021-11-17 07:57:11+08:00        74    347              0    0.0    0   \n",
       "\n",
       "         ai2  ai3  ai4  alarm_code  ...  hour  dayofweek  month  elevation  \\\n",
       "132802  1023    0  593           0  ...     7          2     11         49   \n",
       "132803  1023    0  591           0  ...     7          2     11         49   \n",
       "132804  1023    0  589           0  ...     7          2     11         49   \n",
       "132805  1023    0  586           0  ...     7          2     11         49   \n",
       "132806  1023    0  585           0  ...     7          2     11         49   \n",
       "\n",
       "        pix_business_4x4  pix_residential_4x4  pix_industrial_4x4  \\\n",
       "132802               265                  943                   0   \n",
       "132803               265                  943                   0   \n",
       "132804               265                  943                   0   \n",
       "132805               265                  943                   0   \n",
       "132806               263                  952                   0   \n",
       "\n",
       "        pix_institutional_4x4  num_periods  agg_speed  \n",
       "132802                     11            1        0.0  \n",
       "132803                     11            1        0.0  \n",
       "132804                     11            1        0.0  \n",
       "132805                     11            1        0.0  \n",
       "132806                     15            1        0.0  \n",
       "\n",
       "[5 rows x 43 columns]"
      ]
     },
     "metadata": {},
     "output_type": "display_data"
    }
   ],
   "source": [
    "# set low_memory=False to ensure no mixed types\n",
    "df_median = pd.concat([pd.read_csv(path, dtype=dtypes_dict) for path in filepaths])\n",
    "df_median = correct_service_rd_kphlimit(df_median)\n",
    "df_median.info()\n",
    "display(df_median.head())\n",
    "display(df_median.tail())"
   ]
  },
  {
   "cell_type": "markdown",
   "id": "4d2fb69e",
   "metadata": {},
   "source": [
    "### Combine\n",
    "\n",
    "Since the dataframes: `df_mean` and `df_median` are identical except for the `agg_speed` columns. We combine them and rename the `agg_speed` column appropriately to obtain `df` with columns `agg_speed_mean` and `agg_speed_median`."
   ]
  },
  {
   "cell_type": "code",
   "execution_count": 8,
   "id": "6b386a23",
   "metadata": {
    "ExecuteTime": {
     "end_time": "2022-06-02T02:13:57.300077Z",
     "start_time": "2022-06-02T02:13:27.694733Z"
    }
   },
   "outputs": [],
   "source": [
    "df = df_mean\n",
    "df = df.rename(columns={'agg_speed': 'agg_speed_mean'})\n",
    "df['agg_speed_median'] = df_median['agg_speed']"
   ]
  },
  {
   "cell_type": "code",
   "execution_count": 9,
   "id": "e5cf0e71",
   "metadata": {
    "ExecuteTime": {
     "end_time": "2022-06-02T02:13:57.336189Z",
     "start_time": "2022-06-02T02:13:57.319694Z"
    }
   },
   "outputs": [],
   "source": [
    "# del df_mean, df_median"
   ]
  },
  {
   "cell_type": "markdown",
   "id": "ac37c385",
   "metadata": {},
   "source": [
    "## Features\n",
    "\n",
    "The features used in this study are:\n",
    "* `hour` - hour of the day;  values 0 to 23, categorical.\n",
    "* `dayofweek` - day of the week: values 0 - 6; categorical.\n",
    "* `number_of_lanes` - number of lanes of the road segment where probe vehicle (i.e., tricycle) is in at a moment in time; numerical.\n",
    "* `speed_limit_kph` - speed limit of the road segment where probe vehicle (i.e., tricycle) is in at a moment in time; numerical.\n",
    "* `elevation` - elevation at the recorded GPS lon-lat of a probe vehicle; numerical.\n",
    "* `pix_residential_4x4` - captures land area in `4x4-` or `8x8-meter` pixel counts. Other similar features are: `pix_institutional`, `pix_industrial`, and `pix_business`; numerical."
   ]
  },
  {
   "cell_type": "code",
   "execution_count": 10,
   "id": "35bc9e52",
   "metadata": {
    "ExecuteTime": {
     "end_time": "2022-06-02T02:13:59.272346Z",
     "start_time": "2022-06-02T02:13:57.342845Z"
    }
   },
   "outputs": [
    {
     "data": {
      "image/png": "[encoded data removed]",
      "text/plain": [
       "<Figure size 1440x720 with 2 Axes>"
      ]
     },
     "metadata": {
      "needs_background": "light"
     },
     "output_type": "display_data"
    }
   ],
   "source": [
    "# cat features counts\n",
    "cat_cols = ['hour', 'dayofweek']\n",
    "fig, axes = plt.subplots(1, 2, figsize=(20, 10))\n",
    "\n",
    "for index, col in enumerate(cat_cols):\n",
    "    (df[col].value_counts(sort=False)\n",
    "            .sort_index()\n",
    "            .plot.barh(ax=axes[index]))\n",
    "    axes[index].set_title(col)\n",
    "plt.show()"
   ]
  },
  {
   "cell_type": "code",
   "execution_count": 11,
   "id": "3e0fbada",
   "metadata": {
    "ExecuteTime": {
     "end_time": "2022-06-02T02:13:59.292584Z",
     "start_time": "2022-06-02T02:13:59.274770Z"
    }
   },
   "outputs": [],
   "source": [
    "# set num cols\n",
    "discrete_num_cols = ['number_of_lanes', 'speed_limit_kph',]\n",
    "building_types = ['residential', 'business', 'industrial', 'institutional']\n",
    "pixel_size = '4x4'\n",
    "landuse_cols = [f'pix_{type_}_{pixel_size}' for type_ in building_types]\n",
    "num_cols = landuse_cols + discrete_num_cols + ['elevation']"
   ]
  },
  {
   "cell_type": "code",
   "execution_count": 12,
   "id": "9b9afc1c",
   "metadata": {
    "ExecuteTime": {
     "end_time": "2022-06-02T02:14:11.607628Z",
     "start_time": "2022-06-02T02:13:59.295729Z"
    },
    "scrolled": true
   },
   "outputs": [
    {
     "data": {
      "text/html": [
       "<div>\n",
       "<style scoped>\n",
       "    .dataframe tbody tr th:only-of-type {\n",
       "        vertical-align: middle;\n",
       "    }\n",
       "\n",
       "    .dataframe tbody tr th {\n",
       "        vertical-align: top;\n",
       "    }\n",
       "\n",
       "    .dataframe thead th {\n",
       "        text-align: right;\n",
       "    }\n",
       "</style>\n",
       "<table border=\"1\" class=\"dataframe\">\n",
       "  <thead>\n",
       "    <tr style=\"text-align: right;\">\n",
       "      <th></th>\n",
       "      <th>pix_residential_4x4</th>\n",
       "      <th>pix_business_4x4</th>\n",
       "      <th>pix_industrial_4x4</th>\n",
       "      <th>pix_institutional_4x4</th>\n",
       "      <th>number_of_lanes</th>\n",
       "      <th>speed_limit_kph</th>\n",
       "      <th>elevation</th>\n",
       "    </tr>\n",
       "  </thead>\n",
       "  <tbody>\n",
       "    <tr>\n",
       "      <th>count</th>\n",
       "      <td>3.381760e+07</td>\n",
       "      <td>3.381760e+07</td>\n",
       "      <td>3.381760e+07</td>\n",
       "      <td>3.381760e+07</td>\n",
       "      <td>3.294062e+07</td>\n",
       "      <td>3.381760e+07</td>\n",
       "      <td>3.381760e+07</td>\n",
       "    </tr>\n",
       "    <tr>\n",
       "      <th>mean</th>\n",
       "      <td>7.667400e+02</td>\n",
       "      <td>5.132706e+02</td>\n",
       "      <td>7.113203e+01</td>\n",
       "      <td>8.166392e+01</td>\n",
       "      <td>2.015445e+00</td>\n",
       "      <td>4.053989e+01</td>\n",
       "      <td>5.841174e+01</td>\n",
       "    </tr>\n",
       "    <tr>\n",
       "      <th>std</th>\n",
       "      <td>5.958744e+02</td>\n",
       "      <td>6.891247e+02</td>\n",
       "      <td>1.416313e+02</td>\n",
       "      <td>1.478984e+02</td>\n",
       "      <td>1.185719e+00</td>\n",
       "      <td>1.916828e+01</td>\n",
       "      <td>5.854526e+00</td>\n",
       "    </tr>\n",
       "    <tr>\n",
       "      <th>min</th>\n",
       "      <td>0.000000e+00</td>\n",
       "      <td>0.000000e+00</td>\n",
       "      <td>0.000000e+00</td>\n",
       "      <td>0.000000e+00</td>\n",
       "      <td>1.000000e+00</td>\n",
       "      <td>2.000000e+01</td>\n",
       "      <td>3.600000e+01</td>\n",
       "    </tr>\n",
       "    <tr>\n",
       "      <th>25%</th>\n",
       "      <td>3.490000e+02</td>\n",
       "      <td>0.000000e+00</td>\n",
       "      <td>0.000000e+00</td>\n",
       "      <td>0.000000e+00</td>\n",
       "      <td>1.000000e+00</td>\n",
       "      <td>2.000000e+01</td>\n",
       "      <td>5.500000e+01</td>\n",
       "    </tr>\n",
       "    <tr>\n",
       "      <th>50%</th>\n",
       "      <td>6.160000e+02</td>\n",
       "      <td>2.520000e+02</td>\n",
       "      <td>0.000000e+00</td>\n",
       "      <td>8.000000e+00</td>\n",
       "      <td>2.000000e+00</td>\n",
       "      <td>3.000000e+01</td>\n",
       "      <td>5.900000e+01</td>\n",
       "    </tr>\n",
       "    <tr>\n",
       "      <th>75%</th>\n",
       "      <td>1.014000e+03</td>\n",
       "      <td>7.470000e+02</td>\n",
       "      <td>8.200000e+01</td>\n",
       "      <td>8.700000e+01</td>\n",
       "      <td>2.000000e+00</td>\n",
       "      <td>6.000000e+01</td>\n",
       "      <td>6.200000e+01</td>\n",
       "    </tr>\n",
       "    <tr>\n",
       "      <th>max</th>\n",
       "      <td>2.796000e+03</td>\n",
       "      <td>3.299000e+03</td>\n",
       "      <td>2.018000e+03</td>\n",
       "      <td>9.640000e+02</td>\n",
       "      <td>4.000000e+00</td>\n",
       "      <td>8.000000e+01</td>\n",
       "      <td>2.110000e+02</td>\n",
       "    </tr>\n",
       "  </tbody>\n",
       "</table>\n",
       "</div>"
      ],
      "text/plain": [
       "       pix_residential_4x4  pix_business_4x4  pix_industrial_4x4  \\\n",
       "count         3.381760e+07      3.381760e+07        3.381760e+07   \n",
       "mean          7.667400e+02      5.132706e+02        7.113203e+01   \n",
       "std           5.958744e+02      6.891247e+02        1.416313e+02   \n",
       "min           0.000000e+00      0.000000e+00        0.000000e+00   \n",
       "25%           3.490000e+02      0.000000e+00        0.000000e+00   \n",
       "50%           6.160000e+02      2.520000e+02        0.000000e+00   \n",
       "75%           1.014000e+03      7.470000e+02        8.200000e+01   \n",
       "max           2.796000e+03      3.299000e+03        2.018000e+03   \n",
       "\n",
       "       pix_institutional_4x4  number_of_lanes  speed_limit_kph     elevation  \n",
       "count           3.381760e+07     3.294062e+07     3.381760e+07  3.381760e+07  \n",
       "mean            8.166392e+01     2.015445e+00     4.053989e+01  5.841174e+01  \n",
       "std             1.478984e+02     1.185719e+00     1.916828e+01  5.854526e+00  \n",
       "min             0.000000e+00     1.000000e+00     2.000000e+01  3.600000e+01  \n",
       "25%             0.000000e+00     1.000000e+00     2.000000e+01  5.500000e+01  \n",
       "50%             8.000000e+00     2.000000e+00     3.000000e+01  5.900000e+01  \n",
       "75%             8.700000e+01     2.000000e+00     6.000000e+01  6.200000e+01  \n",
       "max             9.640000e+02     4.000000e+00     8.000000e+01  2.110000e+02  "
      ]
     },
     "execution_count": 12,
     "metadata": {},
     "output_type": "execute_result"
    }
   ],
   "source": [
    "# numerical features describe\n",
    "df[num_cols].describe()"
   ]
  },
  {
   "cell_type": "code",
   "execution_count": 13,
   "id": "7b186972",
   "metadata": {
    "ExecuteTime": {
     "end_time": "2022-06-02T02:14:13.672444Z",
     "start_time": "2022-06-02T02:14:11.611011Z"
    }
   },
   "outputs": [
    {
     "data": {
      "image/png": "[encoded data removed]",
      "text/plain": [
       "<Figure size 1440x360 with 2 Axes>"
      ]
     },
     "metadata": {
      "needs_background": "light"
     },
     "output_type": "display_data"
    }
   ],
   "source": [
    "# cat features counts\n",
    "fig, axes = plt.subplots(1, 2, figsize=(20, 5))\n",
    "\n",
    "for index, col in enumerate(discrete_num_cols):\n",
    "    (df[col].value_counts(sort=False)\n",
    "            .sort_index()\n",
    "            .plot.barh(ax=axes[index]))\n",
    "    axes[index].set_title(col)\n",
    "    \n",
    "plt.show()"
   ]
  },
  {
   "cell_type": "code",
   "execution_count": 14,
   "id": "56e22f8d",
   "metadata": {
    "ExecuteTime": {
     "end_time": "2022-06-02T02:14:13.691969Z",
     "start_time": "2022-06-02T02:14:13.686144Z"
    }
   },
   "outputs": [],
   "source": [
    "continuous_num_cols = [col for col in num_cols if col not in discrete_num_cols]"
   ]
  },
  {
   "cell_type": "code",
   "execution_count": 15,
   "id": "cde43bd1",
   "metadata": {
    "ExecuteTime": {
     "end_time": "2022-06-02T02:14:35.938965Z",
     "start_time": "2022-06-02T02:14:13.694349Z"
    }
   },
   "outputs": [
    {
     "data": {
      "image/png": "[encoded data removed]",
      "text/plain": [
       "<Figure size 1080x576 with 8 Axes>"
      ]
     },
     "metadata": {
      "needs_background": "light"
     },
     "output_type": "display_data"
    }
   ],
   "source": [
    "# numerical features distributions\n",
    "fig, axes = plt.subplots(2, 4, figsize=(15, 8))\n",
    "axes = axes.flatten()\n",
    "\n",
    "for index, col in enumerate(continuous_num_cols):\n",
    "    (df[col]\n",
    "     .plot.hist(ax=axes[index], bins=30))\n",
    "    \n",
    "    axes[index].set_xlabel(f'{col} distribution')\n",
    "\n",
    "axes[-1].axis('off')\n",
    "axes[-2].axis('off')\n",
    "axes[-3].axis('off')\n",
    "plt.show()"
   ]
  },
  {
   "cell_type": "markdown",
   "id": "3948659b",
   "metadata": {},
   "source": [
    "## Target: `instant_speed` and `agg_speed` (mean & median approach)"
   ]
  },
  {
   "cell_type": "markdown",
   "id": "2dbd3be4",
   "metadata": {},
   "source": [
    "### Target Distribution comparison\n",
    "\n",
    "Inspecting the distrubution of instant and aggregated speeds and the number of periods within a `lookback_window` guide the threshold in filtering the data points according to the number of periods: `num_periods`."
   ]
  },
  {
   "cell_type": "code",
   "execution_count": 16,
   "id": "45447526",
   "metadata": {
    "ExecuteTime": {
     "end_time": "2022-06-02T02:14:39.766813Z",
     "start_time": "2022-06-02T02:14:35.941714Z"
    }
   },
   "outputs": [
    {
     "data": {
      "image/png": "[encoded data removed]",
      "text/plain": [
       "<Figure size 432x288 with 1 Axes>"
      ]
     },
     "metadata": {
      "needs_background": "light"
     },
     "output_type": "display_data"
    }
   ],
   "source": [
    "# distribution of instant_speed\n",
    "df['instant_speed'].plot.hist(bins=50);"
   ]
  },
  {
   "cell_type": "code",
   "execution_count": 17,
   "id": "66180235",
   "metadata": {
    "ExecuteTime": {
     "end_time": "2022-06-02T02:14:47.980692Z",
     "start_time": "2022-06-02T02:14:39.769304Z"
    }
   },
   "outputs": [
    {
     "data": {
      "image/png": "[encoded data removed]",
      "text/plain": [
       "<Figure size 1440x360 with 2 Axes>"
      ]
     },
     "metadata": {
      "needs_background": "light"
     },
     "output_type": "display_data"
    }
   ],
   "source": [
    "# distribution of agg_speed: mean and median\n",
    "agg_speeds = ['mean', 'median']\n",
    "fig, axes = plt.subplots(1, 2, figsize=(20, 5))\n",
    "\n",
    "for index, agg in enumerate(agg_speeds):\n",
    "    (df[f'agg_speed_{agg}']\n",
    "     .plot.hist(ax=axes[index], bins=30))\n",
    "    \n",
    "    axes[index].set_xlabel(f'agg_speed_{agg} distribution')"
   ]
  },
  {
   "cell_type": "markdown",
   "id": "f872f880",
   "metadata": {},
   "source": [
    "### Filter variable `num_periods` distribution"
   ]
  },
  {
   "cell_type": "code",
   "execution_count": 18,
   "id": "c57d8741",
   "metadata": {
    "ExecuteTime": {
     "end_time": "2022-06-02T02:14:52.090223Z",
     "start_time": "2022-06-02T02:14:47.983373Z"
    }
   },
   "outputs": [
    {
     "data": {
      "image/png": "[encoded data removed]",
      "text/plain": [
       "<Figure size 432x288 with 1 Axes>"
      ]
     },
     "metadata": {
      "needs_background": "light"
     },
     "output_type": "display_data"
    }
   ],
   "source": [
    "# num_periods\n",
    "df['num_periods'].plot.hist(logy=True, bins=30);"
   ]
  },
  {
   "cell_type": "code",
   "execution_count": 19,
   "id": "a7dc6a5c",
   "metadata": {
    "ExecuteTime": {
     "end_time": "2022-06-02T02:16:36.547531Z",
     "start_time": "2022-06-02T02:14:52.092427Z"
    }
   },
   "outputs": [
    {
     "data": {
      "image/png": "[encoded data removed]",
      "text/plain": [
       "<Figure size 1080x360 with 2 Axes>"
      ]
     },
     "metadata": {
      "needs_background": "light"
     },
     "output_type": "display_data"
    }
   ],
   "source": [
    "# remove issue vehicle\n",
    "test = df[df.vehicle_id != 123200872686]\n",
    "\n",
    "fig, ax = plt.subplots(1, 2, figsize=(15, 5))\n",
    "test[['num_periods', 'agg_speed_mean']].plot.scatter(\n",
    "    x='agg_speed_mean', \n",
    "    y='num_periods',\n",
    "    ax=ax[0])\n",
    "\n",
    "test['num_periods'].plot.hist(logy=True, bins=30, ax=ax[1])\n",
    "\n",
    "ax[0].set_title(\"Scatter plot\")\n",
    "ax[1].set_title(\"Histogram\")\n",
    "plt.show()"
   ]
  },
  {
   "cell_type": "markdown",
   "id": "9cab6014",
   "metadata": {
    "ExecuteTime": {
     "end_time": "2022-06-01T17:19:26.911006Z",
     "start_time": "2022-06-01T17:19:26.869952Z"
    }
   },
   "source": [
    "### Use `num_periods` thresh to filter"
   ]
  },
  {
   "cell_type": "code",
   "execution_count": 20,
   "id": "9ebf34fe",
   "metadata": {
    "ExecuteTime": {
     "end_time": "2022-06-02T02:22:21.179208Z",
     "start_time": "2022-06-02T02:16:36.551528Z"
    }
   },
   "outputs": [
    {
     "data": {
      "image/png": "[encoded data removed]",
      "text/plain": [
       "<Figure size 1440x360 with 2 Axes>"
      ]
     },
     "metadata": {
      "needs_background": "light"
     },
     "output_type": "display_data"
    }
   ],
   "source": [
    "# distribution of agg_speed: mean and median\n",
    "agg_speeds = ['mean', 'median']\n",
    "fig, axes = plt.subplots(1, 2, figsize=(20, 5))\n",
    "\n",
    "for index, agg in enumerate(agg_speeds):\n",
    "    (df.where(df.num_periods >= 12)[f'agg_speed_{agg}']\n",
    "     .plot.hist(ax=axes[index], bins=30))\n",
    "    \n",
    "    axes[index].set_xlabel(f'agg_speed_{agg} distribution')"
   ]
  },
  {
   "cell_type": "code",
   "execution_count": 21,
   "id": "d283216e",
   "metadata": {
    "ExecuteTime": {
     "end_time": "2022-06-02T02:24:46.199000Z",
     "start_time": "2022-06-02T02:22:21.184093Z"
    }
   },
   "outputs": [
    {
     "data": {
      "image/png": "[encoded data removed]",
      "text/plain": [
       "<Figure size 1080x576 with 2 Axes>"
      ]
     },
     "metadata": {
      "needs_background": "light"
     },
     "output_type": "display_data"
    }
   ],
   "source": [
    "fig, ax = plt.subplots(1, 2, figsize=(15, 8))\n",
    "df[['num_periods', 'agg_speed_mean']].plot.scatter(\n",
    "    x='num_periods', \n",
    "    y='agg_speed_mean',\n",
    "    ax=ax[0])\n",
    "df[['num_periods', 'agg_speed_median']].plot.scatter(\n",
    "    x='num_periods', \n",
    "    y='agg_speed_median',\n",
    "    ax=ax[1])\n",
    "ax[0].set_title('Mean')\n",
    "ax[1].set_title('Median')\n",
    "plt.show()"
   ]
  },
  {
   "cell_type": "markdown",
   "id": "74858054",
   "metadata": {},
   "source": [
    "**Observation**\n",
    "\n",
    "* Periods to the order of hundreds are recorded.\n",
    "* Intially addressed by dropping duplicates, but does not address the issue.\n",
    "* Anomalous `num_periods` come from one vehicle, see below."
   ]
  },
  {
   "cell_type": "code",
   "execution_count": 22,
   "id": "47059ff8",
   "metadata": {
    "ExecuteTime": {
     "end_time": "2022-06-02T02:24:47.077077Z",
     "start_time": "2022-06-02T02:24:46.202902Z"
    }
   },
   "outputs": [
    {
     "data": {
      "text/plain": [
       "vehicle_id\n",
       "123200872761     2.225560\n",
       "123200872776     2.313016\n",
       "123200872753     3.216200\n",
       "123200872782     3.700184\n",
       "123200872706     3.978270\n",
       "                  ...    \n",
       "123200872804     8.321667\n",
       "123200872738     8.455526\n",
       "123200872809     8.483266\n",
       "123200872698    10.032844\n",
       "123200872686    93.862168\n",
       "Name: num_periods, Length: 200, dtype: float64"
      ]
     },
     "execution_count": 22,
     "metadata": {},
     "output_type": "execute_result"
    }
   ],
   "source": [
    "grouper = df.groupby('vehicle_id')\n",
    "grouper['num_periods'].mean().sort_values()"
   ]
  },
  {
   "cell_type": "code",
   "execution_count": 23,
   "id": "81c32378",
   "metadata": {
    "ExecuteTime": {
     "end_time": "2022-06-02T02:25:02.545562Z",
     "start_time": "2022-06-02T02:24:47.079721Z"
    }
   },
   "outputs": [
    {
     "name": "stdout",
     "output_type": "stream",
     "text": [
      "Min:  1\n",
      "Min:  706\n"
     ]
    },
    {
     "data": {
      "text/html": [
       "<div>\n",
       "<style scoped>\n",
       "    .dataframe tbody tr th:only-of-type {\n",
       "        vertical-align: middle;\n",
       "    }\n",
       "\n",
       "    .dataframe tbody tr th {\n",
       "        vertical-align: top;\n",
       "    }\n",
       "\n",
       "    .dataframe thead th {\n",
       "        text-align: right;\n",
       "    }\n",
       "</style>\n",
       "<table border=\"1\" class=\"dataframe\">\n",
       "  <thead>\n",
       "    <tr style=\"text-align: right;\">\n",
       "      <th></th>\n",
       "      <th>agg_speed_mean</th>\n",
       "      <th>num_periods</th>\n",
       "    </tr>\n",
       "    <tr>\n",
       "      <th>datetime</th>\n",
       "      <th></th>\n",
       "      <th></th>\n",
       "    </tr>\n",
       "  </thead>\n",
       "  <tbody>\n",
       "    <tr>\n",
       "      <th>2021-02-17 16:01:00+08:00</th>\n",
       "      <td>0.0</td>\n",
       "      <td>1</td>\n",
       "    </tr>\n",
       "    <tr>\n",
       "      <th>2021-02-17 16:01:31+08:00</th>\n",
       "      <td>0.0</td>\n",
       "      <td>2</td>\n",
       "    </tr>\n",
       "    <tr>\n",
       "      <th>2021-02-17 16:02:01+08:00</th>\n",
       "      <td>0.0</td>\n",
       "      <td>2</td>\n",
       "    </tr>\n",
       "    <tr>\n",
       "      <th>2021-02-17 16:02:31+08:00</th>\n",
       "      <td>0.0</td>\n",
       "      <td>2</td>\n",
       "    </tr>\n",
       "    <tr>\n",
       "      <th>2021-02-17 16:03:02+08:00</th>\n",
       "      <td>0.0</td>\n",
       "      <td>2</td>\n",
       "    </tr>\n",
       "    <tr>\n",
       "      <th>...</th>\n",
       "      <td>...</td>\n",
       "      <td>...</td>\n",
       "    </tr>\n",
       "    <tr>\n",
       "      <th>2021-02-18 02:44:07+08:00</th>\n",
       "      <td>0.0</td>\n",
       "      <td>1</td>\n",
       "    </tr>\n",
       "    <tr>\n",
       "      <th>2021-02-18 02:44:08+08:00</th>\n",
       "      <td>0.0</td>\n",
       "      <td>2</td>\n",
       "    </tr>\n",
       "    <tr>\n",
       "      <th>2021-02-18 02:44:14+08:00</th>\n",
       "      <td>0.0</td>\n",
       "      <td>3</td>\n",
       "    </tr>\n",
       "    <tr>\n",
       "      <th>2021-02-18 02:49:09+08:00</th>\n",
       "      <td>0.0</td>\n",
       "      <td>1</td>\n",
       "    </tr>\n",
       "    <tr>\n",
       "      <th>2021-02-18 03:13:26+08:00</th>\n",
       "      <td>0.0</td>\n",
       "      <td>1</td>\n",
       "    </tr>\n",
       "  </tbody>\n",
       "</table>\n",
       "<p>4890 rows × 2 columns</p>\n",
       "</div>"
      ],
      "text/plain": [
       "                           agg_speed_mean  num_periods\n",
       "datetime                                              \n",
       "2021-02-17 16:01:00+08:00             0.0            1\n",
       "2021-02-17 16:01:31+08:00             0.0            2\n",
       "2021-02-17 16:02:01+08:00             0.0            2\n",
       "2021-02-17 16:02:31+08:00             0.0            2\n",
       "2021-02-17 16:03:02+08:00             0.0            2\n",
       "...                                   ...          ...\n",
       "2021-02-18 02:44:07+08:00             0.0            1\n",
       "2021-02-18 02:44:08+08:00             0.0            2\n",
       "2021-02-18 02:44:14+08:00             0.0            3\n",
       "2021-02-18 02:49:09+08:00             0.0            1\n",
       "2021-02-18 03:13:26+08:00             0.0            1\n",
       "\n",
       "[4890 rows x 2 columns]"
      ]
     },
     "metadata": {},
     "output_type": "display_data"
    }
   ],
   "source": [
    "for name, group in grouper:\n",
    "    if str(name) == '123200872686':\n",
    "        group = group.sort_values('datetime')\n",
    "        group = group.set_index('datetime')\n",
    "\n",
    "        min_ = group.num_periods.min()\n",
    "        max_ = group.num_periods.max()\n",
    "    \n",
    "        print(\"Min: \", min_)\n",
    "        print(\"Min: \", max_)\n",
    "        display(group[['agg_speed_mean','num_periods']])\n",
    "#     break"
   ]
  },
  {
   "cell_type": "code",
   "execution_count": 24,
   "id": "7f4695af",
   "metadata": {
    "ExecuteTime": {
     "end_time": "2022-06-02T02:25:03.421566Z",
     "start_time": "2022-06-02T02:25:02.548710Z"
    }
   },
   "outputs": [
    {
     "data": {
      "text/html": [
       "<div>\n",
       "<style scoped>\n",
       "    .dataframe tbody tr th:only-of-type {\n",
       "        vertical-align: middle;\n",
       "    }\n",
       "\n",
       "    .dataframe tbody tr th {\n",
       "        vertical-align: top;\n",
       "    }\n",
       "\n",
       "    .dataframe thead th {\n",
       "        text-align: right;\n",
       "    }\n",
       "</style>\n",
       "<table border=\"1\" class=\"dataframe\">\n",
       "  <thead>\n",
       "    <tr style=\"text-align: right;\">\n",
       "      <th></th>\n",
       "      <th>datetime</th>\n",
       "      <th>agg_speed_mean</th>\n",
       "      <th>num_periods</th>\n",
       "    </tr>\n",
       "  </thead>\n",
       "  <tbody>\n",
       "    <tr>\n",
       "      <th>0</th>\n",
       "      <td>2021-02-17 16:01:00+08:00</td>\n",
       "      <td>0.000000</td>\n",
       "      <td>1</td>\n",
       "    </tr>\n",
       "    <tr>\n",
       "      <th>1</th>\n",
       "      <td>2021-02-17 16:01:31+08:00</td>\n",
       "      <td>0.000000</td>\n",
       "      <td>2</td>\n",
       "    </tr>\n",
       "    <tr>\n",
       "      <th>2</th>\n",
       "      <td>2021-02-17 16:02:01+08:00</td>\n",
       "      <td>0.000000</td>\n",
       "      <td>2</td>\n",
       "    </tr>\n",
       "    <tr>\n",
       "      <th>3</th>\n",
       "      <td>2021-02-17 16:02:31+08:00</td>\n",
       "      <td>0.000000</td>\n",
       "      <td>2</td>\n",
       "    </tr>\n",
       "    <tr>\n",
       "      <th>4</th>\n",
       "      <td>2021-02-17 16:03:02+08:00</td>\n",
       "      <td>0.000000</td>\n",
       "      <td>2</td>\n",
       "    </tr>\n",
       "    <tr>\n",
       "      <th>...</th>\n",
       "      <td>...</td>\n",
       "      <td>...</td>\n",
       "      <td>...</td>\n",
       "    </tr>\n",
       "    <tr>\n",
       "      <th>1495</th>\n",
       "      <td>2021-02-17 16:47:54+08:00</td>\n",
       "      <td>0.849315</td>\n",
       "      <td>73</td>\n",
       "    </tr>\n",
       "    <tr>\n",
       "      <th>1496</th>\n",
       "      <td>2021-02-17 16:47:55+08:00</td>\n",
       "      <td>0.837838</td>\n",
       "      <td>74</td>\n",
       "    </tr>\n",
       "    <tr>\n",
       "      <th>1497</th>\n",
       "      <td>2021-02-17 16:47:56+08:00</td>\n",
       "      <td>0.837838</td>\n",
       "      <td>74</td>\n",
       "    </tr>\n",
       "    <tr>\n",
       "      <th>1498</th>\n",
       "      <td>2021-02-17 16:47:57+08:00</td>\n",
       "      <td>0.837838</td>\n",
       "      <td>74</td>\n",
       "    </tr>\n",
       "    <tr>\n",
       "      <th>1499</th>\n",
       "      <td>2021-02-17 16:47:57+08:00</td>\n",
       "      <td>0.837838</td>\n",
       "      <td>74</td>\n",
       "    </tr>\n",
       "  </tbody>\n",
       "</table>\n",
       "<p>1500 rows × 3 columns</p>\n",
       "</div>"
      ],
      "text/plain": [
       "                       datetime  agg_speed_mean  num_periods\n",
       "0     2021-02-17 16:01:00+08:00        0.000000            1\n",
       "1     2021-02-17 16:01:31+08:00        0.000000            2\n",
       "2     2021-02-17 16:02:01+08:00        0.000000            2\n",
       "3     2021-02-17 16:02:31+08:00        0.000000            2\n",
       "4     2021-02-17 16:03:02+08:00        0.000000            2\n",
       "...                         ...             ...          ...\n",
       "1495  2021-02-17 16:47:54+08:00        0.849315           73\n",
       "1496  2021-02-17 16:47:55+08:00        0.837838           74\n",
       "1497  2021-02-17 16:47:56+08:00        0.837838           74\n",
       "1498  2021-02-17 16:47:57+08:00        0.837838           74\n",
       "1499  2021-02-17 16:47:57+08:00        0.837838           74\n",
       "\n",
       "[1500 rows x 3 columns]"
      ]
     },
     "execution_count": 24,
     "metadata": {},
     "output_type": "execute_result"
    }
   ],
   "source": [
    "test = df[df.vehicle_id == 123200872686]\n",
    "test.sort_values('datetime').iloc[:1500,:][['datetime','agg_speed_mean','num_periods']]"
   ]
  },
  {
   "cell_type": "code",
   "execution_count": 25,
   "id": "f70dd1f0",
   "metadata": {
    "ExecuteTime": {
     "end_time": "2022-06-02T02:25:05.303383Z",
     "start_time": "2022-06-02T02:25:03.424710Z"
    }
   },
   "outputs": [
    {
     "data": {
      "image/png": "[encoded data removed]",
      "text/plain": [
       "<Figure size 1440x360 with 1 Axes>"
      ]
     },
     "metadata": {
      "needs_background": "light"
     },
     "output_type": "display_data"
    }
   ],
   "source": [
    "test.sort_values('datetime').iloc[400:1200,:][['datetime', 'num_periods']].plot.scatter(x='datetime', y='num_periods', figsize=(20, 5));"
   ]
  }
 ],
 "metadata": {
  "hide_input": false,
  "kernelspec": {
   "display_name": "Python 3 (ipykernel)",
   "language": "python",
   "name": "python3"
  },
  "language_info": {
   "codemirror_mode": {
    "name": "ipython",
    "version": 3
   },
   "file_extension": ".py",
   "mimetype": "text/x-python",
   "name": "python",
   "nbconvert_exporter": "python",
   "pygments_lexer": "ipython3",
   "version": "3.9.7"
  },
  "toc": {
   "base_numbering": 1,
   "nav_menu": {},
   "number_sections": true,
   "sideBar": true,
   "skip_h1_title": false,
   "title_cell": "Table of Contents",
   "title_sidebar": "Contents",
   "toc_cell": false,
   "toc_position": {},
   "toc_section_display": true,
   "toc_window_display": false
  }
 },
 "nbformat": 4,
 "nbformat_minor": 5
}
